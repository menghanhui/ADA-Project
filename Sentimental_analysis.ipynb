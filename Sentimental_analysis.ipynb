{
 "cells": [
  {
   "cell_type": "code",
   "execution_count": null,
   "metadata": {},
   "outputs": [],
   "source": [
    "import pandas as pd\n",
    "import numpy as np\n",
    "import matplotlib.pyplot as plt\n",
    "import re\n",
    "from textblob import TextBlob\n",
    "import time \n",
    "#from python_translate.translations import Translator"
   ]
  },
  {
   "cell_type": "code",
   "execution_count": null,
   "metadata": {},
   "outputs": [],
   "source": [
    "italian_tweets_text = pd.read_csv('italian_tweet_text_notusa.csv',header=None)"
   ]
  },
  {
   "cell_type": "code",
   "execution_count": null,
   "metadata": {},
   "outputs": [],
   "source": [
    "stopwords = pd.read_json('stopwords-it.json')"
   ]
  },
  {
   "cell_type": "code",
   "execution_count": null,
   "metadata": {},
   "outputs": [],
   "source": [
    "italian_tweets_text.head()"
   ]
  },
  {
   "cell_type": "code",
   "execution_count": null,
   "metadata": {},
   "outputs": [],
   "source": [
    "stopwords = stopwords[0].tolist()"
   ]
  },
  {
   "cell_type": "code",
   "execution_count": null,
   "metadata": {},
   "outputs": [],
   "source": [
    "italian_tweets_text.shape[0]"
   ]
  },
  {
   "cell_type": "code",
   "execution_count": null,
   "metadata": {},
   "outputs": [],
   "source": [
    "def clean_tweet(tweet):\n",
    "    '''\n",
    "    Clean the text in a tweet by removing links and special characters using regex.\n",
    "    '''\n",
    "    tweet_nolink = re.sub(r'(\\s)https\\w+', r'', tweet.lower())\n",
    "    \n",
    "    return ' '.join(re.sub(\"(@[A-Za-z0-9]+)|([^0-9A-Za-z \\t])|(\\w+:\\/\\/\\S+)\", \" \", tweet_nolink).split())"
   ]
  },
  {
   "cell_type": "code",
   "execution_count": null,
   "metadata": {},
   "outputs": [],
   "source": [
    "#from langdetect import detect\n",
    "# Create a text file \n",
    "#def create_txt(italian_tweets_text):\n",
    "#    italian_tweets_text = italian_tweets_text[1]\n",
    "#    italian_tweet = italian_tweets_text[[detect(a)!= 'en' for a in italian_tweets_text]]\n",
    "    \n",
    "#    with open('tweet.txt', 'w') as f:\n",
    "#        [f.write(clean_tweet(tweet) +'.\\n') for tweet in italian_tweet]"
   ]
  },
  {
   "cell_type": "code",
   "execution_count": null,
   "metadata": {},
   "outputs": [],
   "source": [
    "#create_txt(italian_tweets_text)"
   ]
  },
  {
   "cell_type": "code",
   "execution_count": null,
   "metadata": {},
   "outputs": [],
   "source": [
    "def translate(tweet):\n",
    "    '''\n",
    "    Translate Italian tweets to English\n",
    "    '''\n",
    "    blob = TextBlob(tweet)\n",
    "    if (blob.detect_language() != \"en\"):\n",
    "        tweet = blob.translate(to = \"en\")\n",
    "    time.sleep(2)\n",
    "    return str(tweet)"
   ]
  },
  {
   "cell_type": "code",
   "execution_count": null,
   "metadata": {},
   "outputs": [],
   "source": [
    "#file = open('tweet.txt','r') \n",
    "#english = translate(file)"
   ]
  },
  {
   "cell_type": "code",
   "execution_count": null,
   "metadata": {},
   "outputs": [],
   "source": [
    "#english"
   ]
  },
  {
   "cell_type": "code",
   "execution_count": null,
   "metadata": {},
   "outputs": [],
   "source": [
    "def analize_sentiment(tweet):\n",
    "    '''\n",
    "    Classify the polarity of a tweet.\n",
    "    '''\n",
    "    cleaned_tweet = translate(clean_tweet(tweet))\n",
    "    analysis = TextBlob(cleaned_tweet)\n",
    "    #if analysis.sentiment.polarity > 0:\n",
    "    #    return 1\n",
    "    #elif analysis.sentiment.polarity == 0:\n",
    "    #    return 0\n",
    "    #else:\n",
    "    #    return -1\n",
    "    return analysis"
   ]
  },
  {
   "cell_type": "code",
   "execution_count": null,
   "metadata": {},
   "outputs": [],
   "source": [
    "First_part_sentiment = np.array([analize_sentiment(tweet) for tweet in italian_tweets_text[1][0:8912]])"
   ]
  },
  {
   "cell_type": "code",
   "execution_count": null,
   "metadata": {},
   "outputs": [],
   "source": [
    "df1 = pd.DataFrame({'index':italian_tweets_text[0][0:17824],\n",
    "                     'tweet':italian_tweets_text[1][0:17824],\n",
    "                     'sentiment':First_part_sentiment})\n",
    "df1.to_csv(\"df1.csv\")"
   ]
  },
  {
   "cell_type": "code",
   "execution_count": null,
   "metadata": {},
   "outputs": [],
   "source": [
    "Second_part_sentiment = np.array([analize_sentiment(tweet) for tweet in italian_tweets_text[1][8913:17825]])"
   ]
  },
  {
   "cell_type": "code",
   "execution_count": null,
   "metadata": {},
   "outputs": [],
   "source": [
    "df2 = pd.DataFrame({'index':italian_tweets_text[0][17825:38629],\n",
    "                     'tweet':italian_tweets_text[1][17825:38629],\n",
    "                     'sentiment':Second_part_sentiment})\n",
    "df2.to_csv(\"df2.csv\")"
   ]
  },
  {
   "cell_type": "code",
   "execution_count": null,
   "metadata": {},
   "outputs": [],
   "source": [
    "Third_part_sentiment = np.array([analize_sentiment(tweet) for tweet in italian_tweets_text[1][17826:28227]])"
   ]
  },
  {
   "cell_type": "code",
   "execution_count": null,
   "metadata": {},
   "outputs": [],
   "source": [
    "df3 = pd.DataFrame({'index':italian_tweets_text[0][17825:38629],\n",
    "                     'tweet':italian_tweets_text[1][17825:38629],\n",
    "                     'sentiment':Third_part_sentiment})\n",
    "df3.to_csv(\"df3.csv\")"
   ]
  },
  {
   "cell_type": "code",
   "execution_count": null,
   "metadata": {},
   "outputs": [],
   "source": [
    "Fourth_part_sentiment = np.array([analize_sentiment(tweet) for tweet in italian_tweets_text[1][28228:38629]])"
   ]
  },
  {
   "cell_type": "code",
   "execution_count": null,
   "metadata": {},
   "outputs": [],
   "source": [
    "df4 = pd.DataFrame({'index':italian_tweets_text[0][17825:38629],\n",
    "                     'tweet':italian_tweets_text[1][17825:38629],\n",
    "                     'sentiment':Fourth_part_sentiment})\n",
    "df4.to_csv(\"df4.csv\")"
   ]
  },
  {
   "cell_type": "code",
   "execution_count": null,
   "metadata": {},
   "outputs": [],
   "source": [
    "# We create a column with the result of the analysis:\n",
    "#italian_tweets_text['SA'] = np.array([analize_sentiment(tweet) for tweet in italian_tweets_text[1]])"
   ]
  },
  {
   "cell_type": "code",
   "execution_count": null,
   "metadata": {},
   "outputs": [],
   "source": []
  }
 ],
 "metadata": {
  "kernelspec": {
   "display_name": "Python 3",
   "language": "python",
   "name": "python3"
  },
  "language_info": {
   "codemirror_mode": {
    "name": "ipython",
    "version": 3
   },
   "file_extension": ".py",
   "mimetype": "text/x-python",
   "name": "python",
   "nbconvert_exporter": "python",
   "pygments_lexer": "ipython3",
   "version": "3.6.5"
  }
 },
 "nbformat": 4,
 "nbformat_minor": 2
}
