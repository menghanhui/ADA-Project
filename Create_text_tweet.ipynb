{
 "cells": [
  {
   "cell_type": "code",
   "execution_count": 5,
   "metadata": {},
   "outputs": [],
   "source": [
    "import pandas as pd\n",
    "import numpy as np\n",
    "import matplotlib.pyplot as plt\n",
    "import re"
   ]
  },
  {
   "cell_type": "code",
   "execution_count": 6,
   "metadata": {},
   "outputs": [],
   "source": [
    "italian_tweets_new = pd.read_csv('italian_tweets.csv')\n",
    "italian_tweets_old = pd.read_csv('italian_tweets_old.csv')\n",
    "italian_tweets_old_notusa = pd.read_csv('italian_tweets_old_notusa.csv')"
   ]
  },
  {
   "cell_type": "code",
   "execution_count": 7,
   "metadata": {},
   "outputs": [],
   "source": [
    "#italian_tweets_new.head()\n",
    "#italian_tweets_old.head()"
   ]
  },
  {
   "cell_type": "code",
   "execution_count": 8,
   "metadata": {},
   "outputs": [
    {
     "name": "stdout",
     "output_type": "stream",
     "text": [
      "(18254,) (20376,)\n"
     ]
    }
   ],
   "source": [
    "old_content = italian_tweets_old.content\n",
    "old_content_notusa = italian_tweets_old_notusa.content\n",
    "new_content = italian_tweets_new.tweet_text\n",
    "print(old_content.shape,new_content.shape)"
   ]
  },
  {
   "cell_type": "code",
   "execution_count": 18,
   "metadata": {},
   "outputs": [
    {
     "data": {
      "text/plain": [
       "(56884,)"
      ]
     },
     "execution_count": 18,
     "metadata": {},
     "output_type": "execute_result"
    }
   ],
   "source": [
    "content = pd.concat([old_content,new_content],axis=0)\n",
    "content.shape"
   ]
  },
  {
   "cell_type": "code",
   "execution_count": 9,
   "metadata": {},
   "outputs": [],
   "source": [
    "new_content = pd.concat([old_content_notusa,new_content],axis=0)"
   ]
  },
  {
   "cell_type": "code",
   "execution_count": 10,
   "metadata": {},
   "outputs": [
    {
     "data": {
      "text/plain": [
       "0        Masterchef, il vincitore è Valerio Braschi #Ma...\n",
       "1        Sternhell ci spiega il nazionalismo razzista e...\n",
       "2        https://t.co/CHnirfPdLO  I #Sioux sono arrivat...\n",
       "3        La stagione 7 di #GamesOfThrones in tv dal 16 ...\n",
       "4        Su Left in edicola domani il racconto (e le in...\n",
       "5        Caso #Consip, Tiziano #Renzi si autosospende d...\n",
       "6        Peggio di #linkedin che non funziona c'è chi d...\n",
       "7        Morire di Amazon: così l’e-commerce farà spari...\n",
       "8        Come fa, uno, a farsi chiamare direttore creat...\n",
       "9        #InterAtalanta #Gasperini: \"Vendetta sull'#Int...\n",
       "10       Alstom e Ntl lanciano Aptis, soluzione di mobi...\n",
       "11       .@daniesilvestri-@CarmenConsoli-@MaxGazze insi...\n",
       "12       #Lega, domani @matteosalvinimi a #Napoli: atti...\n",
       "13       Zero trasparenza, soliti noti. La partita dell...\n",
       "14       Minacce e insulti per \"La ciociara\" hard Ecco ...\n",
       "15       Anche Tiziano #Renzi lascia la segreteria del ...\n",
       "16       Allarme Aviaria Strage allo zoo di #Vienna Mor...\n",
       "17       Panico nella metro di #Roma, folle tenta di ag...\n",
       "18       Torna a casa #bimba rapita 5 anni fa dal padre...\n",
       "19       Statua gigante di #RamsesII torna a farci sogn...\n",
       "20       Italiano, istruito e con un lavoro: l’identiki...\n",
       "21       Come Nina Bunjevac salverà il mondo dei fumett...\n",
       "22       L’inquinamento ambientale che fa strage di #ba...\n",
       "23       Semplicemente, questo oggi è l’unico gruppo po...\n",
       "24       La gentrification dei meme: un'intervista agli...\n",
       "25       #Emma tra le braccia della #mamma, era stata r...\n",
       "26       Il #Papa apre al #sacerdozio per gli uomini #s...\n",
       "27       #Napoli, dopo polemiche e proteste salta la ma...\n",
       "28       #Salvini a #Napoli, interviene #Minniti: gli v...\n",
       "29       Conti online, 10 regole per difendersi dai fur...\n",
       "                               ...                        \n",
       "20346                 A fire inside http://t.co/zoRg2J96EA\n",
       "20347          pepperoni pizza roll http://t.co/nBF8KcjXwm\n",
       "20348                    Bellissimo http://t.co/1H7gPi0T7X\n",
       "20349    RT @279669c7ed8b9561873570d1c7de8b3b4f3a3cbbce...\n",
       "20350    RT @7c1a9c14d2317e0b1f1e79204c6b9b300e9748e139...\n",
       "20351    @9678c1a69037cd0120d6558a39695b84bab18b30abc55...\n",
       "20352    RT @horrortwits: by Nicola Samorì. https://t.c...\n",
       "20353                    Bellissimo http://t.co/aCNRYSd611\n",
       "20354    RT @gloed_up: #Racism in America https://t.co/...\n",
       "20355    RT @Sukhovaampiclol: http://t.co/3Bc7Ib0tEC Sc...\n",
       "20356    @5d6bcfe7c051f9a5a06615a73280b6f9a6e5477fcb18f...\n",
       "20357                    @Politweecs ahahaha made me laugh\n",
       "20358    RT @TalibKweli: RT @ForTheByrdz: @AkiMuthali @...\n",
       "20359    RT @5048565777ba6afc0fa9bbed159621e058b7e8cf17...\n",
       "20360    @06dd583d55075eb926897ef48a2415afc1776718c86b6...\n",
       "20361                                            L'America\n",
       "20362    Neocolonialism?  ‘One China In Africa’  https:...\n",
       "20363                 cisco android http://t.co/XcZADTKv1y\n",
       "20364    RT @Khakimovdempluc: http://t.co/d0MIDiofHi Ba...\n",
       "20365                                            L'America\n",
       "20366                  Laboratorium http://t.co/MQ2SkcVmef\n",
       "20367                             Buongiorno, Principessa!\n",
       "20368               Senza coment.. #MariaMozhaiskayHappyNY\n",
       "20369                    Bellissimo http://t.co/gD9ugS3XJw\n",
       "20370    RT @ausoloda: @svetaring @ewgnik @_belka_strel...\n",
       "20371    @cae99ca28cae02e04c98718c0c220b53aca379bf657d0...\n",
       "20372    @d6a768cd1a12bfd9358278ec3cd21653f0ea10fa2e2a0...\n",
       "20373    RT @7c1a9c14d2317e0b1f1e79204c6b9b300e9748e139...\n",
       "20374    RT @5cb7b222ace8a4139a8ece60afeca86fb0b2638ed3...\n",
       "20375              RT @mikememoli: Non-sarcastic Natitude!\n",
       "Length: 38630, dtype: object"
      ]
     },
     "execution_count": 10,
     "metadata": {},
     "output_type": "execute_result"
    }
   ],
   "source": [
    "new_content"
   ]
  },
  {
   "cell_type": "code",
   "execution_count": 11,
   "metadata": {},
   "outputs": [],
   "source": [
    "regex = re.compile('[^a-zA-Z ]')"
   ]
  },
  {
   "cell_type": "code",
   "execution_count": 14,
   "metadata": {},
   "outputs": [],
   "source": [
    "def returntest(text):\n",
    "    text=regex.sub('',text)\n",
    "    #list_words= text.split()\n",
    "    #for word in list_words:\n",
    "    #    if len(word)<4:\n",
    "    #       text.remove(word)                           \n",
    "    return text"
   ]
  },
  {
   "cell_type": "code",
   "execution_count": 19,
   "metadata": {},
   "outputs": [],
   "source": [
    "new_text = content.apply(returntest)"
   ]
  },
  {
   "cell_type": "code",
   "execution_count": 15,
   "metadata": {},
   "outputs": [],
   "source": [
    "new_text_notusa = new_content.apply(returntest)"
   ]
  },
  {
   "cell_type": "code",
   "execution_count": 20,
   "metadata": {},
   "outputs": [
    {
     "data": {
      "text/plain": [
       "0        Masterchef il vincitore  Valerio Braschi Maste...\n",
       "1        Sternhell ci spiega il nazionalismo razzista e...\n",
       "2        httpstcoCHnirfPdLO  I Sioux sono arrivati a Wa...\n",
       "3        La stagione  di GamesOfThrones in tv dal  lugl...\n",
       "4        Su Left in edicola domani il racconto e le int...\n",
       "5        Caso Consip Tiziano Renzi si autosospende da s...\n",
       "6        Peggio di linkedin che non funziona c chi dice...\n",
       "7        Morire di Amazon cos lecommerce far sparire i ...\n",
       "8        Come fa uno a farsi chiamare direttore creativ...\n",
       "9        InterAtalanta Gasperini Vendetta sullInter No ...\n",
       "10       Alstom e Ntl lanciano Aptis soluzione di mobil...\n",
       "11       daniesilvestriCarmenConsoliMaxGazze insieme pe...\n",
       "12       Lega domani matteosalvinimi a Napoli attivisti...\n",
       "13       Zero trasparenza soliti noti La partita delle ...\n",
       "14       Minacce e insulti per La ciociara hard Ecco la...\n",
       "15       Anche Tiziano Renzi lascia la segreteria del P...\n",
       "16       Allarme Aviaria Strage allo zoo di Vienna Mort...\n",
       "17       Panico nella metro di Roma folle tenta di aggr...\n",
       "18       Torna a casa bimba rapita  anni fa dal padre e...\n",
       "19       Statua gigante di RamsesII torna a farci sogna...\n",
       "20       Italiano istruito e con un lavoro lidentikit d...\n",
       "21       Come Nina Bunjevac salver il mondo dei fumetti...\n",
       "22       Linquinamento ambientale che fa strage di bamb...\n",
       "23       Semplicemente questo oggi  lunico gruppo pop c...\n",
       "24       La gentrification dei meme unintervista agli a...\n",
       "25       Emma tra le braccia della mamma era stata rapi...\n",
       "26       Il Papa apre al sacerdozio per gli uomini spos...\n",
       "27       Napoli dopo polemiche e proteste salta la mani...\n",
       "28       Salvini a Napoli interviene Minniti gli venga ...\n",
       "29       Conti online  regole per difendersi dai furti ...\n",
       "                               ...                        \n",
       "20346                         A fire inside httptcozoRgJEA\n",
       "20347                pepperoni pizza roll httptconBFKcjXwm\n",
       "20348                             Bellissimo httptcoHgPiTX\n",
       "20349    RT cedbdcdebbfacbbcebfcfffff Bellissimo httptc...\n",
       "20350    RT cacdebfecbbeefcfdbacc Bellissimo httptcoUMm...\n",
       "20351                   cacddabbabbabcbcdddbbbcf Ahahahah \n",
       "20352    RT horrortwits by Nicola Samor httpstcobNGzNRYanQ\n",
       "20353                            Bellissimo httptcoaCNRYSd\n",
       "20354       RT gloedup Racism in America httpstcoTdLjPyDNi\n",
       "20355           RT Sukhovaampiclol httptcoBcIbtEC Scariolo\n",
       "20356                dbcfecfaaabfaefcbffbbacaddc Ahahahah \n",
       "20357                     Politweecs ahahaha made me laugh\n",
       "20358    RT TalibKweli RT ForTheByrdz AkiMuthali TalibK...\n",
       "20359    RT baafcfabbedebecfafbffadccdf Bellissimo http...\n",
       "20360                       dddebefaafccbaceaedd Ahahahah \n",
       "20361                                             LAmerica\n",
       "20362    Neocolonialism  One China In Africa  httpstcof...\n",
       "20363                       cisco android httptcoXcZADTKvy\n",
       "20364    RT Khakimovdempluc httptcodMIDiofHi Banco Sant...\n",
       "20365                                             LAmerica\n",
       "20366                        Laboratorium httptcoMQSkcVmef\n",
       "20367                               Buongiorno Principessa\n",
       "20368                  Senza coment MariaMozhaiskayHappyNY\n",
       "20369                           Bellissimo httptcogDugSXJw\n",
       "20370    RT ausoloda svetaring ewgnik belkastrelka puti...\n",
       "20371         caecacaeecccbacabfdefecbdccdfaedcb Ahahahah \n",
       "20372                   dacdabfdeccdfeafaeadcecf Ahahahah \n",
       "20373    RT cacdebfecbbeefcfdbacc Bellissimo httptcoUMm...\n",
       "20374    RT cbbaceaaeceafecafbbededceea Bellissimo http...\n",
       "20375                  RT mikememoli Nonsarcastic Natitude\n",
       "Length: 56884, dtype: object"
      ]
     },
     "execution_count": 20,
     "metadata": {},
     "output_type": "execute_result"
    }
   ],
   "source": [
    "new_text"
   ]
  },
  {
   "cell_type": "code",
   "execution_count": 14,
   "metadata": {},
   "outputs": [],
   "source": [
    "new_text.to_csv('italian_tweet_text.csv')"
   ]
  },
  {
   "cell_type": "code",
   "execution_count": 21,
   "metadata": {},
   "outputs": [],
   "source": [
    "new_text_notusa.to_csv('italian_tweet_text_notusa.csv')"
   ]
  },
  {
   "cell_type": "code",
   "execution_count": 13,
   "metadata": {},
   "outputs": [],
   "source": [
    "new_text.to_excel('italian_tweet_text_V2.xlsx', header = [\"Tweet_content\"])"
   ]
  },
  {
   "cell_type": "code",
   "execution_count": null,
   "metadata": {},
   "outputs": [],
   "source": []
  }
 ],
 "metadata": {
  "kernelspec": {
   "display_name": "Python 3",
   "language": "python",
   "name": "python3"
  },
  "language_info": {
   "codemirror_mode": {
    "name": "ipython",
    "version": 3
   },
   "file_extension": ".py",
   "mimetype": "text/x-python",
   "name": "python",
   "nbconvert_exporter": "python",
   "pygments_lexer": "ipython3",
   "version": "3.6.5"
  }
 },
 "nbformat": 4,
 "nbformat_minor": 2
}
