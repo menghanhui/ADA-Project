{
 "cells": [
  {
   "cell_type": "code",
   "execution_count": null,
   "metadata": {},
   "outputs": [],
   "source": [
    "import os\n",
    "import pandas as pd\n",
    "import json\n",
    "import folium\n",
    "import numpy as np\n",
    "#import zipfile\n",
    "import matplotlib.pyplot as plt\n",
    "#from geopy.geocoders import Nominatim\n",
    "#from IPython.display import Markdown as md\n",
    "#from IPython.display import HTML\n",
    "#from IPython.display import display\n",
    "#from branca.colormap import LinearColormap"
   ]
  },
  {
   "cell_type": "markdown",
   "metadata": {},
   "source": [
    "THIS PART IS RELATED TO GEOGRAPHICAL ANALYSIS"
   ]
  },
  {
   "cell_type": "code",
   "execution_count": null,
   "metadata": {},
   "outputs": [],
   "source": [
    "# Here there are both regions and provinces info"
   ]
  },
  {
   "cell_type": "code",
   "execution_count": null,
   "metadata": {},
   "outputs": [],
   "source": [
    "data_map = './italy/'"
   ]
  },
  {
   "cell_type": "code",
   "execution_count": null,
   "metadata": {},
   "outputs": [],
   "source": [
    "italy_geo_path = data_map+'italy-regions.json'\n",
    "italy_json_data = json.load(open(italy_geo_path))\n",
    "m_it = folium.Map([42,12.33], tiles='cartodbpositron', zoom_start=5.5)"
   ]
  },
  {
   "cell_type": "code",
   "execution_count": null,
   "metadata": {},
   "outputs": [],
   "source": [
    "folium.TopoJson(italy_json_data, '????????????????',\n",
    "                style_function=lambda x: {\n",
    "                    'fillColor': 'YlOrRd',\n",
    "                    'color' : 'black',\n",
    "                    'weight' : 2,\n",
    "                }).add_to(m_it)\n",
    "\n",
    "m_it"
   ]
  },
  {
   "cell_type": "markdown",
   "metadata": {},
   "source": [
    "ADD TO MILESTONE 2 BEFORE RUNNING"
   ]
  },
  {
   "cell_type": "code",
   "execution_count": null,
   "metadata": {},
   "outputs": [],
   "source": [
    "m_it = folium.Map([42,12.33], tiles='cartodbpositron', zoom_start=5.5)\n",
    "m_it.choropleth(geo_data=italy_json_data, data=reg,\n",
    "             columns=['regione', 'tot'],\n",
    "             key_on='???', \n",
    "             topojson='???',\n",
    "             fill_color='BuPu', fill_opacity=0.7, line_opacity=0.2,\n",
    "             legend_name='Distribution of tweets citations of Italian regions')\n",
    "m_it"
   ]
  }
 ],
 "metadata": {
  "kernelspec": {
   "display_name": "Python 3",
   "language": "python",
   "name": "python3"
  },
  "language_info": {
   "codemirror_mode": {
    "name": "ipython",
    "version": 3
   },
   "file_extension": ".py",
   "mimetype": "text/x-python",
   "name": "python",
   "nbconvert_exporter": "python",
   "pygments_lexer": "ipython3",
   "version": "3.6.5"
  }
 },
 "nbformat": 4,
 "nbformat_minor": 2
}
