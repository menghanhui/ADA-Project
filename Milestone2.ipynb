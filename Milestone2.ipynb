{
 "cells": [
  {
   "cell_type": "markdown",
   "metadata": {},
   "source": [
    "# Milestone 2\n",
    "\n",
    "### 1. Data Reading and Exploration\n",
    "\n",
    "### Reading the data"
   ]
  },
  {
   "cell_type": "code",
   "execution_count": 1,
   "metadata": {
    "collapsed": true
   },
   "outputs": [],
   "source": [
    "import pandas as pd\n",
    "import numpy as np\n",
    "import matplotlib.pyplot as plt\n",
    "from datetime import datetime\n",
    "from zipfile import ZipFile"
   ]
  },
  {
   "cell_type": "code",
   "execution_count": null,
   "metadata": {
    "collapsed": true
   },
   "outputs": [],
   "source": [
    "# Read the first IRA dataset\n",
    "data_folder = './data/'\n",
    "zip_file = ZipFile(data_folder+'russian-troll-tweets.zip')\n",
    "fs = {text_file.filename: pd.read_csv(zip_file.open(text_file.filename))\n",
    "       for text_file in zip_file.infolist()\n",
    "       if text_file.filename.endswith('.csv')}"
   ]
  },
  {
   "cell_type": "code",
   "execution_count": null,
   "metadata": {
    "collapsed": true
   },
   "outputs": [],
   "source": [
    "fs['IRAhandle_tweets_1.csv'].head(1)"
   ]
  },
  {
   "cell_type": "code",
   "execution_count": null,
   "metadata": {
    "collapsed": true
   },
   "outputs": [],
   "source": [
    "data=pd.DataFrame()\n",
    "for key,val in fs.items():\n",
    "    data=pd.concat([data,val])"
   ]
  },
  {
   "cell_type": "code",
   "execution_count": null,
   "metadata": {
    "collapsed": true
   },
   "outputs": [],
   "source": [
    "# Read the second IRA dataset\n",
    "zip_file = ZipFile(data_folder+'ira_tweets_new.zip')\n",
    "interesting = ['rus_troll_tweet_text.csv',\n",
    "               'rus_troll_tweet_stats.csv',\n",
    "               'rus_troll_tweet_metadata.csv']\n",
    "fs = {text_file.filename: pd.read_csv(zip_file.open(text_file.filename))\n",
    "       for text_file in zip_file.infolist()\n",
    "       if text_file.filename in interesting}"
   ]
  },
  {
   "cell_type": "code",
   "execution_count": null,
   "metadata": {
    "collapsed": true
   },
   "outputs": [],
   "source": [
    "datanew=pd.DataFrame()\n",
    "for key,val in fs.items():\n",
    "    datanew=pd.concat([datanew,val], axis=1, sort=False)"
   ]
  },
  {
   "cell_type": "code",
   "execution_count": null,
   "metadata": {
    "collapsed": true
   },
   "outputs": [],
   "source": [
    "data4 = pd.read_csv(zip_file.open('rus_troll_user.csv'))\n",
    "italian_tweets = datanew[datanew.tweet_language == 'it']\n",
    "italian_tweets = pd.merge(italian_tweets, data4, on ='userid')\n",
    "italian_tweets.shape\n",
    "italian_tweets.to_csv(\"italian_tweets.csv\")\n",
    "italian_tweets.head(20)"
   ]
  },
  {
   "cell_type": "code",
   "execution_count": null,
   "metadata": {
    "collapsed": true
   },
   "outputs": [],
   "source": [
    "# Read the second IRA dataset\n",
    "zip_file = ZipFile(data_folder+'ira_tweets_new.zip')\n",
    "data1 = pd.read_csv(zip_file.open('rus_troll_tweet_text.csv'))\n",
    "data2 = pd.read_csv(zip_file.open('rus_troll_tweet_stats.csv'))\n",
    "data3 = pd.read_csv(zip_file.open('rus_troll_tweet_metadata.csv'))\n",
    "data4 = pd.read_csv(zip_file.open('rus_troll_user.csv'))"
   ]
  },
  {
   "cell_type": "code",
   "execution_count": null,
   "metadata": {
    "collapsed": true
   },
   "outputs": [],
   "source": [
    "print(data1.shape,data2.shape,data3.shape,data4.shape)"
   ]
  },
  {
   "cell_type": "code",
   "execution_count": null,
   "metadata": {
    "collapsed": true
   },
   "outputs": [],
   "source": [
    "data = pd.concat([data1, data2, data3], axis=1, sort=False)\n",
    "italian_tweets = data[data.tweet_language == 'it']\n",
    "italian_tweets = pd.merge(italian_tweets, data4, on ='userid')\n",
    "italian_tweets.shape\n",
    "italian_tweets.to_csv(\"italian_tweets.csv\")\n",
    "italian_tweets.head(20)"
   ]
  },
  {
   "cell_type": "code",
   "execution_count": null,
   "metadata": {
    "collapsed": true
   },
   "outputs": [],
   "source": [
    "data.isnull().any()"
   ]
  },
  {
   "cell_type": "code",
   "execution_count": null,
   "metadata": {
    "collapsed": true
   },
   "outputs": [],
   "source": [
    "data[data.region.isnull()]"
   ]
  },
  {
   "cell_type": "code",
   "execution_count": null,
   "metadata": {
    "collapsed": true
   },
   "outputs": [],
   "source": [
    "italian_tweets.region.unique()"
   ]
  },
  {
   "cell_type": "code",
   "execution_count": null,
   "metadata": {
    "collapsed": true
   },
   "outputs": [],
   "source": [
    "data.language.unique()"
   ]
  },
  {
   "cell_type": "markdown",
   "metadata": {},
   "source": [
    "### Authors: following and followers"
   ]
  },
  {
   "cell_type": "code",
   "execution_count": 191,
   "metadata": {},
   "outputs": [
    {
     "data": {
      "text/plain": [
       "Index(['Unnamed: 0', 'tweetid', 'tweet_language', 'tweet_text', 'tweetid.1',\n",
       "       'userid', 'tweet_time', 'in_reply_to_tweetid', 'in_reply_to_userid',\n",
       "       'quoted_tweet_tweetid', 'is_retweet', 'retweet_userid',\n",
       "       'retweet_tweetid', 'quote_count', 'reply_count', 'like_count',\n",
       "       'retweet_count', 'hashtags', 'urls', 'user_mentions', 'poll_choices',\n",
       "       'tweetid.2', 'follower_count_x', 'following_count_x', 'latitude',\n",
       "       'longitude', 'tweet_client_name', 'user_display_name',\n",
       "       'user_screen_name', 'user_reported_location',\n",
       "       'user_profile_description', 'user_profile_url', 'account_creation_date',\n",
       "       'account_language', 'follower_count_y', 'following_count_y',\n",
       "       'last_tweet_at'],\n",
       "      dtype='object')"
      ]
     },
     "execution_count": 191,
     "metadata": {},
     "output_type": "execute_result"
    }
   ],
   "source": [
    "italian_tweets = pd.read_csv('italian_tweets.csv')\n",
    "italian_tweets_old = pd.read_csv('italian_tweets_old.csv')\n",
    "italian_tweets.columns"
   ]
  },
  {
   "cell_type": "code",
   "execution_count": 192,
   "metadata": {},
   "outputs": [
    {
     "data": {
      "text/plain": [
       "0    378410ae3ae135e4f2271e4cad9190bae2d5b029c5888114a7b0088342751a90\n",
       "Name: user_display_name, dtype: object"
      ]
     },
     "execution_count": 192,
     "metadata": {},
     "output_type": "execute_result"
    }
   ],
   "source": [
    "italian_tweets.user_display_name.head(1)"
   ]
  },
  {
   "cell_type": "code",
   "execution_count": 193,
   "metadata": {},
   "outputs": [
    {
     "data": {
      "text/plain": [
       "Index(['Unnamed: 0', 'external_author_id', 'author', 'content', 'region',\n",
       "       'language', 'publish_date', 'harvested_date', 'following', 'followers',\n",
       "       'updates', 'post_type', 'account_type', 'new_june_2018', 'retweet',\n",
       "       'account_category'],\n",
       "      dtype='object')"
      ]
     },
     "execution_count": 193,
     "metadata": {},
     "output_type": "execute_result"
    }
   ],
   "source": [
    "italian_tweets_old.columns"
   ]
  },
  {
   "cell_type": "code",
   "execution_count": 194,
   "metadata": {
    "collapsed": true
   },
   "outputs": [],
   "source": [
    "italian_tweets['tweet_time'] =  pd.to_datetime(italian_tweets['tweet_time'], format='%Y/%m/%d %H:%M')\n",
    "italian_tweets_old['publish_date'] =  pd.to_datetime(italian_tweets_old['publish_date'], format='%m/%d/%Y %H:%M')"
   ]
  },
  {
   "cell_type": "code",
   "execution_count": 195,
   "metadata": {
    "collapsed": true
   },
   "outputs": [],
   "source": [
    "italian_tweets=italian_tweets.rename(index=str, columns={\"user_display_name\":\"author\",\n",
    "                                                         \"follower_count_x\": \"followers\",\n",
    "                                                         \"following_count_x\": \"following\",\n",
    "                                                         \"tweet_time\":\"time\"})\n",
    "italian_tweets_old=italian_tweets_old.rename(index=str, columns={\"publish_date\":\"time\"})"
   ]
  },
  {
   "cell_type": "code",
   "execution_count": 196,
   "metadata": {
    "collapsed": true
   },
   "outputs": [],
   "source": [
    "followers=pd.concat([italian_tweets[['author','followers','time']],italian_tweets_old[['author','followers','time']]])\n",
    "followers=followers.groupby('author').agg({'followers': 'max'}).rename(columns={'followers':'max_followers'})\n",
    "\n",
    "following=pd.concat([italian_tweets[['author','following','time']],italian_tweets_old[['author','following','time']]])\n",
    "following=following.groupby('author').agg({'following': 'max'}).rename(columns={'following':'max_following'})"
   ]
  },
  {
   "cell_type": "code",
   "execution_count": 197,
   "metadata": {
    "collapsed": true
   },
   "outputs": [],
   "source": [
    "avgfollowers=pd.concat([italian_tweets[['author','followers','time']],italian_tweets_old[['author','followers','time']]])\n",
    "avgfollowers=avgfollowers.groupby('author').agg({'followers': 'mean'}).rename(columns={'followers':'mean_followers'})\n",
    "\n",
    "avgfollowing=pd.concat([italian_tweets[['author','following','time']],italian_tweets_old[['author','following','time']]])\n",
    "avgfollowing=avgfollowing.groupby('author').agg({'following': 'mean'}).rename(columns={'following':'mean_following'})"
   ]
  },
  {
   "cell_type": "code",
   "execution_count": 50,
   "metadata": {},
   "outputs": [
    {
     "data": {
      "image/png": "[encoded data removed]",
      "text/plain": [
       "<matplotlib.figure.Figure at 0x11fb84a20>"
      ]
     },
     "metadata": {},
     "output_type": "display_data"
    }
   ],
   "source": [
    "fig=plt.figure(figsize=(20,10))\n",
    "fig.suptitle('Visualization of the distribution of following/followers', fontsize=14, fontweight='bold')\n",
    "\n",
    "ax = fig.add_subplot(221)\n",
    "ax.hist(following.max_following,bins=100,log=True)\n",
    "ax.set_xlabel('Number of following')\n",
    "ax.set_ylabel('Counts')\n",
    "ax.set_title(r'Following')\n",
    "plt.locator_params(axis='x',nbins=6)\n",
    "\n",
    "ax2 = fig.add_subplot(222)\n",
    "ax2.hist(followers.max_followers,bins=100,log=True)\n",
    "ax2.set_xlabel('Number of followers')\n",
    "ax2.set_ylabel('Counts')\n",
    "ax2.set_title(r'Followers')\n",
    "plt.locator_params(axis='x',nbins=6)\n",
    "\n",
    "ax3 = fig.add_subplot(223)\n",
    "ax3.hist(avgfollowing.mean_following,bins=100,log=True)\n",
    "ax3.set_xlabel('Number of following')\n",
    "ax3.set_ylabel('Counts')\n",
    "ax3.set_title(r'Following')\n",
    "plt.locator_params(axis='x',nbins=6)\n",
    "\n",
    "ax4 = fig.add_subplot(224)\n",
    "ax4.hist(avgfollowers.mean_followers,bins=100,log=True)\n",
    "ax4.set_xlabel('Number of followers')\n",
    "ax4.set_ylabel('Counts')\n",
    "ax4.set_title(r'Followers')\n",
    "plt.locator_params(axis='x',nbins=6)\n",
    "\n",
    "plt.show()"
   ]
  },
  {
   "cell_type": "code",
   "execution_count": 90,
   "metadata": {
    "collapsed": true
   },
   "outputs": [],
   "source": [
    "counters=italian_tweets.groupby('author').count()\n",
    "less_following = following.loc[following['max_following'] < 50000]\n",
    "less_followers = followers.loc[followers['max_followers'] < 50000]"
   ]
  },
  {
   "cell_type": "code",
   "execution_count": 91,
   "metadata": {},
   "outputs": [
    {
     "data": {
      "image/png": "[encoded data removed]",
      "text/plain": [
       "<matplotlib.figure.Figure at 0x1161e4828>"
      ]
     },
     "metadata": {},
     "output_type": "display_data"
    }
   ],
   "source": [
    "fig=plt.figure(figsize=(10,4))\n",
    "fig.suptitle('Visualization of the distribution of following/followers', fontsize=14, fontweight='bold')\n",
    "ax = fig.add_subplot(121)\n",
    "\n",
    "ax.hist(less_following.max_following,bins=100, log=True)\n",
    "ax.set_xlabel('Number of following')\n",
    "ax.set_ylabel('Counts')\n",
    "ax.set_title(r'Following')\n",
    "plt.locator_params(axis='x',nbins=4)\n",
    "\n",
    "ax2 = fig.add_subplot(122)\n",
    "ax2.hist(less_followers.max_followers,bins=100,log=True)\n",
    "ax2.set_xlabel('Number of followers')\n",
    "ax2.set_ylabel('Counts')\n",
    "ax2.set_title(r'Followers')\n",
    "\n",
    "plt.show()"
   ]
  },
  {
   "cell_type": "code",
   "execution_count": 92,
   "metadata": {
    "collapsed": true
   },
   "outputs": [],
   "source": [
    "#counters[counters.external_author_id >100]"
   ]
  },
  {
   "cell_type": "markdown",
   "metadata": {},
   "source": [
    "### Authors: activity"
   ]
  },
  {
   "cell_type": "code",
   "execution_count": 198,
   "metadata": {},
   "outputs": [
    {
     "data": {
      "text/html": [
       "<div>\n",
       "<style scoped>\n",
       "    .dataframe tbody tr th:only-of-type {\n",
       "        vertical-align: middle;\n",
       "    }\n",
       "\n",
       "    .dataframe tbody tr th {\n",
       "        vertical-align: top;\n",
       "    }\n",
       "\n",
       "    .dataframe thead th {\n",
       "        text-align: right;\n",
       "    }\n",
       "</style>\n",
       "<table border=\"1\" class=\"dataframe\">\n",
       "  <thead>\n",
       "    <tr style=\"text-align: right;\">\n",
       "      <th></th>\n",
       "      <th>content</th>\n",
       "      <th>author</th>\n",
       "      <th>time</th>\n",
       "    </tr>\n",
       "  </thead>\n",
       "  <tbody>\n",
       "    <tr>\n",
       "      <th>0</th>\n",
       "      <td>RT @MuseoOmero: #14marzo #paesaggioitaliano Mole Vanvitelliana #Ancona un pentagono adagiato sull'acqua dal '700, un ex-lazzaretto oggi sed…</td>\n",
       "      <td>378410ae3ae135e4f2271e4cad9190bae2d5b029c5888114a7b0088342751a90</td>\n",
       "      <td>2017-03-14 11:10:00</td>\n",
       "    </tr>\n",
       "    <tr>\n",
       "      <th>1</th>\n",
       "      <td>RT @Radio3tweet: La ministra @valeriafedeli incontra gli studenti di Amatrice negli studi di via Asiago. Qui https://t.co/ptyaKX5Z6S #RaiPo…</td>\n",
       "      <td>378410ae3ae135e4f2271e4cad9190bae2d5b029c5888114a7b0088342751a90</td>\n",
       "      <td>2017-03-16 12:38:00</td>\n",
       "    </tr>\n",
       "    <tr>\n",
       "      <th>2</th>\n",
       "      <td>RT @Radio1Rai: NEWS/ Attacco #Londra: May riunisce comitato d'emergenza Cobra. https://t.co/B3nQ07EJ6o</td>\n",
       "      <td>378410ae3ae135e4f2271e4cad9190bae2d5b029c5888114a7b0088342751a90</td>\n",
       "      <td>2017-03-22 17:09:00</td>\n",
       "    </tr>\n",
       "    <tr>\n",
       "      <th>3</th>\n",
       "      <td>RT @PiazzapulitaLA7: Assolutamente non ci alleeremo con nessuno. @ale_dibattista  #piazzapulita</td>\n",
       "      <td>378410ae3ae135e4f2271e4cad9190bae2d5b029c5888114a7b0088342751a90</td>\n",
       "      <td>2017-03-23 21:27:00</td>\n",
       "    </tr>\n",
       "    <tr>\n",
       "      <th>4</th>\n",
       "      <td>RT @ilmessaggeroit: Dopo Ivrea/ Le risposte mancate dei 5 Stelle https://t.co/ojo7MEMJUK</td>\n",
       "      <td>378410ae3ae135e4f2271e4cad9190bae2d5b029c5888114a7b0088342751a90</td>\n",
       "      <td>2017-04-09 22:18:00</td>\n",
       "    </tr>\n",
       "  </tbody>\n",
       "</table>\n",
       "</div>"
      ],
      "text/plain": [
       "                                                                                                                                        content  \\\n",
       "0  RT @MuseoOmero: #14marzo #paesaggioitaliano Mole Vanvitelliana #Ancona un pentagono adagiato sull'acqua dal '700, un ex-lazzaretto oggi sed…   \n",
       "1  RT @Radio3tweet: La ministra @valeriafedeli incontra gli studenti di Amatrice negli studi di via Asiago. Qui https://t.co/ptyaKX5Z6S #RaiPo…   \n",
       "2  RT @Radio1Rai: NEWS/ Attacco #Londra: May riunisce comitato d'emergenza Cobra. https://t.co/B3nQ07EJ6o                                         \n",
       "3  RT @PiazzapulitaLA7: Assolutamente non ci alleeremo con nessuno. @ale_dibattista  #piazzapulita                                                \n",
       "4  RT @ilmessaggeroit: Dopo Ivrea/ Le risposte mancate dei 5 Stelle https://t.co/ojo7MEMJUK                                                       \n",
       "\n",
       "                                                             author  \\\n",
       "0  378410ae3ae135e4f2271e4cad9190bae2d5b029c5888114a7b0088342751a90   \n",
       "1  378410ae3ae135e4f2271e4cad9190bae2d5b029c5888114a7b0088342751a90   \n",
       "2  378410ae3ae135e4f2271e4cad9190bae2d5b029c5888114a7b0088342751a90   \n",
       "3  378410ae3ae135e4f2271e4cad9190bae2d5b029c5888114a7b0088342751a90   \n",
       "4  378410ae3ae135e4f2271e4cad9190bae2d5b029c5888114a7b0088342751a90   \n",
       "\n",
       "                 time  \n",
       "0 2017-03-14 11:10:00  \n",
       "1 2017-03-16 12:38:00  \n",
       "2 2017-03-22 17:09:00  \n",
       "3 2017-03-23 21:27:00  \n",
       "4 2017-04-09 22:18:00  "
      ]
     },
     "execution_count": 198,
     "metadata": {},
     "output_type": "execute_result"
    }
   ],
   "source": [
    "italian_tweets=italian_tweets.rename(index=str, columns={\"tweet_text\":\"content\"})\n",
    "authors=pd.concat([italian_tweets[['content','author','time']],italian_tweets_old[['content','author','time']]])\n",
    "authors=authors.drop_duplicates(subset='content')\n",
    "authors.head()"
   ]
  },
  {
   "cell_type": "code",
   "execution_count": 73,
   "metadata": {},
   "outputs": [
    {
     "data": {
      "text/plain": [
       "35167"
      ]
     },
     "execution_count": 73,
     "metadata": {},
     "output_type": "execute_result"
    }
   ],
   "source": [
    "len(authors.content.unique())"
   ]
  },
  {
   "cell_type": "code",
   "execution_count": 74,
   "metadata": {},
   "outputs": [
    {
     "data": {
      "text/plain": [
       "35167"
      ]
     },
     "execution_count": 74,
     "metadata": {},
     "output_type": "execute_result"
    }
   ],
   "source": [
    "authors.content.count()"
   ]
  },
  {
   "cell_type": "code",
   "execution_count": 75,
   "metadata": {},
   "outputs": [
    {
     "data": {
      "text/plain": [
       "content    object        \n",
       "author     object        \n",
       "time       datetime64[ns]\n",
       "dtype: object"
      ]
     },
     "execution_count": 75,
     "metadata": {},
     "output_type": "execute_result"
    }
   ],
   "source": [
    "authors.dtypes"
   ]
  },
  {
   "cell_type": "code",
   "execution_count": 76,
   "metadata": {
    "collapsed": true
   },
   "outputs": [],
   "source": [
    "authors['time']=authors['time'].apply(lambda x: x.date())#authors.head()"
   ]
  },
  {
   "cell_type": "code",
   "execution_count": 77,
   "metadata": {
    "collapsed": true
   },
   "outputs": [],
   "source": [
    "authors=authors.groupby(['author','time']).agg('count').rename(columns={'content':'tot'})"
   ]
  },
  {
   "cell_type": "code",
   "execution_count": 78,
   "metadata": {
    "collapsed": true
   },
   "outputs": [],
   "source": [
    "authors=authors.groupby(by='author',as_index=True).agg({'tot':'mean'}).reset_index().rename(columns={'tot':'avg'})"
   ]
  },
  {
   "cell_type": "code",
   "execution_count": 79,
   "metadata": {},
   "outputs": [
    {
     "data": {
      "image/png": "[encoded data removed]",
      "text/plain": [
       "<matplotlib.figure.Figure at 0x11a61dcc0>"
      ]
     },
     "metadata": {},
     "output_type": "display_data"
    }
   ],
   "source": [
    "authors.avg.plot(kind='bar')\n",
    "plt.xticks([])\n",
    "plt.show()"
   ]
  },
  {
   "cell_type": "code",
   "execution_count": 80,
   "metadata": {},
   "outputs": [
    {
     "data": {
      "text/html": [
       "<div>\n",
       "<style scoped>\n",
       "    .dataframe tbody tr th:only-of-type {\n",
       "        vertical-align: middle;\n",
       "    }\n",
       "\n",
       "    .dataframe tbody tr th {\n",
       "        vertical-align: top;\n",
       "    }\n",
       "\n",
       "    .dataframe thead th {\n",
       "        text-align: right;\n",
       "    }\n",
       "</style>\n",
       "<table border=\"1\" class=\"dataframe\">\n",
       "  <thead>\n",
       "    <tr style=\"text-align: right;\">\n",
       "      <th></th>\n",
       "      <th>content</th>\n",
       "      <th>author</th>\n",
       "      <th>time</th>\n",
       "    </tr>\n",
       "  </thead>\n",
       "  <tbody>\n",
       "    <tr>\n",
       "      <th>count</th>\n",
       "      <td>38630</td>\n",
       "      <td>38630</td>\n",
       "      <td>38630</td>\n",
       "    </tr>\n",
       "    <tr>\n",
       "      <th>unique</th>\n",
       "      <td>35167</td>\n",
       "      <td>1263</td>\n",
       "      <td>19852</td>\n",
       "    </tr>\n",
       "    <tr>\n",
       "      <th>top</th>\n",
       "      <td>Buongiorno, Principessa!</td>\n",
       "      <td>378410ae3ae135e4f2271e4cad9190bae2d5b029c5888114a7b0088342751a90</td>\n",
       "      <td>2017-03-08 08:33:00</td>\n",
       "    </tr>\n",
       "    <tr>\n",
       "      <th>freq</th>\n",
       "      <td>23</td>\n",
       "      <td>3637</td>\n",
       "      <td>12</td>\n",
       "    </tr>\n",
       "    <tr>\n",
       "      <th>first</th>\n",
       "      <td>NaN</td>\n",
       "      <td>NaN</td>\n",
       "      <td>2011-02-01 21:16:00</td>\n",
       "    </tr>\n",
       "    <tr>\n",
       "      <th>last</th>\n",
       "      <td>NaN</td>\n",
       "      <td>NaN</td>\n",
       "      <td>2018-03-31 01:07:00</td>\n",
       "    </tr>\n",
       "  </tbody>\n",
       "</table>\n",
       "</div>"
      ],
      "text/plain": [
       "                         content  \\\n",
       "count   38630                      \n",
       "unique  35167                      \n",
       "top     Buongiorno, Principessa!   \n",
       "freq    23                         \n",
       "first   NaN                        \n",
       "last    NaN                        \n",
       "\n",
       "                                                                  author  \\\n",
       "count   38630                                                              \n",
       "unique  1263                                                               \n",
       "top     378410ae3ae135e4f2271e4cad9190bae2d5b029c5888114a7b0088342751a90   \n",
       "freq    3637                                                               \n",
       "first   NaN                                                                \n",
       "last    NaN                                                                \n",
       "\n",
       "                       time  \n",
       "count   38630                \n",
       "unique  19852                \n",
       "top     2017-03-08 08:33:00  \n",
       "freq    12                   \n",
       "first   2011-02-01 21:16:00  \n",
       "last    2018-03-31 01:07:00  "
      ]
     },
     "execution_count": 80,
     "metadata": {},
     "output_type": "execute_result"
    }
   ],
   "source": [
    "tweets=pd.concat([italian_tweets[['content','author','time']],italian_tweets_old[['content','author','time']]])\n",
    "tweets.describe()"
   ]
  },
  {
   "cell_type": "code",
   "execution_count": 81,
   "metadata": {},
   "outputs": [
    {
     "data": {
      "text/html": [
       "<div>\n",
       "<style scoped>\n",
       "    .dataframe tbody tr th:only-of-type {\n",
       "        vertical-align: middle;\n",
       "    }\n",
       "\n",
       "    .dataframe tbody tr th {\n",
       "        vertical-align: top;\n",
       "    }\n",
       "\n",
       "    .dataframe thead th {\n",
       "        text-align: right;\n",
       "    }\n",
       "</style>\n",
       "<table border=\"1\" class=\"dataframe\">\n",
       "  <thead>\n",
       "    <tr style=\"text-align: right;\">\n",
       "      <th></th>\n",
       "      <th>content</th>\n",
       "      <th>author</th>\n",
       "      <th>time</th>\n",
       "      <th>avg</th>\n",
       "    </tr>\n",
       "  </thead>\n",
       "  <tbody>\n",
       "    <tr>\n",
       "      <th>0</th>\n",
       "      <td>RT @MuseoOmero: #14marzo #paesaggioitaliano Mole Vanvitelliana #Ancona un pentagono adagiato sull'acqua dal '700, un ex-lazzaretto oggi sed…</td>\n",
       "      <td>378410ae3ae135e4f2271e4cad9190bae2d5b029c5888114a7b0088342751a90</td>\n",
       "      <td>2017-03-14 11:10:00</td>\n",
       "      <td>59.47541</td>\n",
       "    </tr>\n",
       "    <tr>\n",
       "      <th>1</th>\n",
       "      <td>RT @Radio3tweet: La ministra @valeriafedeli incontra gli studenti di Amatrice negli studi di via Asiago. Qui https://t.co/ptyaKX5Z6S #RaiPo…</td>\n",
       "      <td>378410ae3ae135e4f2271e4cad9190bae2d5b029c5888114a7b0088342751a90</td>\n",
       "      <td>2017-03-16 12:38:00</td>\n",
       "      <td>59.47541</td>\n",
       "    </tr>\n",
       "    <tr>\n",
       "      <th>2</th>\n",
       "      <td>RT @Radio1Rai: NEWS/ Attacco #Londra: May riunisce comitato d'emergenza Cobra. https://t.co/B3nQ07EJ6o</td>\n",
       "      <td>378410ae3ae135e4f2271e4cad9190bae2d5b029c5888114a7b0088342751a90</td>\n",
       "      <td>2017-03-22 17:09:00</td>\n",
       "      <td>59.47541</td>\n",
       "    </tr>\n",
       "    <tr>\n",
       "      <th>3</th>\n",
       "      <td>RT @PiazzapulitaLA7: Assolutamente non ci alleeremo con nessuno. @ale_dibattista  #piazzapulita</td>\n",
       "      <td>378410ae3ae135e4f2271e4cad9190bae2d5b029c5888114a7b0088342751a90</td>\n",
       "      <td>2017-03-23 21:27:00</td>\n",
       "      <td>59.47541</td>\n",
       "    </tr>\n",
       "    <tr>\n",
       "      <th>4</th>\n",
       "      <td>RT @ilmessaggeroit: Dopo Ivrea/ Le risposte mancate dei 5 Stelle https://t.co/ojo7MEMJUK</td>\n",
       "      <td>378410ae3ae135e4f2271e4cad9190bae2d5b029c5888114a7b0088342751a90</td>\n",
       "      <td>2017-04-09 22:18:00</td>\n",
       "      <td>59.47541</td>\n",
       "    </tr>\n",
       "  </tbody>\n",
       "</table>\n",
       "</div>"
      ],
      "text/plain": [
       "                                                                                                                                        content  \\\n",
       "0  RT @MuseoOmero: #14marzo #paesaggioitaliano Mole Vanvitelliana #Ancona un pentagono adagiato sull'acqua dal '700, un ex-lazzaretto oggi sed…   \n",
       "1  RT @Radio3tweet: La ministra @valeriafedeli incontra gli studenti di Amatrice negli studi di via Asiago. Qui https://t.co/ptyaKX5Z6S #RaiPo…   \n",
       "2  RT @Radio1Rai: NEWS/ Attacco #Londra: May riunisce comitato d'emergenza Cobra. https://t.co/B3nQ07EJ6o                                         \n",
       "3  RT @PiazzapulitaLA7: Assolutamente non ci alleeremo con nessuno. @ale_dibattista  #piazzapulita                                                \n",
       "4  RT @ilmessaggeroit: Dopo Ivrea/ Le risposte mancate dei 5 Stelle https://t.co/ojo7MEMJUK                                                       \n",
       "\n",
       "                                                             author  \\\n",
       "0  378410ae3ae135e4f2271e4cad9190bae2d5b029c5888114a7b0088342751a90   \n",
       "1  378410ae3ae135e4f2271e4cad9190bae2d5b029c5888114a7b0088342751a90   \n",
       "2  378410ae3ae135e4f2271e4cad9190bae2d5b029c5888114a7b0088342751a90   \n",
       "3  378410ae3ae135e4f2271e4cad9190bae2d5b029c5888114a7b0088342751a90   \n",
       "4  378410ae3ae135e4f2271e4cad9190bae2d5b029c5888114a7b0088342751a90   \n",
       "\n",
       "                 time       avg  \n",
       "0 2017-03-14 11:10:00  59.47541  \n",
       "1 2017-03-16 12:38:00  59.47541  \n",
       "2 2017-03-22 17:09:00  59.47541  \n",
       "3 2017-03-23 21:27:00  59.47541  \n",
       "4 2017-04-09 22:18:00  59.47541  "
      ]
     },
     "execution_count": 81,
     "metadata": {},
     "output_type": "execute_result"
    }
   ],
   "source": [
    "prolific=authors.loc[authors.avg>20]\n",
    "tweets_prolific=tweets.copy().merge(prolific,how='right',on='author')\n",
    "tweets_prolific=tweets_prolific[tweets_prolific['time'].apply(lambda x:x>datetime.strptime('01-01-2017', '%d-%m-%Y'))]\n",
    "tweets_prolific.head()\n",
    "#tweets.describe()"
   ]
  },
  {
   "cell_type": "code",
   "execution_count": 82,
   "metadata": {
    "collapsed": true
   },
   "outputs": [],
   "source": [
    "tweets=tweets[tweets['time'].apply(lambda x:x>datetime.strptime('01-01-2017', '%d-%m-%Y'))]"
   ]
  },
  {
   "cell_type": "code",
   "execution_count": 85,
   "metadata": {},
   "outputs": [
    {
     "data": {
      "text/plain": [
       "481"
      ]
     },
     "execution_count": 85,
     "metadata": {},
     "output_type": "execute_result"
    }
   ],
   "source": [
    "pd.set_option('display.max_colwidth', -1)\n",
    "renzi=tweets_prolific[tweets_prolific['content'].apply(lambda x: 'renzi' in x.lower())]\n",
    "renzi.content.count()"
   ]
  },
  {
   "cell_type": "code",
   "execution_count": 86,
   "metadata": {},
   "outputs": [
    {
     "data": {
      "text/plain": [
       "643"
      ]
     },
     "execution_count": 86,
     "metadata": {},
     "output_type": "execute_result"
    }
   ],
   "source": [
    "pd.set_option('display.max_colwidth', -1)\n",
    "renzi=tweets[tweets['content'].apply(lambda x: 'renzi' in x.lower())]\n",
    "renzi.content.count()"
   ]
  },
  {
   "cell_type": "code",
   "execution_count": 62,
   "metadata": {
    "collapsed": true
   },
   "outputs": [],
   "source": [
    "#renzi"
   ]
  },
  {
   "cell_type": "code",
   "execution_count": 83,
   "metadata": {},
   "outputs": [
    {
     "data": {
      "text/plain": [
       "145"
      ]
     },
     "execution_count": 83,
     "metadata": {},
     "output_type": "execute_result"
    }
   ],
   "source": [
    "salvini=tweets_prolific[tweets_prolific['content'].apply(lambda x: 'salvini' in x.lower())]\n",
    "salvini.content.count()"
   ]
  },
  {
   "cell_type": "code",
   "execution_count": 84,
   "metadata": {},
   "outputs": [
    {
     "data": {
      "text/plain": [
       "196"
      ]
     },
     "execution_count": 84,
     "metadata": {},
     "output_type": "execute_result"
    }
   ],
   "source": [
    "salvini=tweets[tweets['content'].apply(lambda x: 'salvini' in x.lower())]\n",
    "#salvini=tweets.where(lambda x: 'salvini' in x.lower())\n",
    "salvini.content.count()"
   ]
  },
  {
   "cell_type": "code",
   "execution_count": 65,
   "metadata": {},
   "outputs": [
    {
     "data": {
      "text/plain": [
       "172"
      ]
     },
     "execution_count": 65,
     "metadata": {},
     "output_type": "execute_result"
    }
   ],
   "source": [
    "grillo=tweets[tweets['content'].apply(lambda x: 'grillo' in x.lower())]\n",
    "grillo.content.count()"
   ]
  },
  {
   "cell_type": "code",
   "execution_count": 66,
   "metadata": {},
   "outputs": [
    {
     "data": {
      "text/plain": [
       "3199"
      ]
     },
     "execution_count": 66,
     "metadata": {},
     "output_type": "execute_result"
    }
   ],
   "source": [
    "rep=tweets[tweets['content'].apply(lambda x: 'repubblica' in x.lower())]\n",
    "rep.content.count()"
   ]
  },
  {
   "cell_type": "markdown",
   "metadata": {},
   "source": [
    "### Time analysis"
   ]
  },
  {
   "cell_type": "code",
   "execution_count": 199,
   "metadata": {},
   "outputs": [],
   "source": [
    "times=pd.concat([italian_tweets[['content','author','time']],italian_tweets_old[['content','author','time']]])\n",
    "#times.loc[times['time'].apply(lambda x:x==datetime.strptime('26-03-2017', '%d-%m-%Y'))]\n",
    "times=times.drop_duplicates(subset='content')"
   ]
  },
  {
   "cell_type": "code",
   "execution_count": 200,
   "metadata": {},
   "outputs": [
    {
     "name": "stdout",
     "output_type": "stream",
     "text": [
      "2011-02-01 21:16:00 2018-03-31 01:07:00\n"
     ]
    }
   ],
   "source": [
    "start_date_tweet = times['time'].min()\n",
    "end_date_tweet = times['time'].max()\n",
    "print(start_date_tweet, end_date_tweet)"
   ]
  },
  {
   "cell_type": "code",
   "execution_count": 201,
   "metadata": {},
   "outputs": [
    {
     "data": {
      "text/plain": [
       "content    object        \n",
       "author     object        \n",
       "time       datetime64[ns]\n",
       "dtype: object"
      ]
     },
     "execution_count": 201,
     "metadata": {},
     "output_type": "execute_result"
    }
   ],
   "source": [
    "times.dtypes"
   ]
  },
  {
   "cell_type": "code",
   "execution_count": 202,
   "metadata": {
    "collapsed": true
   },
   "outputs": [],
   "source": [
    "#times=pd.concat([italian_tweets[['content','author','time']],italian_tweets_old[['content','author','time']]])\n",
    "times['time']=times['time'].apply(lambda x: x.date())#authors.head()\n",
    "times['time'] = pd.to_datetime(times['time'])"
   ]
  },
  {
   "cell_type": "code",
   "execution_count": 203,
   "metadata": {
    "collapsed": true
   },
   "outputs": [],
   "source": [
    "times=times.groupby(by='time',as_index=True).agg({'content':'count'}).reset_index().rename(columns={'content':'tot'})\n",
    "times.sort_values(by='time', ascending = True, inplace = True)\n",
    "times=times.set_index('time')"
   ]
  },
  {
   "cell_type": "code",
   "execution_count": 204,
   "metadata": {},
   "outputs": [
    {
     "data": {
      "text/plain": [
       "tot    int64\n",
       "dtype: object"
      ]
     },
     "execution_count": 204,
     "metadata": {},
     "output_type": "execute_result"
    }
   ],
   "source": [
    "times.dtypes"
   ]
  },
  {
   "cell_type": "code",
   "execution_count": 205,
   "metadata": {},
   "outputs": [
    {
     "data": {
      "text/html": [
       "<div>\n",
       "<style scoped>\n",
       "    .dataframe tbody tr th:only-of-type {\n",
       "        vertical-align: middle;\n",
       "    }\n",
       "\n",
       "    .dataframe tbody tr th {\n",
       "        vertical-align: top;\n",
       "    }\n",
       "\n",
       "    .dataframe thead th {\n",
       "        text-align: right;\n",
       "    }\n",
       "</style>\n",
       "<table border=\"1\" class=\"dataframe\">\n",
       "  <thead>\n",
       "    <tr style=\"text-align: right;\">\n",
       "      <th></th>\n",
       "      <th>tot</th>\n",
       "    </tr>\n",
       "    <tr>\n",
       "      <th>time</th>\n",
       "      <th></th>\n",
       "    </tr>\n",
       "  </thead>\n",
       "  <tbody>\n",
       "    <tr>\n",
       "      <th>2011-02-01</th>\n",
       "      <td>1</td>\n",
       "    </tr>\n",
       "    <tr>\n",
       "      <th>2012-07-09</th>\n",
       "      <td>11</td>\n",
       "    </tr>\n",
       "    <tr>\n",
       "      <th>2012-07-10</th>\n",
       "      <td>20</td>\n",
       "    </tr>\n",
       "    <tr>\n",
       "      <th>2012-07-11</th>\n",
       "      <td>1</td>\n",
       "    </tr>\n",
       "    <tr>\n",
       "      <th>2012-07-12</th>\n",
       "      <td>11</td>\n",
       "    </tr>\n",
       "  </tbody>\n",
       "</table>\n",
       "</div>"
      ],
      "text/plain": [
       "            tot\n",
       "time           \n",
       "2011-02-01  1  \n",
       "2012-07-09  11 \n",
       "2012-07-10  20 \n",
       "2012-07-11  1  \n",
       "2012-07-12  11 "
      ]
     },
     "execution_count": 205,
     "metadata": {},
     "output_type": "execute_result"
    }
   ],
   "source": [
    "times.head()"
   ]
  },
  {
   "cell_type": "code",
   "execution_count": 206,
   "metadata": {},
   "outputs": [
    {
     "data": {
      "image/png": "[encoded data removed]",
      "text/plain": [
       "<matplotlib.figure.Figure at 0x11a832550>"
      ]
     },
     "metadata": {},
     "output_type": "display_data"
    }
   ],
   "source": [
    "plt.style.use('seaborn-darkgrid')\n",
    "times['tot'].plot(linestyle = \"-\", figsize = (12,8), rot = 45, color = 'k',\n",
    "                               linewidth = 1)\n",
    "plt.title('Tweet counts by date', fontsize = 15)\n",
    "plt.xlabel('Date', fontsize = 13)\n",
    "plt.ylabel('Tweet Count', fontsize = 13)\n",
    "\n",
    "plt.show()"
   ]
  },
  {
   "cell_type": "code",
   "execution_count": 256,
   "metadata": {},
   "outputs": [
    {
     "data": {
      "image/png": "[encoded data removed]",
      "text/plain": [
       "<matplotlib.figure.Figure at 0x12b0c5e10>"
      ]
     },
     "metadata": {},
     "output_type": "display_data"
    }
   ],
   "source": [
    "peak=pd.concat([italian_tweets[['content','author','time']],italian_tweets_old[['content','author','time']]])\n",
    "peak=peak.drop_duplicates(subset='content')\n",
    "peak=peak[peak['time'].apply(lambda x:\n",
    "                         ((x<datetime.strptime('01-02-2017', '%d-%m-%Y') or \n",
    "                          (x>datetime.strptime('31-05-2017', '%d-%m-%Y'))) & \n",
    "                          (x>datetime.strptime('01-03-2014', '%d-%m-%Y')) & \n",
    "                          (x<datetime.strptime('15-11-2017', '%d-%m-%Y')))\n",
    "                        )]\n",
    "peak['time']=peak['time'].apply(lambda x: x.date())#authors.head()\n",
    "peak['time'] = pd.to_datetime(peak['time'])\n",
    "peak=peak.groupby(by='time',as_index=True).agg({'content':'count'}).reset_index().rename(columns={'content':'tot'})\n",
    "peak.sort_values(by='time', ascending = True, inplace = True)\n",
    "peak=peak.set_index('time')\n",
    "\n",
    "dates_list = ['2016-12-01','2017-10-05']\n",
    "# 08-2017\n",
    "# March-May 2017 terror attacks in Europe: London, Stockholm, Paris, St Petersburg, Manchester\n",
    "# 12-2016 Italian referendum\n",
    "# 08-2015 Migratory crisis in Europe\n",
    "# 05-2014 European elections\n",
    "important_dates = pd.Series(pd.to_datetime(dates_list))\n",
    "\n",
    "summer = ['2017-07-15','2016-08-15','2015-08-10','2014-08-10']\n",
    "# 08-2017\n",
    "# March-May 2017 terror attacks in Europe: London, Stockholm, Paris, St Petersburg, Manchester\n",
    "# 12-2016 Italian referendum\n",
    "# 08-2015 Migratory crisis in Europe\n",
    "# 05-2014 European elections\n",
    "summer_dates = pd.Series(pd.to_datetime(summer))\n",
    "\n",
    "# add columns to identify important events, and mark a 0 or 1.\n",
    "peak['Summer Events'] = False\n",
    "peak.loc[summer_dates, 'Summer Events'] = True\n",
    "peak['vals'] = 0\n",
    "peak.loc[summer_dates, 'vals'] = 1\n",
    "\n",
    "peak['Important Events'] = False\n",
    "peak.loc[important_dates, 'Important Events'] = True\n",
    "peak['values'] = 0\n",
    "peak.loc[important_dates, 'values'] = 1\n",
    "\n",
    "plt.style.use('seaborn-darkgrid')\n",
    "peak['tot'].plot(linestyle = \"-\", figsize = (22,8), rot = 45, color = 'k',\n",
    "                               linewidth = 1)\n",
    "plt.title('Tweet counts by date', fontsize = 15)\n",
    "plt.xlabel('Date', fontsize = 13)\n",
    "plt.ylabel('Tweet Count', fontsize = 13)\n",
    "\n",
    "plt.plot(peak[peak['Important Events'] == True].index.values,\n",
    "         peak.loc[peak['Important Events'] == True, 'values'],\n",
    "         marker = 'o', \n",
    "         color = 'r',\n",
    "         linestyle = 'none',\n",
    "        label = 'Important Dates in politics')\n",
    "\n",
    "plt.plot(peak[peak['Summer Events'] == True].index.values,\n",
    "         peak.loc[peak['Summer Events'] == True, 'vals'],\n",
    "         marker = 'o', \n",
    "         color = 'b',\n",
    "         linestyle = 'none',\n",
    "        label = 'Summer migratory crisis')\n",
    "\n",
    "for m in peak[peak['Summer Events'] == True].index.values:\n",
    "    plt.axvline(x=m)\n",
    "    \n",
    "for m in peak[peak['Important Events'] == True].index.values:\n",
    "    plt.axvline(x=m, color='r')\n",
    "\n",
    "plt.legend(loc = 'best')\n",
    "\n",
    "plt.show()"
   ]
  },
  {
   "cell_type": "code",
   "execution_count": null,
   "metadata": {
    "collapsed": true
   },
   "outputs": [],
   "source": [
    "#italian_tweets['tweet_time'] =  pd.to_datetime(italian_tweets['tweet_time'], format='%Y/%m/%d %H:%M')\n",
    "#italian_tweets_old['publish_date'] =  pd.to_datetime(italian_tweets_old['publish_date'], format='%m/%d/%Y %H:%M')\n",
    "datetime = pd.concat([italian_tweets_old['time'],italian_tweets['time']],axis=0)"
   ]
  },
  {
   "cell_type": "code",
   "execution_count": null,
   "metadata": {
    "collapsed": true
   },
   "outputs": [],
   "source": [
    "#plt.hist(datetime,bins=100)\n",
    "#plt.show()\n",
    "#df.groupby(df[\"d.dt.month).count().plot(kind=\"bar\")\n",
    "\n",
    "#datetime.groupby(datetime.dt.date).count().plot(kind=\"bar\")\n",
    "\n",
    "#datetime.plot(kind='bar')"
   ]
  },
  {
   "cell_type": "code",
   "execution_count": null,
   "metadata": {
    "collapsed": true
   },
   "outputs": [],
   "source": [
    "#recent_tweets = datetime[datetime>'2017-03']\n",
    "#considered_tweets = recent_tweets[recent_tweets<'2017-05']\n",
    "#considered2_tweets = recent_tweets[recent_tweets<'2017-11']\n",
    "#plt.figure(figsize=(12,4))\n",
    "#plt.hist(considered_tweets,bins=100)\n",
    "#plt.show()"
   ]
  },
  {
   "cell_type": "code",
   "execution_count": null,
   "metadata": {
    "collapsed": true
   },
   "outputs": [],
   "source": []
  }
 ],
 "metadata": {
  "kernelspec": {
   "display_name": "Python 3",
   "language": "python",
   "name": "python3"
  },
  "language_info": {
   "codemirror_mode": {
    "name": "ipython",
    "version": 3
   },
   "file_extension": ".py",
   "mimetype": "text/x-python",
   "name": "python",
   "nbconvert_exporter": "python",
   "pygments_lexer": "ipython3",
   "version": "3.6.1"
  }
 },
 "nbformat": 4,
 "nbformat_minor": 2
}
