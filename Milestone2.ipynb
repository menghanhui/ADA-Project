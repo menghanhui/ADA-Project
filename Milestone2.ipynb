{
 "cells": [
  {
   "cell_type": "markdown",
   "metadata": {},
   "source": [
    "# IRA Tweets: Analysis on Italian Tweets\n",
    "\n"
   ]
  },
  {
   "cell_type": "code",
   "execution_count": 19,
   "metadata": {},
   "outputs": [],
   "source": [
    "import pandas as pd\n",
    "import numpy as np\n",
    "import re\n",
    "import matplotlib.pyplot as plt\n",
    "from datetime import datetime\n",
    "from zipfile import ZipFile\n",
    "\n",
    "import mlxtend\n",
    "from mlxtend.preprocessing import TransactionEncoder\n",
    "from mlxtend.frequent_patterns import apriori\n",
    "from mlxtend.frequent_patterns import association_rules\n",
    "import networkx as nx \n",
    "\n",
    "from wordcloud import WordCloud, STOPWORDS, ImageColorGenerator"
   ]
  },
  {
   "cell_type": "markdown",
   "metadata": {},
   "source": [
    "# 1. Data Reading and Exploration\n",
    "\n",
    "### Reading the data"
   ]
  },
  {
   "cell_type": "markdown",
   "metadata": {},
   "source": [
    "> In reading phase we read the input data (both zip files), we extract italian tweets and we preprocess it. Finally we store the result in two new csv files to an easy future access. We consider also another csv file with without italian tweets with region column equal to USA, since we have noticed that are difficult to interpret. "
   ]
  },
  {
   "cell_type": "markdown",
   "metadata": {},
   "source": [
    "First we iterate through \"russian-troll-tweets.zip\" to read through every .csv file:"
   ]
  },
  {
   "cell_type": "code",
   "execution_count": 2,
   "metadata": {},
   "outputs": [],
   "source": [
    "# Read the first IRA dataset\n",
    "data_folder = './data/'\n",
    "zip_file = ZipFile(data_folder+'russian-troll-tweets.zip')\n",
    "fs = {text_file.filename: pd.read_csv(zip_file.open(text_file.filename))\n",
    "       for text_file in zip_file.infolist()\n",
    "       if text_file.filename.endswith('.csv')}"
   ]
  },
  {
   "cell_type": "code",
   "execution_count": 3,
   "metadata": {},
   "outputs": [
    {
     "data": {
      "text/html": [
       "<div>\n",
       "<style scoped>\n",
       "    .dataframe tbody tr th:only-of-type {\n",
       "        vertical-align: middle;\n",
       "    }\n",
       "\n",
       "    .dataframe tbody tr th {\n",
       "        vertical-align: top;\n",
       "    }\n",
       "\n",
       "    .dataframe thead th {\n",
       "        text-align: right;\n",
       "    }\n",
       "</style>\n",
       "<table border=\"1\" class=\"dataframe\">\n",
       "  <thead>\n",
       "    <tr style=\"text-align: right;\">\n",
       "      <th></th>\n",
       "      <th>external_author_id</th>\n",
       "      <th>author</th>\n",
       "      <th>content</th>\n",
       "      <th>region</th>\n",
       "      <th>language</th>\n",
       "      <th>publish_date</th>\n",
       "      <th>harvested_date</th>\n",
       "      <th>following</th>\n",
       "      <th>followers</th>\n",
       "      <th>updates</th>\n",
       "      <th>post_type</th>\n",
       "      <th>account_type</th>\n",
       "      <th>new_june_2018</th>\n",
       "      <th>retweet</th>\n",
       "      <th>account_category</th>\n",
       "    </tr>\n",
       "  </thead>\n",
       "  <tbody>\n",
       "    <tr>\n",
       "      <th>0</th>\n",
       "      <td>9.060000e+17</td>\n",
       "      <td>10_GOP</td>\n",
       "      <td>\"We have a sitting Democrat US Senator on tria...</td>\n",
       "      <td>Unknown</td>\n",
       "      <td>English</td>\n",
       "      <td>10/1/2017 19:58</td>\n",
       "      <td>10/1/2017 19:59</td>\n",
       "      <td>1052</td>\n",
       "      <td>9636</td>\n",
       "      <td>253</td>\n",
       "      <td>NaN</td>\n",
       "      <td>Right</td>\n",
       "      <td>0</td>\n",
       "      <td>0</td>\n",
       "      <td>RightTroll</td>\n",
       "    </tr>\n",
       "    <tr>\n",
       "      <th>1</th>\n",
       "      <td>9.060000e+17</td>\n",
       "      <td>10_GOP</td>\n",
       "      <td>Marshawn Lynch arrives to game in anti-Trump s...</td>\n",
       "      <td>Unknown</td>\n",
       "      <td>English</td>\n",
       "      <td>10/1/2017 22:43</td>\n",
       "      <td>10/1/2017 22:43</td>\n",
       "      <td>1054</td>\n",
       "      <td>9637</td>\n",
       "      <td>254</td>\n",
       "      <td>NaN</td>\n",
       "      <td>Right</td>\n",
       "      <td>0</td>\n",
       "      <td>0</td>\n",
       "      <td>RightTroll</td>\n",
       "    </tr>\n",
       "    <tr>\n",
       "      <th>2</th>\n",
       "      <td>9.060000e+17</td>\n",
       "      <td>10_GOP</td>\n",
       "      <td>Daughter of fallen Navy Sailor delivers powerf...</td>\n",
       "      <td>Unknown</td>\n",
       "      <td>English</td>\n",
       "      <td>10/1/2017 22:50</td>\n",
       "      <td>10/1/2017 22:51</td>\n",
       "      <td>1054</td>\n",
       "      <td>9637</td>\n",
       "      <td>255</td>\n",
       "      <td>RETWEET</td>\n",
       "      <td>Right</td>\n",
       "      <td>0</td>\n",
       "      <td>1</td>\n",
       "      <td>RightTroll</td>\n",
       "    </tr>\n",
       "    <tr>\n",
       "      <th>3</th>\n",
       "      <td>9.060000e+17</td>\n",
       "      <td>10_GOP</td>\n",
       "      <td>JUST IN: President Trump dedicates Presidents ...</td>\n",
       "      <td>Unknown</td>\n",
       "      <td>English</td>\n",
       "      <td>10/1/2017 23:52</td>\n",
       "      <td>10/1/2017 23:52</td>\n",
       "      <td>1062</td>\n",
       "      <td>9642</td>\n",
       "      <td>256</td>\n",
       "      <td>NaN</td>\n",
       "      <td>Right</td>\n",
       "      <td>0</td>\n",
       "      <td>0</td>\n",
       "      <td>RightTroll</td>\n",
       "    </tr>\n",
       "    <tr>\n",
       "      <th>4</th>\n",
       "      <td>9.060000e+17</td>\n",
       "      <td>10_GOP</td>\n",
       "      <td>19,000 RESPECTING our National Anthem! #StandF...</td>\n",
       "      <td>Unknown</td>\n",
       "      <td>English</td>\n",
       "      <td>10/1/2017 2:13</td>\n",
       "      <td>10/1/2017 2:13</td>\n",
       "      <td>1050</td>\n",
       "      <td>9645</td>\n",
       "      <td>246</td>\n",
       "      <td>RETWEET</td>\n",
       "      <td>Right</td>\n",
       "      <td>0</td>\n",
       "      <td>1</td>\n",
       "      <td>RightTroll</td>\n",
       "    </tr>\n",
       "  </tbody>\n",
       "</table>\n",
       "</div>"
      ],
      "text/plain": [
       "   external_author_id  author  \\\n",
       "0        9.060000e+17  10_GOP   \n",
       "1        9.060000e+17  10_GOP   \n",
       "2        9.060000e+17  10_GOP   \n",
       "3        9.060000e+17  10_GOP   \n",
       "4        9.060000e+17  10_GOP   \n",
       "\n",
       "                                             content   region language  \\\n",
       "0  \"We have a sitting Democrat US Senator on tria...  Unknown  English   \n",
       "1  Marshawn Lynch arrives to game in anti-Trump s...  Unknown  English   \n",
       "2  Daughter of fallen Navy Sailor delivers powerf...  Unknown  English   \n",
       "3  JUST IN: President Trump dedicates Presidents ...  Unknown  English   \n",
       "4  19,000 RESPECTING our National Anthem! #StandF...  Unknown  English   \n",
       "\n",
       "      publish_date   harvested_date  following  followers  updates post_type  \\\n",
       "0  10/1/2017 19:58  10/1/2017 19:59       1052       9636      253       NaN   \n",
       "1  10/1/2017 22:43  10/1/2017 22:43       1054       9637      254       NaN   \n",
       "2  10/1/2017 22:50  10/1/2017 22:51       1054       9637      255   RETWEET   \n",
       "3  10/1/2017 23:52  10/1/2017 23:52       1062       9642      256       NaN   \n",
       "4   10/1/2017 2:13   10/1/2017 2:13       1050       9645      246   RETWEET   \n",
       "\n",
       "  account_type  new_june_2018  retweet account_category  \n",
       "0        Right              0        0       RightTroll  \n",
       "1        Right              0        0       RightTroll  \n",
       "2        Right              0        1       RightTroll  \n",
       "3        Right              0        0       RightTroll  \n",
       "4        Right              0        1       RightTroll  "
      ]
     },
     "execution_count": 3,
     "metadata": {},
     "output_type": "execute_result"
    }
   ],
   "source": [
    "fs['IRAhandle_tweets_1.csv'].head(5)"
   ]
  },
  {
   "cell_type": "markdown",
   "metadata": {},
   "source": [
    "We append all datasets together in one DataFrame:"
   ]
  },
  {
   "cell_type": "code",
   "execution_count": 4,
   "metadata": {},
   "outputs": [],
   "source": [
    "data=pd.DataFrame()\n",
    "for key,val in fs.items():\n",
    "    data=pd.concat([data,val])"
   ]
  },
  {
   "cell_type": "code",
   "execution_count": 5,
   "metadata": {},
   "outputs": [
    {
     "data": {
      "text/html": [
       "<div>\n",
       "<style scoped>\n",
       "    .dataframe tbody tr th:only-of-type {\n",
       "        vertical-align: middle;\n",
       "    }\n",
       "\n",
       "    .dataframe tbody tr th {\n",
       "        vertical-align: top;\n",
       "    }\n",
       "\n",
       "    .dataframe thead th {\n",
       "        text-align: right;\n",
       "    }\n",
       "</style>\n",
       "<table border=\"1\" class=\"dataframe\">\n",
       "  <thead>\n",
       "    <tr style=\"text-align: right;\">\n",
       "      <th></th>\n",
       "      <th>external_author_id</th>\n",
       "      <th>following</th>\n",
       "      <th>followers</th>\n",
       "      <th>updates</th>\n",
       "      <th>new_june_2018</th>\n",
       "      <th>retweet</th>\n",
       "    </tr>\n",
       "  </thead>\n",
       "  <tbody>\n",
       "    <tr>\n",
       "      <th>count</th>\n",
       "      <td>2.973367e+06</td>\n",
       "      <td>2.973371e+06</td>\n",
       "      <td>2.973371e+06</td>\n",
       "      <td>2.973371e+06</td>\n",
       "      <td>2.973371e+06</td>\n",
       "      <td>2.973371e+06</td>\n",
       "    </tr>\n",
       "    <tr>\n",
       "      <th>mean</th>\n",
       "      <td>1.296128e+17</td>\n",
       "      <td>3.433524e+03</td>\n",
       "      <td>7.018913e+03</td>\n",
       "      <td>1.049756e+04</td>\n",
       "      <td>2.078735e-01</td>\n",
       "      <td>4.408955e-01</td>\n",
       "    </tr>\n",
       "    <tr>\n",
       "      <th>std</th>\n",
       "      <td>3.036341e+17</td>\n",
       "      <td>5.609881e+03</td>\n",
       "      <td>1.458463e+04</td>\n",
       "      <td>1.768729e+04</td>\n",
       "      <td>4.057859e-01</td>\n",
       "      <td>4.964945e-01</td>\n",
       "    </tr>\n",
       "    <tr>\n",
       "      <th>min</th>\n",
       "      <td>3.497640e+07</td>\n",
       "      <td>-1.000000e+00</td>\n",
       "      <td>-1.000000e+00</td>\n",
       "      <td>-1.000000e+00</td>\n",
       "      <td>0.000000e+00</td>\n",
       "      <td>0.000000e+00</td>\n",
       "    </tr>\n",
       "    <tr>\n",
       "      <th>25%</th>\n",
       "      <td>1.930748e+09</td>\n",
       "      <td>3.270000e+02</td>\n",
       "      <td>3.200000e+02</td>\n",
       "      <td>1.787000e+03</td>\n",
       "      <td>0.000000e+00</td>\n",
       "      <td>0.000000e+00</td>\n",
       "    </tr>\n",
       "    <tr>\n",
       "      <th>50%</th>\n",
       "      <td>2.581835e+09</td>\n",
       "      <td>1.499000e+03</td>\n",
       "      <td>1.274000e+03</td>\n",
       "      <td>4.333000e+03</td>\n",
       "      <td>0.000000e+00</td>\n",
       "      <td>0.000000e+00</td>\n",
       "    </tr>\n",
       "    <tr>\n",
       "      <th>75%</th>\n",
       "      <td>3.254274e+09</td>\n",
       "      <td>4.730000e+03</td>\n",
       "      <td>1.060000e+04</td>\n",
       "      <td>1.234100e+04</td>\n",
       "      <td>0.000000e+00</td>\n",
       "      <td>1.000000e+00</td>\n",
       "    </tr>\n",
       "    <tr>\n",
       "      <th>max</th>\n",
       "      <td>9.812510e+17</td>\n",
       "      <td>7.621000e+04</td>\n",
       "      <td>2.512760e+05</td>\n",
       "      <td>1.661130e+05</td>\n",
       "      <td>1.000000e+00</td>\n",
       "      <td>1.000000e+00</td>\n",
       "    </tr>\n",
       "  </tbody>\n",
       "</table>\n",
       "</div>"
      ],
      "text/plain": [
       "       external_author_id     following     followers       updates  \\\n",
       "count        2.973367e+06  2.973371e+06  2.973371e+06  2.973371e+06   \n",
       "mean         1.296128e+17  3.433524e+03  7.018913e+03  1.049756e+04   \n",
       "std          3.036341e+17  5.609881e+03  1.458463e+04  1.768729e+04   \n",
       "min          3.497640e+07 -1.000000e+00 -1.000000e+00 -1.000000e+00   \n",
       "25%          1.930748e+09  3.270000e+02  3.200000e+02  1.787000e+03   \n",
       "50%          2.581835e+09  1.499000e+03  1.274000e+03  4.333000e+03   \n",
       "75%          3.254274e+09  4.730000e+03  1.060000e+04  1.234100e+04   \n",
       "max          9.812510e+17  7.621000e+04  2.512760e+05  1.661130e+05   \n",
       "\n",
       "       new_june_2018       retweet  \n",
       "count   2.973371e+06  2.973371e+06  \n",
       "mean    2.078735e-01  4.408955e-01  \n",
       "std     4.057859e-01  4.964945e-01  \n",
       "min     0.000000e+00  0.000000e+00  \n",
       "25%     0.000000e+00  0.000000e+00  \n",
       "50%     0.000000e+00  0.000000e+00  \n",
       "75%     0.000000e+00  1.000000e+00  \n",
       "max     1.000000e+00  1.000000e+00  "
      ]
     },
     "execution_count": 5,
     "metadata": {},
     "output_type": "execute_result"
    }
   ],
   "source": [
    "data.describe()"
   ]
  },
  {
   "cell_type": "markdown",
   "metadata": {},
   "source": [
    "Here we preprocess the data, we notice that *content*, the main attribute of our analysis, has some null values. We prefer removing them. Finally we remove duplicate values of *content*. "
   ]
  },
  {
   "cell_type": "code",
   "execution_count": 6,
   "metadata": {},
   "outputs": [
    {
     "data": {
      "text/plain": [
       "external_author_id     True\n",
       "author                False\n",
       "content                True\n",
       "region                 True\n",
       "language              False\n",
       "publish_date          False\n",
       "harvested_date        False\n",
       "following             False\n",
       "followers             False\n",
       "updates               False\n",
       "post_type              True\n",
       "account_type           True\n",
       "new_june_2018         False\n",
       "retweet               False\n",
       "account_category      False\n",
       "dtype: bool"
      ]
     },
     "execution_count": 6,
     "metadata": {},
     "output_type": "execute_result"
    }
   ],
   "source": [
    "data.isnull().any()"
   ]
  },
  {
   "cell_type": "code",
   "execution_count": 7,
   "metadata": {},
   "outputs": [],
   "source": [
    "data = data.dropna(subset= ['content'])\n",
    "data.content.is_unique # Answer : False\n",
    "data = data.drop_duplicates(subset = 'content')"
   ]
  },
  {
   "cell_type": "markdown",
   "metadata": {},
   "source": [
    "We select only the italian tweets from the first "
   ]
  },
  {
   "cell_type": "code",
   "execution_count": 8,
   "metadata": {},
   "outputs": [],
   "source": [
    "# Italian tweets\n",
    "italian_tweets = data[data.language == 'Italian']\n",
    "\n",
    "# Italian tweets and not USA region\n",
    "italian_tweets_notusa = italian_tweets[italian_tweets.region != 'United States']"
   ]
  },
  {
   "cell_type": "code",
   "execution_count": 9,
   "metadata": {},
   "outputs": [],
   "source": [
    "italian_tweets.to_csv(\"italian_tweets_old.csv\")\n",
    "italian_tweets_notusa.to_csv(\"italian_tweets_old_notusa.csv\")"
   ]
  },
  {
   "cell_type": "markdown",
   "metadata": {},
   "source": [
    "We also import from a second dataset('ira_tweets_new.zip') and we repeat the previous analysis:"
   ]
  },
  {
   "cell_type": "code",
   "execution_count": 12,
   "metadata": {},
   "outputs": [],
   "source": [
    "%%capture\n",
    "# Read the second IRA dataset\n",
    "zip_file = ZipFile(data_folder+'ira_tweets_new.zip')\n",
    "interesting = ['rus_troll_tweet_text.csv',\n",
    "               'rus_troll_tweet_stats.csv',\n",
    "               'rus_troll_tweet_metadata.csv']\n",
    "fs = {text_file.filename: pd.read_csv(zip_file.open(text_file.filename))\n",
    "       for text_file in zip_file.infolist()\n",
    "       if text_file.filename in interesting}"
   ]
  },
  {
   "cell_type": "code",
   "execution_count": 13,
   "metadata": {},
   "outputs": [],
   "source": [
    "datanew=pd.DataFrame()\n",
    "for key,val in fs.items():\n",
    "    datanew=pd.concat([datanew,val], axis=1, sort=False)"
   ]
  },
  {
   "cell_type": "code",
   "execution_count": 14,
   "metadata": {},
   "outputs": [
    {
     "data": {
      "text/plain": [
       "tweetid                 False\n",
       "userid                  False\n",
       "tweet_time              False\n",
       "in_reply_to_tweetid      True\n",
       "in_reply_to_userid       True\n",
       "quoted_tweet_tweetid     True\n",
       "is_retweet              False\n",
       "retweet_userid           True\n",
       "retweet_tweetid          True\n",
       "quote_count             False\n",
       "reply_count             False\n",
       "like_count              False\n",
       "retweet_count           False\n",
       "hashtags                 True\n",
       "urls                     True\n",
       "user_mentions            True\n",
       "poll_choices             True\n",
       "tweetid                 False\n",
       "tweet_language           True\n",
       "tweet_text               True\n",
       "tweetid                 False\n",
       "follower_count          False\n",
       "following_count         False\n",
       "latitude                 True\n",
       "longitude                True\n",
       "tweet_client_name        True\n",
       "dtype: bool"
      ]
     },
     "execution_count": 14,
     "metadata": {},
     "output_type": "execute_result"
    }
   ],
   "source": [
    "datanew.isnull().any()"
   ]
  },
  {
   "cell_type": "code",
   "execution_count": 17,
   "metadata": {},
   "outputs": [],
   "source": [
    "datanew = datanew.dropna(subset= ['tweet_text'])\n",
    "datanew.tweet_text.is_unique # Answer : False\n",
    "datanew = datanew.drop_duplicates(subset = 'tweet_text')"
   ]
  },
  {
   "cell_type": "code",
   "execution_count": 20,
   "metadata": {},
   "outputs": [
    {
     "data": {
      "text/html": [
       "<div>\n",
       "<style scoped>\n",
       "    .dataframe tbody tr th:only-of-type {\n",
       "        vertical-align: middle;\n",
       "    }\n",
       "\n",
       "    .dataframe tbody tr th {\n",
       "        vertical-align: top;\n",
       "    }\n",
       "\n",
       "    .dataframe thead th {\n",
       "        text-align: right;\n",
       "    }\n",
       "</style>\n",
       "<table border=\"1\" class=\"dataframe\">\n",
       "  <thead>\n",
       "    <tr style=\"text-align: right;\">\n",
       "      <th></th>\n",
       "      <th>tweetid</th>\n",
       "      <th>userid</th>\n",
       "      <th>tweet_time</th>\n",
       "      <th>in_reply_to_tweetid</th>\n",
       "      <th>in_reply_to_userid</th>\n",
       "      <th>quoted_tweet_tweetid</th>\n",
       "      <th>is_retweet</th>\n",
       "      <th>retweet_userid</th>\n",
       "      <th>retweet_tweetid</th>\n",
       "      <th>quote_count</th>\n",
       "      <th>...</th>\n",
       "      <th>user_display_name</th>\n",
       "      <th>user_screen_name</th>\n",
       "      <th>user_reported_location</th>\n",
       "      <th>user_profile_description</th>\n",
       "      <th>user_profile_url</th>\n",
       "      <th>account_creation_date</th>\n",
       "      <th>account_language</th>\n",
       "      <th>follower_count_y</th>\n",
       "      <th>following_count_y</th>\n",
       "      <th>last_tweet_at</th>\n",
       "    </tr>\n",
       "  </thead>\n",
       "  <tbody>\n",
       "    <tr>\n",
       "      <th>0</th>\n",
       "      <td>841607500931584000</td>\n",
       "      <td>378410ae3ae135e4f2271e4cad9190bae2d5b029c58881...</td>\n",
       "      <td>2017-03-14 11:10</td>\n",
       "      <td>NaN</td>\n",
       "      <td>NaN</td>\n",
       "      <td>NaN</td>\n",
       "      <td>True</td>\n",
       "      <td>95217122</td>\n",
       "      <td>8.416069e+17</td>\n",
       "      <td>0</td>\n",
       "      <td>...</td>\n",
       "      <td>378410ae3ae135e4f2271e4cad9190bae2d5b029c58881...</td>\n",
       "      <td>378410ae3ae135e4f2271e4cad9190bae2d5b029c58881...</td>\n",
       "      <td>Italy</td>\n",
       "      <td>❤️❤️❤️</td>\n",
       "      <td>NaN</td>\n",
       "      <td>2017-03-06</td>\n",
       "      <td>en</td>\n",
       "      <td>99</td>\n",
       "      <td>545</td>\n",
       "      <td>2017-06-28 09:35</td>\n",
       "    </tr>\n",
       "    <tr>\n",
       "      <th>1</th>\n",
       "      <td>842354395077533696</td>\n",
       "      <td>378410ae3ae135e4f2271e4cad9190bae2d5b029c58881...</td>\n",
       "      <td>2017-03-16 12:38</td>\n",
       "      <td>NaN</td>\n",
       "      <td>NaN</td>\n",
       "      <td>NaN</td>\n",
       "      <td>True</td>\n",
       "      <td>100185915</td>\n",
       "      <td>8.423537e+17</td>\n",
       "      <td>0</td>\n",
       "      <td>...</td>\n",
       "      <td>378410ae3ae135e4f2271e4cad9190bae2d5b029c58881...</td>\n",
       "      <td>378410ae3ae135e4f2271e4cad9190bae2d5b029c58881...</td>\n",
       "      <td>Italy</td>\n",
       "      <td>❤️❤️❤️</td>\n",
       "      <td>NaN</td>\n",
       "      <td>2017-03-06</td>\n",
       "      <td>en</td>\n",
       "      <td>99</td>\n",
       "      <td>545</td>\n",
       "      <td>2017-06-28 09:35</td>\n",
       "    </tr>\n",
       "    <tr>\n",
       "      <th>2</th>\n",
       "      <td>844596831786979330</td>\n",
       "      <td>378410ae3ae135e4f2271e4cad9190bae2d5b029c58881...</td>\n",
       "      <td>2017-03-22 17:09</td>\n",
       "      <td>NaN</td>\n",
       "      <td>NaN</td>\n",
       "      <td>NaN</td>\n",
       "      <td>True</td>\n",
       "      <td>210501383</td>\n",
       "      <td>8.445961e+17</td>\n",
       "      <td>0</td>\n",
       "      <td>...</td>\n",
       "      <td>378410ae3ae135e4f2271e4cad9190bae2d5b029c58881...</td>\n",
       "      <td>378410ae3ae135e4f2271e4cad9190bae2d5b029c58881...</td>\n",
       "      <td>Italy</td>\n",
       "      <td>❤️❤️❤️</td>\n",
       "      <td>NaN</td>\n",
       "      <td>2017-03-06</td>\n",
       "      <td>en</td>\n",
       "      <td>99</td>\n",
       "      <td>545</td>\n",
       "      <td>2017-06-28 09:35</td>\n",
       "    </tr>\n",
       "    <tr>\n",
       "      <th>3</th>\n",
       "      <td>845024247672057856</td>\n",
       "      <td>378410ae3ae135e4f2271e4cad9190bae2d5b029c58881...</td>\n",
       "      <td>2017-03-23 21:27</td>\n",
       "      <td>NaN</td>\n",
       "      <td>NaN</td>\n",
       "      <td>NaN</td>\n",
       "      <td>True</td>\n",
       "      <td>58453980</td>\n",
       "      <td>8.450236e+17</td>\n",
       "      <td>0</td>\n",
       "      <td>...</td>\n",
       "      <td>378410ae3ae135e4f2271e4cad9190bae2d5b029c58881...</td>\n",
       "      <td>378410ae3ae135e4f2271e4cad9190bae2d5b029c58881...</td>\n",
       "      <td>Italy</td>\n",
       "      <td>❤️❤️❤️</td>\n",
       "      <td>NaN</td>\n",
       "      <td>2017-03-06</td>\n",
       "      <td>en</td>\n",
       "      <td>99</td>\n",
       "      <td>545</td>\n",
       "      <td>2017-06-28 09:35</td>\n",
       "    </tr>\n",
       "    <tr>\n",
       "      <th>4</th>\n",
       "      <td>851197631724347392</td>\n",
       "      <td>378410ae3ae135e4f2271e4cad9190bae2d5b029c58881...</td>\n",
       "      <td>2017-04-09 22:18</td>\n",
       "      <td>NaN</td>\n",
       "      <td>NaN</td>\n",
       "      <td>NaN</td>\n",
       "      <td>True</td>\n",
       "      <td>36079217</td>\n",
       "      <td>8.511971e+17</td>\n",
       "      <td>0</td>\n",
       "      <td>...</td>\n",
       "      <td>378410ae3ae135e4f2271e4cad9190bae2d5b029c58881...</td>\n",
       "      <td>378410ae3ae135e4f2271e4cad9190bae2d5b029c58881...</td>\n",
       "      <td>Italy</td>\n",
       "      <td>❤️❤️❤️</td>\n",
       "      <td>NaN</td>\n",
       "      <td>2017-03-06</td>\n",
       "      <td>en</td>\n",
       "      <td>99</td>\n",
       "      <td>545</td>\n",
       "      <td>2017-06-28 09:35</td>\n",
       "    </tr>\n",
       "    <tr>\n",
       "      <th>5</th>\n",
       "      <td>845045676819988480</td>\n",
       "      <td>378410ae3ae135e4f2271e4cad9190bae2d5b029c58881...</td>\n",
       "      <td>2017-03-23 22:52</td>\n",
       "      <td>NaN</td>\n",
       "      <td>NaN</td>\n",
       "      <td>NaN</td>\n",
       "      <td>True</td>\n",
       "      <td>85626417</td>\n",
       "      <td>8.450447e+17</td>\n",
       "      <td>0</td>\n",
       "      <td>...</td>\n",
       "      <td>378410ae3ae135e4f2271e4cad9190bae2d5b029c58881...</td>\n",
       "      <td>378410ae3ae135e4f2271e4cad9190bae2d5b029c58881...</td>\n",
       "      <td>Italy</td>\n",
       "      <td>❤️❤️❤️</td>\n",
       "      <td>NaN</td>\n",
       "      <td>2017-03-06</td>\n",
       "      <td>en</td>\n",
       "      <td>99</td>\n",
       "      <td>545</td>\n",
       "      <td>2017-06-28 09:35</td>\n",
       "    </tr>\n",
       "    <tr>\n",
       "      <th>6</th>\n",
       "      <td>843872921927868417</td>\n",
       "      <td>378410ae3ae135e4f2271e4cad9190bae2d5b029c58881...</td>\n",
       "      <td>2017-03-20 17:12</td>\n",
       "      <td>NaN</td>\n",
       "      <td>NaN</td>\n",
       "      <td>NaN</td>\n",
       "      <td>True</td>\n",
       "      <td>18935802</td>\n",
       "      <td>8.438721e+17</td>\n",
       "      <td>0</td>\n",
       "      <td>...</td>\n",
       "      <td>378410ae3ae135e4f2271e4cad9190bae2d5b029c58881...</td>\n",
       "      <td>378410ae3ae135e4f2271e4cad9190bae2d5b029c58881...</td>\n",
       "      <td>Italy</td>\n",
       "      <td>❤️❤️❤️</td>\n",
       "      <td>NaN</td>\n",
       "      <td>2017-03-06</td>\n",
       "      <td>en</td>\n",
       "      <td>99</td>\n",
       "      <td>545</td>\n",
       "      <td>2017-06-28 09:35</td>\n",
       "    </tr>\n",
       "    <tr>\n",
       "      <th>7</th>\n",
       "      <td>839339306426613760</td>\n",
       "      <td>378410ae3ae135e4f2271e4cad9190bae2d5b029c58881...</td>\n",
       "      <td>2017-03-08 04:57</td>\n",
       "      <td>NaN</td>\n",
       "      <td>NaN</td>\n",
       "      <td>NaN</td>\n",
       "      <td>True</td>\n",
       "      <td>18935802</td>\n",
       "      <td>8.393382e+17</td>\n",
       "      <td>0</td>\n",
       "      <td>...</td>\n",
       "      <td>378410ae3ae135e4f2271e4cad9190bae2d5b029c58881...</td>\n",
       "      <td>378410ae3ae135e4f2271e4cad9190bae2d5b029c58881...</td>\n",
       "      <td>Italy</td>\n",
       "      <td>❤️❤️❤️</td>\n",
       "      <td>NaN</td>\n",
       "      <td>2017-03-06</td>\n",
       "      <td>en</td>\n",
       "      <td>99</td>\n",
       "      <td>545</td>\n",
       "      <td>2017-06-28 09:35</td>\n",
       "    </tr>\n",
       "    <tr>\n",
       "      <th>8</th>\n",
       "      <td>858544393405423616</td>\n",
       "      <td>378410ae3ae135e4f2271e4cad9190bae2d5b029c58881...</td>\n",
       "      <td>2017-04-30 04:51</td>\n",
       "      <td>NaN</td>\n",
       "      <td>NaN</td>\n",
       "      <td>NaN</td>\n",
       "      <td>True</td>\n",
       "      <td>94335911</td>\n",
       "      <td>8.585431e+17</td>\n",
       "      <td>0</td>\n",
       "      <td>...</td>\n",
       "      <td>378410ae3ae135e4f2271e4cad9190bae2d5b029c58881...</td>\n",
       "      <td>378410ae3ae135e4f2271e4cad9190bae2d5b029c58881...</td>\n",
       "      <td>Italy</td>\n",
       "      <td>❤️❤️❤️</td>\n",
       "      <td>NaN</td>\n",
       "      <td>2017-03-06</td>\n",
       "      <td>en</td>\n",
       "      <td>99</td>\n",
       "      <td>545</td>\n",
       "      <td>2017-06-28 09:35</td>\n",
       "    </tr>\n",
       "    <tr>\n",
       "      <th>9</th>\n",
       "      <td>847222130227822592</td>\n",
       "      <td>378410ae3ae135e4f2271e4cad9190bae2d5b029c58881...</td>\n",
       "      <td>2017-03-29 23:01</td>\n",
       "      <td>NaN</td>\n",
       "      <td>NaN</td>\n",
       "      <td>NaN</td>\n",
       "      <td>True</td>\n",
       "      <td>18935802</td>\n",
       "      <td>8.472199e+17</td>\n",
       "      <td>0</td>\n",
       "      <td>...</td>\n",
       "      <td>378410ae3ae135e4f2271e4cad9190bae2d5b029c58881...</td>\n",
       "      <td>378410ae3ae135e4f2271e4cad9190bae2d5b029c58881...</td>\n",
       "      <td>Italy</td>\n",
       "      <td>❤️❤️❤️</td>\n",
       "      <td>NaN</td>\n",
       "      <td>2017-03-06</td>\n",
       "      <td>en</td>\n",
       "      <td>99</td>\n",
       "      <td>545</td>\n",
       "      <td>2017-06-28 09:35</td>\n",
       "    </tr>\n",
       "    <tr>\n",
       "      <th>10</th>\n",
       "      <td>858786408164507648</td>\n",
       "      <td>378410ae3ae135e4f2271e4cad9190bae2d5b029c58881...</td>\n",
       "      <td>2017-04-30 20:53</td>\n",
       "      <td>NaN</td>\n",
       "      <td>NaN</td>\n",
       "      <td>NaN</td>\n",
       "      <td>True</td>\n",
       "      <td>33994488</td>\n",
       "      <td>8.587855e+17</td>\n",
       "      <td>0</td>\n",
       "      <td>...</td>\n",
       "      <td>378410ae3ae135e4f2271e4cad9190bae2d5b029c58881...</td>\n",
       "      <td>378410ae3ae135e4f2271e4cad9190bae2d5b029c58881...</td>\n",
       "      <td>Italy</td>\n",
       "      <td>❤️❤️❤️</td>\n",
       "      <td>NaN</td>\n",
       "      <td>2017-03-06</td>\n",
       "      <td>en</td>\n",
       "      <td>99</td>\n",
       "      <td>545</td>\n",
       "      <td>2017-06-28 09:35</td>\n",
       "    </tr>\n",
       "    <tr>\n",
       "      <th>11</th>\n",
       "      <td>853462747723350016</td>\n",
       "      <td>378410ae3ae135e4f2271e4cad9190bae2d5b029c58881...</td>\n",
       "      <td>2017-04-16 04:19</td>\n",
       "      <td>NaN</td>\n",
       "      <td>NaN</td>\n",
       "      <td>NaN</td>\n",
       "      <td>True</td>\n",
       "      <td>210501383</td>\n",
       "      <td>8.534604e+17</td>\n",
       "      <td>0</td>\n",
       "      <td>...</td>\n",
       "      <td>378410ae3ae135e4f2271e4cad9190bae2d5b029c58881...</td>\n",
       "      <td>378410ae3ae135e4f2271e4cad9190bae2d5b029c58881...</td>\n",
       "      <td>Italy</td>\n",
       "      <td>❤️❤️❤️</td>\n",
       "      <td>NaN</td>\n",
       "      <td>2017-03-06</td>\n",
       "      <td>en</td>\n",
       "      <td>99</td>\n",
       "      <td>545</td>\n",
       "      <td>2017-06-28 09:35</td>\n",
       "    </tr>\n",
       "    <tr>\n",
       "      <th>12</th>\n",
       "      <td>849544594119438336</td>\n",
       "      <td>378410ae3ae135e4f2271e4cad9190bae2d5b029c58881...</td>\n",
       "      <td>2017-04-05 08:49</td>\n",
       "      <td>NaN</td>\n",
       "      <td>NaN</td>\n",
       "      <td>NaN</td>\n",
       "      <td>True</td>\n",
       "      <td>18935802</td>\n",
       "      <td>8.495440e+17</td>\n",
       "      <td>0</td>\n",
       "      <td>...</td>\n",
       "      <td>378410ae3ae135e4f2271e4cad9190bae2d5b029c58881...</td>\n",
       "      <td>378410ae3ae135e4f2271e4cad9190bae2d5b029c58881...</td>\n",
       "      <td>Italy</td>\n",
       "      <td>❤️❤️❤️</td>\n",
       "      <td>NaN</td>\n",
       "      <td>2017-03-06</td>\n",
       "      <td>en</td>\n",
       "      <td>99</td>\n",
       "      <td>545</td>\n",
       "      <td>2017-06-28 09:35</td>\n",
       "    </tr>\n",
       "    <tr>\n",
       "      <th>13</th>\n",
       "      <td>842637053036658688</td>\n",
       "      <td>378410ae3ae135e4f2271e4cad9190bae2d5b029c58881...</td>\n",
       "      <td>2017-03-17 07:21</td>\n",
       "      <td>NaN</td>\n",
       "      <td>NaN</td>\n",
       "      <td>NaN</td>\n",
       "      <td>True</td>\n",
       "      <td>36079217</td>\n",
       "      <td>8.426355e+17</td>\n",
       "      <td>0</td>\n",
       "      <td>...</td>\n",
       "      <td>378410ae3ae135e4f2271e4cad9190bae2d5b029c58881...</td>\n",
       "      <td>378410ae3ae135e4f2271e4cad9190bae2d5b029c58881...</td>\n",
       "      <td>Italy</td>\n",
       "      <td>❤️❤️❤️</td>\n",
       "      <td>NaN</td>\n",
       "      <td>2017-03-06</td>\n",
       "      <td>en</td>\n",
       "      <td>99</td>\n",
       "      <td>545</td>\n",
       "      <td>2017-06-28 09:35</td>\n",
       "    </tr>\n",
       "    <tr>\n",
       "      <th>14</th>\n",
       "      <td>843904369997234176</td>\n",
       "      <td>378410ae3ae135e4f2271e4cad9190bae2d5b029c58881...</td>\n",
       "      <td>2017-03-20 19:17</td>\n",
       "      <td>NaN</td>\n",
       "      <td>NaN</td>\n",
       "      <td>NaN</td>\n",
       "      <td>True</td>\n",
       "      <td>33994488</td>\n",
       "      <td>8.439035e+17</td>\n",
       "      <td>0</td>\n",
       "      <td>...</td>\n",
       "      <td>378410ae3ae135e4f2271e4cad9190bae2d5b029c58881...</td>\n",
       "      <td>378410ae3ae135e4f2271e4cad9190bae2d5b029c58881...</td>\n",
       "      <td>Italy</td>\n",
       "      <td>❤️❤️❤️</td>\n",
       "      <td>NaN</td>\n",
       "      <td>2017-03-06</td>\n",
       "      <td>en</td>\n",
       "      <td>99</td>\n",
       "      <td>545</td>\n",
       "      <td>2017-06-28 09:35</td>\n",
       "    </tr>\n",
       "    <tr>\n",
       "      <th>15</th>\n",
       "      <td>852860150524157952</td>\n",
       "      <td>378410ae3ae135e4f2271e4cad9190bae2d5b029c58881...</td>\n",
       "      <td>2017-04-14 12:24</td>\n",
       "      <td>NaN</td>\n",
       "      <td>NaN</td>\n",
       "      <td>NaN</td>\n",
       "      <td>True</td>\n",
       "      <td>718834510994006016</td>\n",
       "      <td>8.528411e+17</td>\n",
       "      <td>0</td>\n",
       "      <td>...</td>\n",
       "      <td>378410ae3ae135e4f2271e4cad9190bae2d5b029c58881...</td>\n",
       "      <td>378410ae3ae135e4f2271e4cad9190bae2d5b029c58881...</td>\n",
       "      <td>Italy</td>\n",
       "      <td>❤️❤️❤️</td>\n",
       "      <td>NaN</td>\n",
       "      <td>2017-03-06</td>\n",
       "      <td>en</td>\n",
       "      <td>99</td>\n",
       "      <td>545</td>\n",
       "      <td>2017-06-28 09:35</td>\n",
       "    </tr>\n",
       "    <tr>\n",
       "      <th>16</th>\n",
       "      <td>851674036962639874</td>\n",
       "      <td>378410ae3ae135e4f2271e4cad9190bae2d5b029c58881...</td>\n",
       "      <td>2017-04-11 05:51</td>\n",
       "      <td>NaN</td>\n",
       "      <td>NaN</td>\n",
       "      <td>NaN</td>\n",
       "      <td>True</td>\n",
       "      <td>914794146</td>\n",
       "      <td>8.516639e+17</td>\n",
       "      <td>0</td>\n",
       "      <td>...</td>\n",
       "      <td>378410ae3ae135e4f2271e4cad9190bae2d5b029c58881...</td>\n",
       "      <td>378410ae3ae135e4f2271e4cad9190bae2d5b029c58881...</td>\n",
       "      <td>Italy</td>\n",
       "      <td>❤️❤️❤️</td>\n",
       "      <td>NaN</td>\n",
       "      <td>2017-03-06</td>\n",
       "      <td>en</td>\n",
       "      <td>99</td>\n",
       "      <td>545</td>\n",
       "      <td>2017-06-28 09:35</td>\n",
       "    </tr>\n",
       "    <tr>\n",
       "      <th>17</th>\n",
       "      <td>840812146552315904</td>\n",
       "      <td>378410ae3ae135e4f2271e4cad9190bae2d5b029c58881...</td>\n",
       "      <td>2017-03-12 06:30</td>\n",
       "      <td>NaN</td>\n",
       "      <td>NaN</td>\n",
       "      <td>NaN</td>\n",
       "      <td>True</td>\n",
       "      <td>16476536</td>\n",
       "      <td>8.408108e+17</td>\n",
       "      <td>0</td>\n",
       "      <td>...</td>\n",
       "      <td>378410ae3ae135e4f2271e4cad9190bae2d5b029c58881...</td>\n",
       "      <td>378410ae3ae135e4f2271e4cad9190bae2d5b029c58881...</td>\n",
       "      <td>Italy</td>\n",
       "      <td>❤️❤️❤️</td>\n",
       "      <td>NaN</td>\n",
       "      <td>2017-03-06</td>\n",
       "      <td>en</td>\n",
       "      <td>99</td>\n",
       "      <td>545</td>\n",
       "      <td>2017-06-28 09:35</td>\n",
       "    </tr>\n",
       "    <tr>\n",
       "      <th>18</th>\n",
       "      <td>856799793980428288</td>\n",
       "      <td>378410ae3ae135e4f2271e4cad9190bae2d5b029c58881...</td>\n",
       "      <td>2017-04-25 09:19</td>\n",
       "      <td>NaN</td>\n",
       "      <td>NaN</td>\n",
       "      <td>NaN</td>\n",
       "      <td>True</td>\n",
       "      <td>1130603749</td>\n",
       "      <td>8.567989e+17</td>\n",
       "      <td>0</td>\n",
       "      <td>...</td>\n",
       "      <td>378410ae3ae135e4f2271e4cad9190bae2d5b029c58881...</td>\n",
       "      <td>378410ae3ae135e4f2271e4cad9190bae2d5b029c58881...</td>\n",
       "      <td>Italy</td>\n",
       "      <td>❤️❤️❤️</td>\n",
       "      <td>NaN</td>\n",
       "      <td>2017-03-06</td>\n",
       "      <td>en</td>\n",
       "      <td>99</td>\n",
       "      <td>545</td>\n",
       "      <td>2017-06-28 09:35</td>\n",
       "    </tr>\n",
       "    <tr>\n",
       "      <th>19</th>\n",
       "      <td>850075796517511168</td>\n",
       "      <td>378410ae3ae135e4f2271e4cad9190bae2d5b029c58881...</td>\n",
       "      <td>2017-04-06 20:00</td>\n",
       "      <td>NaN</td>\n",
       "      <td>NaN</td>\n",
       "      <td>NaN</td>\n",
       "      <td>True</td>\n",
       "      <td>1664604020</td>\n",
       "      <td>8.500743e+17</td>\n",
       "      <td>0</td>\n",
       "      <td>...</td>\n",
       "      <td>378410ae3ae135e4f2271e4cad9190bae2d5b029c58881...</td>\n",
       "      <td>378410ae3ae135e4f2271e4cad9190bae2d5b029c58881...</td>\n",
       "      <td>Italy</td>\n",
       "      <td>❤️❤️❤️</td>\n",
       "      <td>NaN</td>\n",
       "      <td>2017-03-06</td>\n",
       "      <td>en</td>\n",
       "      <td>99</td>\n",
       "      <td>545</td>\n",
       "      <td>2017-06-28 09:35</td>\n",
       "    </tr>\n",
       "  </tbody>\n",
       "</table>\n",
       "<p>20 rows × 36 columns</p>\n",
       "</div>"
      ],
      "text/plain": [
       "               tweetid                                             userid  \\\n",
       "0   841607500931584000  378410ae3ae135e4f2271e4cad9190bae2d5b029c58881...   \n",
       "1   842354395077533696  378410ae3ae135e4f2271e4cad9190bae2d5b029c58881...   \n",
       "2   844596831786979330  378410ae3ae135e4f2271e4cad9190bae2d5b029c58881...   \n",
       "3   845024247672057856  378410ae3ae135e4f2271e4cad9190bae2d5b029c58881...   \n",
       "4   851197631724347392  378410ae3ae135e4f2271e4cad9190bae2d5b029c58881...   \n",
       "5   845045676819988480  378410ae3ae135e4f2271e4cad9190bae2d5b029c58881...   \n",
       "6   843872921927868417  378410ae3ae135e4f2271e4cad9190bae2d5b029c58881...   \n",
       "7   839339306426613760  378410ae3ae135e4f2271e4cad9190bae2d5b029c58881...   \n",
       "8   858544393405423616  378410ae3ae135e4f2271e4cad9190bae2d5b029c58881...   \n",
       "9   847222130227822592  378410ae3ae135e4f2271e4cad9190bae2d5b029c58881...   \n",
       "10  858786408164507648  378410ae3ae135e4f2271e4cad9190bae2d5b029c58881...   \n",
       "11  853462747723350016  378410ae3ae135e4f2271e4cad9190bae2d5b029c58881...   \n",
       "12  849544594119438336  378410ae3ae135e4f2271e4cad9190bae2d5b029c58881...   \n",
       "13  842637053036658688  378410ae3ae135e4f2271e4cad9190bae2d5b029c58881...   \n",
       "14  843904369997234176  378410ae3ae135e4f2271e4cad9190bae2d5b029c58881...   \n",
       "15  852860150524157952  378410ae3ae135e4f2271e4cad9190bae2d5b029c58881...   \n",
       "16  851674036962639874  378410ae3ae135e4f2271e4cad9190bae2d5b029c58881...   \n",
       "17  840812146552315904  378410ae3ae135e4f2271e4cad9190bae2d5b029c58881...   \n",
       "18  856799793980428288  378410ae3ae135e4f2271e4cad9190bae2d5b029c58881...   \n",
       "19  850075796517511168  378410ae3ae135e4f2271e4cad9190bae2d5b029c58881...   \n",
       "\n",
       "          tweet_time  in_reply_to_tweetid in_reply_to_userid  \\\n",
       "0   2017-03-14 11:10                  NaN                NaN   \n",
       "1   2017-03-16 12:38                  NaN                NaN   \n",
       "2   2017-03-22 17:09                  NaN                NaN   \n",
       "3   2017-03-23 21:27                  NaN                NaN   \n",
       "4   2017-04-09 22:18                  NaN                NaN   \n",
       "5   2017-03-23 22:52                  NaN                NaN   \n",
       "6   2017-03-20 17:12                  NaN                NaN   \n",
       "7   2017-03-08 04:57                  NaN                NaN   \n",
       "8   2017-04-30 04:51                  NaN                NaN   \n",
       "9   2017-03-29 23:01                  NaN                NaN   \n",
       "10  2017-04-30 20:53                  NaN                NaN   \n",
       "11  2017-04-16 04:19                  NaN                NaN   \n",
       "12  2017-04-05 08:49                  NaN                NaN   \n",
       "13  2017-03-17 07:21                  NaN                NaN   \n",
       "14  2017-03-20 19:17                  NaN                NaN   \n",
       "15  2017-04-14 12:24                  NaN                NaN   \n",
       "16  2017-04-11 05:51                  NaN                NaN   \n",
       "17  2017-03-12 06:30                  NaN                NaN   \n",
       "18  2017-04-25 09:19                  NaN                NaN   \n",
       "19  2017-04-06 20:00                  NaN                NaN   \n",
       "\n",
       "    quoted_tweet_tweetid  is_retweet      retweet_userid  retweet_tweetid  \\\n",
       "0                    NaN        True            95217122     8.416069e+17   \n",
       "1                    NaN        True           100185915     8.423537e+17   \n",
       "2                    NaN        True           210501383     8.445961e+17   \n",
       "3                    NaN        True            58453980     8.450236e+17   \n",
       "4                    NaN        True            36079217     8.511971e+17   \n",
       "5                    NaN        True            85626417     8.450447e+17   \n",
       "6                    NaN        True            18935802     8.438721e+17   \n",
       "7                    NaN        True            18935802     8.393382e+17   \n",
       "8                    NaN        True            94335911     8.585431e+17   \n",
       "9                    NaN        True            18935802     8.472199e+17   \n",
       "10                   NaN        True            33994488     8.587855e+17   \n",
       "11                   NaN        True           210501383     8.534604e+17   \n",
       "12                   NaN        True            18935802     8.495440e+17   \n",
       "13                   NaN        True            36079217     8.426355e+17   \n",
       "14                   NaN        True            33994488     8.439035e+17   \n",
       "15                   NaN        True  718834510994006016     8.528411e+17   \n",
       "16                   NaN        True           914794146     8.516639e+17   \n",
       "17                   NaN        True            16476536     8.408108e+17   \n",
       "18                   NaN        True          1130603749     8.567989e+17   \n",
       "19                   NaN        True          1664604020     8.500743e+17   \n",
       "\n",
       "    quote_count        ...         \\\n",
       "0             0        ...          \n",
       "1             0        ...          \n",
       "2             0        ...          \n",
       "3             0        ...          \n",
       "4             0        ...          \n",
       "5             0        ...          \n",
       "6             0        ...          \n",
       "7             0        ...          \n",
       "8             0        ...          \n",
       "9             0        ...          \n",
       "10            0        ...          \n",
       "11            0        ...          \n",
       "12            0        ...          \n",
       "13            0        ...          \n",
       "14            0        ...          \n",
       "15            0        ...          \n",
       "16            0        ...          \n",
       "17            0        ...          \n",
       "18            0        ...          \n",
       "19            0        ...          \n",
       "\n",
       "                                    user_display_name  \\\n",
       "0   378410ae3ae135e4f2271e4cad9190bae2d5b029c58881...   \n",
       "1   378410ae3ae135e4f2271e4cad9190bae2d5b029c58881...   \n",
       "2   378410ae3ae135e4f2271e4cad9190bae2d5b029c58881...   \n",
       "3   378410ae3ae135e4f2271e4cad9190bae2d5b029c58881...   \n",
       "4   378410ae3ae135e4f2271e4cad9190bae2d5b029c58881...   \n",
       "5   378410ae3ae135e4f2271e4cad9190bae2d5b029c58881...   \n",
       "6   378410ae3ae135e4f2271e4cad9190bae2d5b029c58881...   \n",
       "7   378410ae3ae135e4f2271e4cad9190bae2d5b029c58881...   \n",
       "8   378410ae3ae135e4f2271e4cad9190bae2d5b029c58881...   \n",
       "9   378410ae3ae135e4f2271e4cad9190bae2d5b029c58881...   \n",
       "10  378410ae3ae135e4f2271e4cad9190bae2d5b029c58881...   \n",
       "11  378410ae3ae135e4f2271e4cad9190bae2d5b029c58881...   \n",
       "12  378410ae3ae135e4f2271e4cad9190bae2d5b029c58881...   \n",
       "13  378410ae3ae135e4f2271e4cad9190bae2d5b029c58881...   \n",
       "14  378410ae3ae135e4f2271e4cad9190bae2d5b029c58881...   \n",
       "15  378410ae3ae135e4f2271e4cad9190bae2d5b029c58881...   \n",
       "16  378410ae3ae135e4f2271e4cad9190bae2d5b029c58881...   \n",
       "17  378410ae3ae135e4f2271e4cad9190bae2d5b029c58881...   \n",
       "18  378410ae3ae135e4f2271e4cad9190bae2d5b029c58881...   \n",
       "19  378410ae3ae135e4f2271e4cad9190bae2d5b029c58881...   \n",
       "\n",
       "                                     user_screen_name  user_reported_location  \\\n",
       "0   378410ae3ae135e4f2271e4cad9190bae2d5b029c58881...                   Italy   \n",
       "1   378410ae3ae135e4f2271e4cad9190bae2d5b029c58881...                   Italy   \n",
       "2   378410ae3ae135e4f2271e4cad9190bae2d5b029c58881...                   Italy   \n",
       "3   378410ae3ae135e4f2271e4cad9190bae2d5b029c58881...                   Italy   \n",
       "4   378410ae3ae135e4f2271e4cad9190bae2d5b029c58881...                   Italy   \n",
       "5   378410ae3ae135e4f2271e4cad9190bae2d5b029c58881...                   Italy   \n",
       "6   378410ae3ae135e4f2271e4cad9190bae2d5b029c58881...                   Italy   \n",
       "7   378410ae3ae135e4f2271e4cad9190bae2d5b029c58881...                   Italy   \n",
       "8   378410ae3ae135e4f2271e4cad9190bae2d5b029c58881...                   Italy   \n",
       "9   378410ae3ae135e4f2271e4cad9190bae2d5b029c58881...                   Italy   \n",
       "10  378410ae3ae135e4f2271e4cad9190bae2d5b029c58881...                   Italy   \n",
       "11  378410ae3ae135e4f2271e4cad9190bae2d5b029c58881...                   Italy   \n",
       "12  378410ae3ae135e4f2271e4cad9190bae2d5b029c58881...                   Italy   \n",
       "13  378410ae3ae135e4f2271e4cad9190bae2d5b029c58881...                   Italy   \n",
       "14  378410ae3ae135e4f2271e4cad9190bae2d5b029c58881...                   Italy   \n",
       "15  378410ae3ae135e4f2271e4cad9190bae2d5b029c58881...                   Italy   \n",
       "16  378410ae3ae135e4f2271e4cad9190bae2d5b029c58881...                   Italy   \n",
       "17  378410ae3ae135e4f2271e4cad9190bae2d5b029c58881...                   Italy   \n",
       "18  378410ae3ae135e4f2271e4cad9190bae2d5b029c58881...                   Italy   \n",
       "19  378410ae3ae135e4f2271e4cad9190bae2d5b029c58881...                   Italy   \n",
       "\n",
       "   user_profile_description user_profile_url account_creation_date  \\\n",
       "0                    ❤️❤️❤️              NaN            2017-03-06   \n",
       "1                    ❤️❤️❤️              NaN            2017-03-06   \n",
       "2                    ❤️❤️❤️              NaN            2017-03-06   \n",
       "3                    ❤️❤️❤️              NaN            2017-03-06   \n",
       "4                    ❤️❤️❤️              NaN            2017-03-06   \n",
       "5                    ❤️❤️❤️              NaN            2017-03-06   \n",
       "6                    ❤️❤️❤️              NaN            2017-03-06   \n",
       "7                    ❤️❤️❤️              NaN            2017-03-06   \n",
       "8                    ❤️❤️❤️              NaN            2017-03-06   \n",
       "9                    ❤️❤️❤️              NaN            2017-03-06   \n",
       "10                   ❤️❤️❤️              NaN            2017-03-06   \n",
       "11                   ❤️❤️❤️              NaN            2017-03-06   \n",
       "12                   ❤️❤️❤️              NaN            2017-03-06   \n",
       "13                   ❤️❤️❤️              NaN            2017-03-06   \n",
       "14                   ❤️❤️❤️              NaN            2017-03-06   \n",
       "15                   ❤️❤️❤️              NaN            2017-03-06   \n",
       "16                   ❤️❤️❤️              NaN            2017-03-06   \n",
       "17                   ❤️❤️❤️              NaN            2017-03-06   \n",
       "18                   ❤️❤️❤️              NaN            2017-03-06   \n",
       "19                   ❤️❤️❤️              NaN            2017-03-06   \n",
       "\n",
       "   account_language  follower_count_y following_count_y     last_tweet_at  \n",
       "0                en                99               545  2017-06-28 09:35  \n",
       "1                en                99               545  2017-06-28 09:35  \n",
       "2                en                99               545  2017-06-28 09:35  \n",
       "3                en                99               545  2017-06-28 09:35  \n",
       "4                en                99               545  2017-06-28 09:35  \n",
       "5                en                99               545  2017-06-28 09:35  \n",
       "6                en                99               545  2017-06-28 09:35  \n",
       "7                en                99               545  2017-06-28 09:35  \n",
       "8                en                99               545  2017-06-28 09:35  \n",
       "9                en                99               545  2017-06-28 09:35  \n",
       "10               en                99               545  2017-06-28 09:35  \n",
       "11               en                99               545  2017-06-28 09:35  \n",
       "12               en                99               545  2017-06-28 09:35  \n",
       "13               en                99               545  2017-06-28 09:35  \n",
       "14               en                99               545  2017-06-28 09:35  \n",
       "15               en                99               545  2017-06-28 09:35  \n",
       "16               en                99               545  2017-06-28 09:35  \n",
       "17               en                99               545  2017-06-28 09:35  \n",
       "18               en                99               545  2017-06-28 09:35  \n",
       "19               en                99               545  2017-06-28 09:35  \n",
       "\n",
       "[20 rows x 36 columns]"
      ]
     },
     "execution_count": 20,
     "metadata": {},
     "output_type": "execute_result"
    }
   ],
   "source": [
    "data4 = pd.read_csv(zip_file.open('rus_troll_user.csv'))\n",
    "italian_tweets = datanew[datanew.tweet_language == 'it']\n",
    "italian_tweets = pd.merge(italian_tweets, data4, on ='userid')\n",
    "italian_tweets.shape\n",
    "italian_tweets.to_csv(\"italian_tweets.csv\")\n",
    "italian_tweets.head(20)"
   ]
  },
  {
   "cell_type": "markdown",
   "metadata": {},
   "source": [
    "### Authors: following and followers"
   ]
  },
  {
   "cell_type": "markdown",
   "metadata": {},
   "source": [
    "> The idea in this part is to show the popolarity of the authors, according to the number of following/followers they have. In particulat this could be useful for us to understand which is the true influence of the Italian IRA tweets on people."
   ]
  },
  {
   "cell_type": "markdown",
   "metadata": {},
   "source": [
    "We retrieve the two files created."
   ]
  },
  {
   "cell_type": "code",
   "execution_count": 21,
   "metadata": {},
   "outputs": [
    {
     "data": {
      "text/plain": [
       "Index(['Unnamed: 0', 'tweetid', 'userid', 'tweet_time', 'in_reply_to_tweetid',\n",
       "       'in_reply_to_userid', 'quoted_tweet_tweetid', 'is_retweet',\n",
       "       'retweet_userid', 'retweet_tweetid', 'quote_count', 'reply_count',\n",
       "       'like_count', 'retweet_count', 'hashtags', 'urls', 'user_mentions',\n",
       "       'poll_choices', 'tweetid.1', 'tweet_language', 'tweet_text',\n",
       "       'tweetid.2', 'follower_count_x', 'following_count_x', 'latitude',\n",
       "       'longitude', 'tweet_client_name', 'user_display_name',\n",
       "       'user_screen_name', 'user_reported_location',\n",
       "       'user_profile_description', 'user_profile_url', 'account_creation_date',\n",
       "       'account_language', 'follower_count_y', 'following_count_y',\n",
       "       'last_tweet_at'],\n",
       "      dtype='object')"
      ]
     },
     "execution_count": 21,
     "metadata": {},
     "output_type": "execute_result"
    }
   ],
   "source": [
    "italian_tweets = pd.read_csv('italian_tweets.csv')\n",
    "italian_tweets_old = pd.read_csv('italian_tweets_old.csv')\n",
    "italian_tweets.columns"
   ]
  },
  {
   "cell_type": "code",
   "execution_count": 22,
   "metadata": {},
   "outputs": [
    {
     "data": {
      "text/html": [
       "<div>\n",
       "<style scoped>\n",
       "    .dataframe tbody tr th:only-of-type {\n",
       "        vertical-align: middle;\n",
       "    }\n",
       "\n",
       "    .dataframe tbody tr th {\n",
       "        vertical-align: top;\n",
       "    }\n",
       "\n",
       "    .dataframe thead th {\n",
       "        text-align: right;\n",
       "    }\n",
       "</style>\n",
       "<table border=\"1\" class=\"dataframe\">\n",
       "  <thead>\n",
       "    <tr style=\"text-align: right;\">\n",
       "      <th></th>\n",
       "      <th>Unnamed: 0</th>\n",
       "      <th>tweetid</th>\n",
       "      <th>userid</th>\n",
       "      <th>tweet_time</th>\n",
       "      <th>in_reply_to_tweetid</th>\n",
       "      <th>in_reply_to_userid</th>\n",
       "      <th>quoted_tweet_tweetid</th>\n",
       "      <th>is_retweet</th>\n",
       "      <th>retweet_userid</th>\n",
       "      <th>retweet_tweetid</th>\n",
       "      <th>...</th>\n",
       "      <th>user_display_name</th>\n",
       "      <th>user_screen_name</th>\n",
       "      <th>user_reported_location</th>\n",
       "      <th>user_profile_description</th>\n",
       "      <th>user_profile_url</th>\n",
       "      <th>account_creation_date</th>\n",
       "      <th>account_language</th>\n",
       "      <th>follower_count_y</th>\n",
       "      <th>following_count_y</th>\n",
       "      <th>last_tweet_at</th>\n",
       "    </tr>\n",
       "  </thead>\n",
       "  <tbody>\n",
       "    <tr>\n",
       "      <th>0</th>\n",
       "      <td>0</td>\n",
       "      <td>841607500931584000</td>\n",
       "      <td>378410ae3ae135e4f2271e4cad9190bae2d5b029c58881...</td>\n",
       "      <td>2017-03-14 11:10</td>\n",
       "      <td>NaN</td>\n",
       "      <td>NaN</td>\n",
       "      <td>NaN</td>\n",
       "      <td>True</td>\n",
       "      <td>95217122</td>\n",
       "      <td>8.416069e+17</td>\n",
       "      <td>...</td>\n",
       "      <td>378410ae3ae135e4f2271e4cad9190bae2d5b029c58881...</td>\n",
       "      <td>378410ae3ae135e4f2271e4cad9190bae2d5b029c58881...</td>\n",
       "      <td>Italy</td>\n",
       "      <td>❤️❤️❤️</td>\n",
       "      <td>NaN</td>\n",
       "      <td>2017-03-06</td>\n",
       "      <td>en</td>\n",
       "      <td>99</td>\n",
       "      <td>545</td>\n",
       "      <td>2017-06-28 09:35</td>\n",
       "    </tr>\n",
       "    <tr>\n",
       "      <th>1</th>\n",
       "      <td>1</td>\n",
       "      <td>842354395077533696</td>\n",
       "      <td>378410ae3ae135e4f2271e4cad9190bae2d5b029c58881...</td>\n",
       "      <td>2017-03-16 12:38</td>\n",
       "      <td>NaN</td>\n",
       "      <td>NaN</td>\n",
       "      <td>NaN</td>\n",
       "      <td>True</td>\n",
       "      <td>100185915</td>\n",
       "      <td>8.423537e+17</td>\n",
       "      <td>...</td>\n",
       "      <td>378410ae3ae135e4f2271e4cad9190bae2d5b029c58881...</td>\n",
       "      <td>378410ae3ae135e4f2271e4cad9190bae2d5b029c58881...</td>\n",
       "      <td>Italy</td>\n",
       "      <td>❤️❤️❤️</td>\n",
       "      <td>NaN</td>\n",
       "      <td>2017-03-06</td>\n",
       "      <td>en</td>\n",
       "      <td>99</td>\n",
       "      <td>545</td>\n",
       "      <td>2017-06-28 09:35</td>\n",
       "    </tr>\n",
       "    <tr>\n",
       "      <th>2</th>\n",
       "      <td>2</td>\n",
       "      <td>844596831786979330</td>\n",
       "      <td>378410ae3ae135e4f2271e4cad9190bae2d5b029c58881...</td>\n",
       "      <td>2017-03-22 17:09</td>\n",
       "      <td>NaN</td>\n",
       "      <td>NaN</td>\n",
       "      <td>NaN</td>\n",
       "      <td>True</td>\n",
       "      <td>210501383</td>\n",
       "      <td>8.445961e+17</td>\n",
       "      <td>...</td>\n",
       "      <td>378410ae3ae135e4f2271e4cad9190bae2d5b029c58881...</td>\n",
       "      <td>378410ae3ae135e4f2271e4cad9190bae2d5b029c58881...</td>\n",
       "      <td>Italy</td>\n",
       "      <td>❤️❤️❤️</td>\n",
       "      <td>NaN</td>\n",
       "      <td>2017-03-06</td>\n",
       "      <td>en</td>\n",
       "      <td>99</td>\n",
       "      <td>545</td>\n",
       "      <td>2017-06-28 09:35</td>\n",
       "    </tr>\n",
       "    <tr>\n",
       "      <th>3</th>\n",
       "      <td>3</td>\n",
       "      <td>845024247672057856</td>\n",
       "      <td>378410ae3ae135e4f2271e4cad9190bae2d5b029c58881...</td>\n",
       "      <td>2017-03-23 21:27</td>\n",
       "      <td>NaN</td>\n",
       "      <td>NaN</td>\n",
       "      <td>NaN</td>\n",
       "      <td>True</td>\n",
       "      <td>58453980</td>\n",
       "      <td>8.450236e+17</td>\n",
       "      <td>...</td>\n",
       "      <td>378410ae3ae135e4f2271e4cad9190bae2d5b029c58881...</td>\n",
       "      <td>378410ae3ae135e4f2271e4cad9190bae2d5b029c58881...</td>\n",
       "      <td>Italy</td>\n",
       "      <td>❤️❤️❤️</td>\n",
       "      <td>NaN</td>\n",
       "      <td>2017-03-06</td>\n",
       "      <td>en</td>\n",
       "      <td>99</td>\n",
       "      <td>545</td>\n",
       "      <td>2017-06-28 09:35</td>\n",
       "    </tr>\n",
       "    <tr>\n",
       "      <th>4</th>\n",
       "      <td>4</td>\n",
       "      <td>851197631724347392</td>\n",
       "      <td>378410ae3ae135e4f2271e4cad9190bae2d5b029c58881...</td>\n",
       "      <td>2017-04-09 22:18</td>\n",
       "      <td>NaN</td>\n",
       "      <td>NaN</td>\n",
       "      <td>NaN</td>\n",
       "      <td>True</td>\n",
       "      <td>36079217</td>\n",
       "      <td>8.511971e+17</td>\n",
       "      <td>...</td>\n",
       "      <td>378410ae3ae135e4f2271e4cad9190bae2d5b029c58881...</td>\n",
       "      <td>378410ae3ae135e4f2271e4cad9190bae2d5b029c58881...</td>\n",
       "      <td>Italy</td>\n",
       "      <td>❤️❤️❤️</td>\n",
       "      <td>NaN</td>\n",
       "      <td>2017-03-06</td>\n",
       "      <td>en</td>\n",
       "      <td>99</td>\n",
       "      <td>545</td>\n",
       "      <td>2017-06-28 09:35</td>\n",
       "    </tr>\n",
       "  </tbody>\n",
       "</table>\n",
       "<p>5 rows × 37 columns</p>\n",
       "</div>"
      ],
      "text/plain": [
       "   Unnamed: 0             tweetid  \\\n",
       "0           0  841607500931584000   \n",
       "1           1  842354395077533696   \n",
       "2           2  844596831786979330   \n",
       "3           3  845024247672057856   \n",
       "4           4  851197631724347392   \n",
       "\n",
       "                                              userid        tweet_time  \\\n",
       "0  378410ae3ae135e4f2271e4cad9190bae2d5b029c58881...  2017-03-14 11:10   \n",
       "1  378410ae3ae135e4f2271e4cad9190bae2d5b029c58881...  2017-03-16 12:38   \n",
       "2  378410ae3ae135e4f2271e4cad9190bae2d5b029c58881...  2017-03-22 17:09   \n",
       "3  378410ae3ae135e4f2271e4cad9190bae2d5b029c58881...  2017-03-23 21:27   \n",
       "4  378410ae3ae135e4f2271e4cad9190bae2d5b029c58881...  2017-04-09 22:18   \n",
       "\n",
       "   in_reply_to_tweetid in_reply_to_userid  quoted_tweet_tweetid  is_retweet  \\\n",
       "0                  NaN                NaN                   NaN        True   \n",
       "1                  NaN                NaN                   NaN        True   \n",
       "2                  NaN                NaN                   NaN        True   \n",
       "3                  NaN                NaN                   NaN        True   \n",
       "4                  NaN                NaN                   NaN        True   \n",
       "\n",
       "  retweet_userid  retweet_tweetid        ...         \\\n",
       "0       95217122     8.416069e+17        ...          \n",
       "1      100185915     8.423537e+17        ...          \n",
       "2      210501383     8.445961e+17        ...          \n",
       "3       58453980     8.450236e+17        ...          \n",
       "4       36079217     8.511971e+17        ...          \n",
       "\n",
       "                                   user_display_name  \\\n",
       "0  378410ae3ae135e4f2271e4cad9190bae2d5b029c58881...   \n",
       "1  378410ae3ae135e4f2271e4cad9190bae2d5b029c58881...   \n",
       "2  378410ae3ae135e4f2271e4cad9190bae2d5b029c58881...   \n",
       "3  378410ae3ae135e4f2271e4cad9190bae2d5b029c58881...   \n",
       "4  378410ae3ae135e4f2271e4cad9190bae2d5b029c58881...   \n",
       "\n",
       "                                    user_screen_name  user_reported_location  \\\n",
       "0  378410ae3ae135e4f2271e4cad9190bae2d5b029c58881...                   Italy   \n",
       "1  378410ae3ae135e4f2271e4cad9190bae2d5b029c58881...                   Italy   \n",
       "2  378410ae3ae135e4f2271e4cad9190bae2d5b029c58881...                   Italy   \n",
       "3  378410ae3ae135e4f2271e4cad9190bae2d5b029c58881...                   Italy   \n",
       "4  378410ae3ae135e4f2271e4cad9190bae2d5b029c58881...                   Italy   \n",
       "\n",
       "   user_profile_description user_profile_url account_creation_date  \\\n",
       "0                    ❤️❤️❤️              NaN            2017-03-06   \n",
       "1                    ❤️❤️❤️              NaN            2017-03-06   \n",
       "2                    ❤️❤️❤️              NaN            2017-03-06   \n",
       "3                    ❤️❤️❤️              NaN            2017-03-06   \n",
       "4                    ❤️❤️❤️              NaN            2017-03-06   \n",
       "\n",
       "  account_language  follower_count_y  following_count_y     last_tweet_at  \n",
       "0               en                99                545  2017-06-28 09:35  \n",
       "1               en                99                545  2017-06-28 09:35  \n",
       "2               en                99                545  2017-06-28 09:35  \n",
       "3               en                99                545  2017-06-28 09:35  \n",
       "4               en                99                545  2017-06-28 09:35  \n",
       "\n",
       "[5 rows x 37 columns]"
      ]
     },
     "execution_count": 22,
     "metadata": {},
     "output_type": "execute_result"
    }
   ],
   "source": [
    "italian_tweets.head(5)"
   ]
  },
  {
   "cell_type": "code",
   "execution_count": 23,
   "metadata": {},
   "outputs": [
    {
     "data": {
      "text/plain": [
       "Index(['Unnamed: 0', 'external_author_id', 'author', 'content', 'region',\n",
       "       'language', 'publish_date', 'harvested_date', 'following', 'followers',\n",
       "       'updates', 'post_type', 'account_type', 'new_june_2018', 'retweet',\n",
       "       'account_category'],\n",
       "      dtype='object')"
      ]
     },
     "execution_count": 23,
     "metadata": {},
     "output_type": "execute_result"
    }
   ],
   "source": [
    "italian_tweets_old.columns"
   ]
  },
  {
   "cell_type": "code",
   "execution_count": null,
   "metadata": {},
   "outputs": [],
   "source": [
    "#italian_tweets['tweet_time'] =  pd.to_datetime(italian_tweets['tweet_time'], format='%Y/%m/%d %H:%M')\n",
    "#italian_tweets_old['publish_date'] =  pd.to_datetime(italian_tweets_old['publish_date'], format='%m/%d/%Y %H:%M')"
   ]
  },
  {
   "cell_type": "markdown",
   "metadata": {},
   "source": [
    "We modify the structure of the new dataset to match the previous one."
   ]
  },
  {
   "cell_type": "code",
   "execution_count": 24,
   "metadata": {},
   "outputs": [],
   "source": [
    "italian_tweets['tweet_time'] =  pd.to_datetime(italian_tweets['tweet_time'], format='%Y/%m/%d %H:%M')\n",
    "italian_tweets_old['publish_date'] =  pd.to_datetime(italian_tweets_old['publish_date'], format='%m/%d/%Y %H:%M')\n",
    "italian_tweets=italian_tweets.rename(index=str, columns={\"user_display_name\":\"author\",\n",
    "                                                         \"follower_count_x\": \"followers\",\n",
    "                                                         \"following_count_x\": \"following\",\n",
    "                                                         \"tweet_time\":\"time\"})\n",
    "italian_tweets_old=italian_tweets_old.rename(index=str, columns={\"publish_date\":\"time\"})\n",
    "italian_tweets=italian_tweets.rename(index=str, columns={\"tweet_text\":\"content\"})"
   ]
  },
  {
   "cell_type": "markdown",
   "metadata": {},
   "source": [
    "We calculate for each author the maximum number of following/followers by taking a group by on author and computing the maximum over the two numbers. Then we calculate the average in a similar way. Finally we plot the result in logarithmic scale."
   ]
  },
  {
   "cell_type": "code",
   "execution_count": 25,
   "metadata": {},
   "outputs": [],
   "source": [
    "# Concatenate the two dataset using columns of interest\n",
    "followers=pd.concat([italian_tweets[['author','followers','time']],italian_tweets_old[['author','followers','time']]])\n",
    "\n",
    "# Group by author and calculate max\n",
    "followers=followers.groupby('author').agg({'followers': 'max'}).rename(columns={'followers':'max_followers'})\n",
    "\n",
    "# Concatenate the two dataset using columns of interest\n",
    "following=pd.concat([italian_tweets[['author','following','time']],italian_tweets_old[['author','following','time']]])\n",
    "\n",
    "\n",
    "# Group by author and calculate max\n",
    "following=following.groupby('author').agg({'following': 'max'}).rename(columns={'following':'max_following'})"
   ]
  },
  {
   "cell_type": "code",
   "execution_count": 26,
   "metadata": {},
   "outputs": [],
   "source": [
    "# Concatenate the two dataset using columns of interest\n",
    "avgfollowers=pd.concat([italian_tweets[['author','followers','time']],italian_tweets_old[['author','followers','time']]])\n",
    "\n",
    "# Group by author and calculate mean\n",
    "avgfollowers=avgfollowers.groupby('author').agg({'followers': 'mean'}).rename(columns={'followers':'mean_followers'})\n",
    "\n",
    "# Concatenate the two dataset using columns of interest\n",
    "avgfollowing=pd.concat([italian_tweets[['author','following','time']],italian_tweets_old[['author','following','time']]])\n",
    "\n",
    "# Group by author and calculate mean\n",
    "avgfollowing=avgfollowing.groupby('author').agg({'following': 'mean'}).rename(columns={'following':'mean_following'})"
   ]
  },
  {
   "cell_type": "code",
   "execution_count": 27,
   "metadata": {},
   "outputs": [
    {
     "data": {
      "image/png": "[encoded data removed]",
      "text/plain": [
       "<Figure size 1440x936 with 4 Axes>"
      ]
     },
     "metadata": {},
     "output_type": "display_data"
    }
   ],
   "source": [
    "# Plot results\n",
    "fig=plt.figure(figsize=(20,13))\n",
    "fig.suptitle('Visualization of the distribution of following/followers', fontsize=14, fontweight='bold')\n",
    "\n",
    "ax = fig.add_subplot(221)\n",
    "ax.hist(following.max_following,bins=100,log=True)\n",
    "ax.set_xlabel('Number of Following(Max)')\n",
    "ax.set_ylabel('Counts')\n",
    "ax.set_title(r'Max-Following Number Distribution for Each Author')\n",
    "plt.locator_params(axis='x',nbins=6)\n",
    "\n",
    "ax2 = fig.add_subplot(222)\n",
    "ax2.hist(followers.max_followers,bins=100,log=True)\n",
    "ax2.set_xlabel('Number of Followers(Max)')\n",
    "ax2.set_ylabel('Counts')\n",
    "ax2.set_title(r'Max-Followers Number Distribution for Each Author')\n",
    "plt.locator_params(axis='x',nbins=6)\n",
    "\n",
    "ax3 = fig.add_subplot(223)\n",
    "ax3.hist(avgfollowing.mean_following,bins=100,log=True)\n",
    "ax3.set_xlabel('Number of Mean-Following(Mean)')\n",
    "ax3.set_ylabel('Counts')\n",
    "ax3.set_title(r'Mean-Following Number Distribution for Each Author')\n",
    "plt.locator_params(axis='x',nbins=6)\n",
    "\n",
    "ax4 = fig.add_subplot(224)\n",
    "ax4.hist(avgfollowers.mean_followers,bins=100,log=True)\n",
    "ax4.set_xlabel('Number of Mean-Followers(Mean)')\n",
    "ax4.set_ylabel('Counts')\n",
    "ax4.set_title(r'Mean-Followers Number Distribution for Each Author')\n",
    "plt.locator_params(axis='x',nbins=6)\n",
    "\n",
    "plt.show()"
   ]
  },
  {
   "cell_type": "markdown",
   "metadata": {},
   "source": [
    "According to the previous plot, we have the interest to restrict our representation to the author with a smaller number of following/followers."
   ]
  },
  {
   "cell_type": "code",
   "execution_count": 28,
   "metadata": {},
   "outputs": [],
   "source": [
    "counters=italian_tweets.groupby('author').count()\n",
    "less_following = following.loc[following['max_following'] < 50000]\n",
    "less_followers = followers.loc[followers['max_followers'] < 50000]"
   ]
  },
  {
   "cell_type": "code",
   "execution_count": 29,
   "metadata": {},
   "outputs": [
    {
     "data": {
      "image/png": "[encoded data removed]",
      "text/plain": [
       "<Figure size 720x288 with 2 Axes>"
      ]
     },
     "metadata": {},
     "output_type": "display_data"
    }
   ],
   "source": [
    "# Plot the results\n",
    "fig=plt.figure(figsize=(10,4))\n",
    "fig.suptitle('Visualization of the distribution of following/followers(Number<50000)', fontsize=14, fontweight='bold')\n",
    "ax = fig.add_subplot(121)\n",
    "\n",
    "ax.hist(less_following.max_following,bins=100, log=True)\n",
    "ax.set_xlabel('Number of following')\n",
    "ax.set_ylabel('Counts')\n",
    "ax.set_title(r'Following')\n",
    "plt.locator_params(axis='x',nbins=4)\n",
    "\n",
    "ax2 = fig.add_subplot(122)\n",
    "ax2.hist(less_followers.max_followers,bins=100,log=True)\n",
    "ax2.set_xlabel('Number of followers')\n",
    "ax2.set_ylabel('Counts')\n",
    "ax2.set_title(r'Followers')\n",
    "\n",
    "plt.show()"
   ]
  },
  {
   "cell_type": "markdown",
   "metadata": {},
   "source": [
    "> The numbers we have found (the number of author with a certain number of following/followers is relative high) confirme us that this analysis makes sense; therefore, we continue our exploratory analyzes to look for new validations."
   ]
  },
  {
   "cell_type": "markdown",
   "metadata": {},
   "source": [
    "### Authors: activity"
   ]
  },
  {
   "cell_type": "markdown",
   "metadata": {},
   "source": [
    "> In this part the idea is to investigate the distribution of the average number of tweets/day. In particular after removing duplicates after the concatenation, we calculate for each author the average number of tweets sent out per day. Finally we store the information about the most prolific authors, i.e. authors whose average/day is large enough."
   ]
  },
  {
   "cell_type": "code",
   "execution_count": 30,
   "metadata": {},
   "outputs": [
    {
     "data": {
      "text/html": [
       "<div>\n",
       "<style scoped>\n",
       "    .dataframe tbody tr th:only-of-type {\n",
       "        vertical-align: middle;\n",
       "    }\n",
       "\n",
       "    .dataframe tbody tr th {\n",
       "        vertical-align: top;\n",
       "    }\n",
       "\n",
       "    .dataframe thead th {\n",
       "        text-align: right;\n",
       "    }\n",
       "</style>\n",
       "<table border=\"1\" class=\"dataframe\">\n",
       "  <thead>\n",
       "    <tr style=\"text-align: right;\">\n",
       "      <th></th>\n",
       "      <th>content</th>\n",
       "      <th>author</th>\n",
       "      <th>time</th>\n",
       "    </tr>\n",
       "  </thead>\n",
       "  <tbody>\n",
       "    <tr>\n",
       "      <th>0</th>\n",
       "      <td>RT @MuseoOmero: #14marzo #paesaggioitaliano Mo...</td>\n",
       "      <td>378410ae3ae135e4f2271e4cad9190bae2d5b029c58881...</td>\n",
       "      <td>2017-03-14 11:10:00</td>\n",
       "    </tr>\n",
       "    <tr>\n",
       "      <th>1</th>\n",
       "      <td>RT @Radio3tweet: La ministra @valeriafedeli in...</td>\n",
       "      <td>378410ae3ae135e4f2271e4cad9190bae2d5b029c58881...</td>\n",
       "      <td>2017-03-16 12:38:00</td>\n",
       "    </tr>\n",
       "    <tr>\n",
       "      <th>2</th>\n",
       "      <td>RT @Radio1Rai: NEWS/ Attacco #Londra: May riun...</td>\n",
       "      <td>378410ae3ae135e4f2271e4cad9190bae2d5b029c58881...</td>\n",
       "      <td>2017-03-22 17:09:00</td>\n",
       "    </tr>\n",
       "    <tr>\n",
       "      <th>3</th>\n",
       "      <td>RT @PiazzapulitaLA7: Assolutamente non ci alle...</td>\n",
       "      <td>378410ae3ae135e4f2271e4cad9190bae2d5b029c58881...</td>\n",
       "      <td>2017-03-23 21:27:00</td>\n",
       "    </tr>\n",
       "    <tr>\n",
       "      <th>4</th>\n",
       "      <td>RT @ilmessaggeroit: Dopo Ivrea/ Le risposte ma...</td>\n",
       "      <td>378410ae3ae135e4f2271e4cad9190bae2d5b029c58881...</td>\n",
       "      <td>2017-04-09 22:18:00</td>\n",
       "    </tr>\n",
       "  </tbody>\n",
       "</table>\n",
       "</div>"
      ],
      "text/plain": [
       "                                             content  \\\n",
       "0  RT @MuseoOmero: #14marzo #paesaggioitaliano Mo...   \n",
       "1  RT @Radio3tweet: La ministra @valeriafedeli in...   \n",
       "2  RT @Radio1Rai: NEWS/ Attacco #Londra: May riun...   \n",
       "3  RT @PiazzapulitaLA7: Assolutamente non ci alle...   \n",
       "4  RT @ilmessaggeroit: Dopo Ivrea/ Le risposte ma...   \n",
       "\n",
       "                                              author                time  \n",
       "0  378410ae3ae135e4f2271e4cad9190bae2d5b029c58881... 2017-03-14 11:10:00  \n",
       "1  378410ae3ae135e4f2271e4cad9190bae2d5b029c58881... 2017-03-16 12:38:00  \n",
       "2  378410ae3ae135e4f2271e4cad9190bae2d5b029c58881... 2017-03-22 17:09:00  \n",
       "3  378410ae3ae135e4f2271e4cad9190bae2d5b029c58881... 2017-03-23 21:27:00  \n",
       "4  378410ae3ae135e4f2271e4cad9190bae2d5b029c58881... 2017-04-09 22:18:00  "
      ]
     },
     "execution_count": 30,
     "metadata": {},
     "output_type": "execute_result"
    }
   ],
   "source": [
    "italian_tweets=italian_tweets.rename(index=str, columns={\"tweet_text\":\"content\"})\n",
    "\n",
    "# Concatenate the two dataset using columns of interest\n",
    "authors=pd.concat([italian_tweets[['content','author','time']],italian_tweets_old[['content','author','time']]])\n",
    "\n",
    "# Eliminate duplicates\n",
    "authors=authors.drop_duplicates(subset='content')\n",
    "authors.head()"
   ]
  },
  {
   "cell_type": "markdown",
   "metadata": {},
   "source": [
    "Here we count the total number of all contents:"
   ]
  },
  {
   "cell_type": "code",
   "execution_count": 31,
   "metadata": {},
   "outputs": [
    {
     "data": {
      "text/plain": [
       "35051"
      ]
     },
     "execution_count": 31,
     "metadata": {},
     "output_type": "execute_result"
    }
   ],
   "source": [
    "authors.content.count()"
   ]
  },
  {
   "cell_type": "markdown",
   "metadata": {},
   "source": [
    "We find out that every content is unique:"
   ]
  },
  {
   "cell_type": "code",
   "execution_count": 32,
   "metadata": {},
   "outputs": [
    {
     "data": {
      "text/plain": [
       "35051"
      ]
     },
     "execution_count": 32,
     "metadata": {},
     "output_type": "execute_result"
    }
   ],
   "source": [
    "len(authors.content.unique())"
   ]
  },
  {
   "cell_type": "code",
   "execution_count": 33,
   "metadata": {},
   "outputs": [
    {
     "data": {
      "text/plain": [
       "content            object\n",
       "author             object\n",
       "time       datetime64[ns]\n",
       "dtype: object"
      ]
     },
     "execution_count": 33,
     "metadata": {},
     "output_type": "execute_result"
    }
   ],
   "source": [
    "authors.dtypes"
   ]
  },
  {
   "cell_type": "code",
   "execution_count": 34,
   "metadata": {},
   "outputs": [],
   "source": [
    "authors['time']=authors['time'].apply(lambda x: x.date())#Only keep the date\n",
    "#Count total number of tweets the author sent out in one day:\n",
    "authors=authors.groupby(['author','time']).agg('count').rename(columns={'content':'tot'})\n",
    "#Take the average number of tweets one author sent out per day:\n",
    "authors=authors.groupby(by='author',as_index=True).agg({'tot':'mean'}).reset_index().rename(columns={'tot':'avg'})"
   ]
  },
  {
   "cell_type": "code",
   "execution_count": 36,
   "metadata": {},
   "outputs": [
    {
     "data": {
      "image/png": "[encoded data removed]",
      "text/plain": [
       "<Figure size 432x288 with 1 Axes>"
      ]
     },
     "metadata": {},
     "output_type": "display_data"
    }
   ],
   "source": [
    "# Plot the results\n",
    "plt.hist(authors.avg, log=True)\n",
    "plt.xlabel('Average # of Twitter Sent/Day')\n",
    "plt.ylabel('Counts')\n",
    "plt.title(r'Distribution of Twitters(Avg) Sent Every Day')\n",
    "plt.show()"
   ]
  },
  {
   "cell_type": "code",
   "execution_count": 37,
   "metadata": {},
   "outputs": [
    {
     "data": {
      "text/html": [
       "<div>\n",
       "<style scoped>\n",
       "    .dataframe tbody tr th:only-of-type {\n",
       "        vertical-align: middle;\n",
       "    }\n",
       "\n",
       "    .dataframe tbody tr th {\n",
       "        vertical-align: top;\n",
       "    }\n",
       "\n",
       "    .dataframe thead th {\n",
       "        text-align: right;\n",
       "    }\n",
       "</style>\n",
       "<table border=\"1\" class=\"dataframe\">\n",
       "  <thead>\n",
       "    <tr style=\"text-align: right;\">\n",
       "      <th></th>\n",
       "      <th>content</th>\n",
       "      <th>author</th>\n",
       "      <th>time</th>\n",
       "    </tr>\n",
       "  </thead>\n",
       "  <tbody>\n",
       "    <tr>\n",
       "      <th>count</th>\n",
       "      <td>35423</td>\n",
       "      <td>35423</td>\n",
       "      <td>35423</td>\n",
       "    </tr>\n",
       "    <tr>\n",
       "      <th>unique</th>\n",
       "      <td>35051</td>\n",
       "      <td>1085</td>\n",
       "      <td>18620</td>\n",
       "    </tr>\n",
       "    <tr>\n",
       "      <th>top</th>\n",
       "      <td>.@kellycaye Kelly @itsaileenkn Daniel @Stanis4...</td>\n",
       "      <td>378410ae3ae135e4f2271e4cad9190bae2d5b029c58881...</td>\n",
       "      <td>2017-03-29 15:17:00</td>\n",
       "    </tr>\n",
       "    <tr>\n",
       "      <th>freq</th>\n",
       "      <td>2</td>\n",
       "      <td>3482</td>\n",
       "      <td>12</td>\n",
       "    </tr>\n",
       "    <tr>\n",
       "      <th>first</th>\n",
       "      <td>NaN</td>\n",
       "      <td>NaN</td>\n",
       "      <td>2012-07-09 12:16:00</td>\n",
       "    </tr>\n",
       "    <tr>\n",
       "      <th>last</th>\n",
       "      <td>NaN</td>\n",
       "      <td>NaN</td>\n",
       "      <td>2018-03-31 01:07:00</td>\n",
       "    </tr>\n",
       "  </tbody>\n",
       "</table>\n",
       "</div>"
      ],
      "text/plain": [
       "                                                  content  \\\n",
       "count                                               35423   \n",
       "unique                                              35051   \n",
       "top     .@kellycaye Kelly @itsaileenkn Daniel @Stanis4...   \n",
       "freq                                                    2   \n",
       "first                                                 NaN   \n",
       "last                                                  NaN   \n",
       "\n",
       "                                                   author                 time  \n",
       "count                                               35423                35423  \n",
       "unique                                               1085                18620  \n",
       "top     378410ae3ae135e4f2271e4cad9190bae2d5b029c58881...  2017-03-29 15:17:00  \n",
       "freq                                                 3482                   12  \n",
       "first                                                 NaN  2012-07-09 12:16:00  \n",
       "last                                                  NaN  2018-03-31 01:07:00  "
      ]
     },
     "execution_count": 37,
     "metadata": {},
     "output_type": "execute_result"
    }
   ],
   "source": [
    "tweets=pd.concat([italian_tweets[['content','author','time']],italian_tweets_old[['content','author','time']]])\n",
    "tweets.describe()"
   ]
  },
  {
   "cell_type": "code",
   "execution_count": 39,
   "metadata": {},
   "outputs": [
    {
     "data": {
      "text/html": [
       "<div>\n",
       "<style scoped>\n",
       "    .dataframe tbody tr th:only-of-type {\n",
       "        vertical-align: middle;\n",
       "    }\n",
       "\n",
       "    .dataframe tbody tr th {\n",
       "        vertical-align: top;\n",
       "    }\n",
       "\n",
       "    .dataframe thead th {\n",
       "        text-align: right;\n",
       "    }\n",
       "</style>\n",
       "<table border=\"1\" class=\"dataframe\">\n",
       "  <thead>\n",
       "    <tr style=\"text-align: right;\">\n",
       "      <th></th>\n",
       "      <th>content</th>\n",
       "      <th>author</th>\n",
       "      <th>time</th>\n",
       "      <th>avg</th>\n",
       "    </tr>\n",
       "  </thead>\n",
       "  <tbody>\n",
       "    <tr>\n",
       "      <th>0</th>\n",
       "      <td>RT @MuseoOmero: #14marzo #paesaggioitaliano Mo...</td>\n",
       "      <td>378410ae3ae135e4f2271e4cad9190bae2d5b029c58881...</td>\n",
       "      <td>2017-03-14 11:10:00</td>\n",
       "      <td>57.081967</td>\n",
       "    </tr>\n",
       "    <tr>\n",
       "      <th>1</th>\n",
       "      <td>RT @Radio3tweet: La ministra @valeriafedeli in...</td>\n",
       "      <td>378410ae3ae135e4f2271e4cad9190bae2d5b029c58881...</td>\n",
       "      <td>2017-03-16 12:38:00</td>\n",
       "      <td>57.081967</td>\n",
       "    </tr>\n",
       "    <tr>\n",
       "      <th>2</th>\n",
       "      <td>RT @Radio1Rai: NEWS/ Attacco #Londra: May riun...</td>\n",
       "      <td>378410ae3ae135e4f2271e4cad9190bae2d5b029c58881...</td>\n",
       "      <td>2017-03-22 17:09:00</td>\n",
       "      <td>57.081967</td>\n",
       "    </tr>\n",
       "    <tr>\n",
       "      <th>3</th>\n",
       "      <td>RT @PiazzapulitaLA7: Assolutamente non ci alle...</td>\n",
       "      <td>378410ae3ae135e4f2271e4cad9190bae2d5b029c58881...</td>\n",
       "      <td>2017-03-23 21:27:00</td>\n",
       "      <td>57.081967</td>\n",
       "    </tr>\n",
       "    <tr>\n",
       "      <th>4</th>\n",
       "      <td>RT @ilmessaggeroit: Dopo Ivrea/ Le risposte ma...</td>\n",
       "      <td>378410ae3ae135e4f2271e4cad9190bae2d5b029c58881...</td>\n",
       "      <td>2017-04-09 22:18:00</td>\n",
       "      <td>57.081967</td>\n",
       "    </tr>\n",
       "  </tbody>\n",
       "</table>\n",
       "</div>"
      ],
      "text/plain": [
       "                                             content  \\\n",
       "0  RT @MuseoOmero: #14marzo #paesaggioitaliano Mo...   \n",
       "1  RT @Radio3tweet: La ministra @valeriafedeli in...   \n",
       "2  RT @Radio1Rai: NEWS/ Attacco #Londra: May riun...   \n",
       "3  RT @PiazzapulitaLA7: Assolutamente non ci alle...   \n",
       "4  RT @ilmessaggeroit: Dopo Ivrea/ Le risposte ma...   \n",
       "\n",
       "                                              author                time  \\\n",
       "0  378410ae3ae135e4f2271e4cad9190bae2d5b029c58881... 2017-03-14 11:10:00   \n",
       "1  378410ae3ae135e4f2271e4cad9190bae2d5b029c58881... 2017-03-16 12:38:00   \n",
       "2  378410ae3ae135e4f2271e4cad9190bae2d5b029c58881... 2017-03-22 17:09:00   \n",
       "3  378410ae3ae135e4f2271e4cad9190bae2d5b029c58881... 2017-03-23 21:27:00   \n",
       "4  378410ae3ae135e4f2271e4cad9190bae2d5b029c58881... 2017-04-09 22:18:00   \n",
       "\n",
       "         avg  \n",
       "0  57.081967  \n",
       "1  57.081967  \n",
       "2  57.081967  \n",
       "3  57.081967  \n",
       "4  57.081967  "
      ]
     },
     "execution_count": 39,
     "metadata": {},
     "output_type": "execute_result"
    }
   ],
   "source": [
    "prolific=authors.loc[authors.avg>20]\n",
    "tweets_prolific=tweets.copy().merge(prolific,how='right',on='author')\n",
    "tweets_prolific=tweets_prolific[tweets_prolific['time'].apply(lambda x:x>datetime.strptime('01-01-2017', '%d-%m-%Y'))]\n",
    "tweets_prolific.head()\n",
    "#tweets.describe()"
   ]
  },
  {
   "cell_type": "markdown",
   "metadata": {},
   "source": [
    "### Italian politicians"
   ]
  },
  {
   "cell_type": "markdown",
   "metadata": {},
   "source": [
    ">Here we focus on analyzing the frequency of several important italian politicians when they were mentioned in tweets. We try to find their appearance frequency in all tweets and in tweets with prolific authors separately:"
   ]
  },
  {
   "cell_type": "code",
   "execution_count": 76,
   "metadata": {},
   "outputs": [],
   "source": [
    "#First we filter the tweets and only keep contents which are sent after 2017.01.01\n",
    "tweets_2017=tweets[tweets['time'].apply(lambda x:x>datetime.strptime('01-01-2017', '%d-%m-%Y'))]"
   ]
  },
  {
   "cell_type": "code",
   "execution_count": 79,
   "metadata": {},
   "outputs": [
    {
     "name": "stdout",
     "output_type": "stream",
     "text": [
      "'Renzi' mentioned in tweets_prolific: 444 times\n"
     ]
    }
   ],
   "source": [
    "renzi=tweets_prolific[tweets_prolific['content'].apply(lambda x: 'renzi' in x.lower())]\n",
    "print(\"'Renzi' mentioned in tweets_prolific:\", renzi.content.count(), \"times\")"
   ]
  },
  {
   "cell_type": "code",
   "execution_count": 80,
   "metadata": {},
   "outputs": [
    {
     "name": "stdout",
     "output_type": "stream",
     "text": [
      "'Renzi' mentioned in all tweets: 587 times\n"
     ]
    }
   ],
   "source": [
    "renzi=tweets_2017[tweets_2017['content'].apply(lambda x: 'renzi' in x.lower())]\n",
    "print(\"'Renzi' mentioned in all tweets:\", renzi.content.count(), \"times\")"
   ]
  },
  {
   "cell_type": "markdown",
   "metadata": {},
   "source": [
    "Matteo Renzi is an Italian politician who served as the Prime Minister of Italy from February 2014 until December 2016(from wikipedia). From above data, he was mentioned 481 times in tweets with prolific authors, and 643 times in all tweets."
   ]
  },
  {
   "cell_type": "code",
   "execution_count": 81,
   "metadata": {},
   "outputs": [
    {
     "name": "stdout",
     "output_type": "stream",
     "text": [
      "'Salvini' mentioned in tweets_prolific: 135 times\n"
     ]
    }
   ],
   "source": [
    "salvini=tweets_prolific[tweets_prolific['content'].apply(lambda x: 'salvini' in x.lower())]\n",
    "print(\"'Salvini' mentioned in tweets_prolific:\", salvini.content.count(), \"times\")"
   ]
  },
  {
   "cell_type": "code",
   "execution_count": 82,
   "metadata": {},
   "outputs": [
    {
     "name": "stdout",
     "output_type": "stream",
     "text": [
      "'Salvini' mentioned in all tweets: 185 times\n"
     ]
    }
   ],
   "source": [
    "salvini=tweets_2017[tweets_2017['content'].apply(lambda x: 'salvini' in x.lower())]\n",
    "print(\"'Salvini' mentioned in all tweets:\", salvini.content.count(), \"times\")"
   ]
  },
  {
   "cell_type": "markdown",
   "metadata": {},
   "source": [
    "Matteo Salvini has also been Federal Secretary of Northern League since December 2013 and the leader of Us with Salvini since December 2014(from wikipedia). From above data, he was mentioned 145 times in tweets with prolific authors, and 196 times in all tweets."
   ]
  },
  {
   "cell_type": "code",
   "execution_count": 83,
   "metadata": {},
   "outputs": [
    {
     "name": "stdout",
     "output_type": "stream",
     "text": [
      "'Grillo' mentioned in tweets_prolific: 129 times\n"
     ]
    }
   ],
   "source": [
    "grillo=tweets_prolific[tweets_prolific['content'].apply(lambda x: 'grillo' in x.lower())]\n",
    "print(\"'Grillo' mentioned in tweets_prolific:\", grillo.content.count(), \"times\")"
   ]
  },
  {
   "cell_type": "code",
   "execution_count": 84,
   "metadata": {},
   "outputs": [
    {
     "name": "stdout",
     "output_type": "stream",
     "text": [
      "'Grillo' mentioned in all tweets: 157 times\n"
     ]
    }
   ],
   "source": [
    "grillo=tweets_2017[tweets_2017['content'].apply(lambda x: 'grillo' in x.lower())]\n",
    "print(\"'Grillo' mentioned in all tweets:\", grillo.content.count(), \"times\")"
   ]
  },
  {
   "cell_type": "markdown",
   "metadata": {},
   "source": [
    "Beppe Grillo has been involved in politics since 2009 as the co-founder (together with Gianroberto Casaleggio) of the Italian Five Star Movement political party(from wikipedia). From above data, he was mentioned 139 times in tweets with prolific authors, and 172 times in all tweets."
   ]
  },
  {
   "cell_type": "code",
   "execution_count": 85,
   "metadata": {},
   "outputs": [
    {
     "name": "stdout",
     "output_type": "stream",
     "text": [
      "'Repubblica' mentioned in tweets_prolific: 1826 times\n"
     ]
    }
   ],
   "source": [
    "repubblica=tweets_prolific[tweets_prolific['content'].apply(lambda x: 'repubblica' in x.lower())]\n",
    "print(\"'Repubblica' mentioned in tweets_prolific:\", repubblica.content.count(), \"times\")"
   ]
  },
  {
   "cell_type": "code",
   "execution_count": 86,
   "metadata": {},
   "outputs": [
    {
     "name": "stdout",
     "output_type": "stream",
     "text": [
      "'Repubblica' mentioned in all tweets: 1826 times\n"
     ]
    }
   ],
   "source": [
    "rep=tweets_2017[tweets_2017['content'].apply(lambda x: 'repubblica' in x.lower())]\n",
    "print(\"'Repubblica' mentioned in all tweets:\", repubblica.content.count(), \"times\")"
   ]
  },
  {
   "cell_type": "markdown",
   "metadata": {},
   "source": [
    "Repubblica is a best-selling Italian daily general-interest newspaper. Born as a radical leftist newspaper, it has since moderated to a milder centre-left political stance(from wikipedia). This word is popular, and only appeared in \"prolific tweets\" with 2123 times."
   ]
  },
  {
   "cell_type": "markdown",
   "metadata": {},
   "source": [
    "### Geographical analysis "
   ]
  },
  {
   "cell_type": "markdown",
   "metadata": {},
   "source": [
    "> In this part the idea is to investigate the distribution of tweets' citations of Italian communes(Itatian: comune) and regions(Italian: regione) geographically. In other words, for each region/commune we calculate the number of tweets that mention that region/commune."
   ]
  },
  {
   "cell_type": "code",
   "execution_count": 48,
   "metadata": {},
   "outputs": [
    {
     "data": {
      "text/html": [
       "<div>\n",
       "<style scoped>\n",
       "    .dataframe tbody tr th:only-of-type {\n",
       "        vertical-align: middle;\n",
       "    }\n",
       "\n",
       "    .dataframe tbody tr th {\n",
       "        vertical-align: top;\n",
       "    }\n",
       "\n",
       "    .dataframe thead th {\n",
       "        text-align: right;\n",
       "    }\n",
       "</style>\n",
       "<table border=\"1\" class=\"dataframe\">\n",
       "  <thead>\n",
       "    <tr style=\"text-align: right;\">\n",
       "      <th></th>\n",
       "      <th>regione</th>\n",
       "      <th>count</th>\n",
       "    </tr>\n",
       "    <tr>\n",
       "      <th>comune</th>\n",
       "      <th></th>\n",
       "      <th></th>\n",
       "    </tr>\n",
       "  </thead>\n",
       "  <tbody>\n",
       "    <tr>\n",
       "      <th>Agliè</th>\n",
       "      <td>piemonte</td>\n",
       "      <td>0</td>\n",
       "    </tr>\n",
       "    <tr>\n",
       "      <th>Airasca</th>\n",
       "      <td>piemonte</td>\n",
       "      <td>0</td>\n",
       "    </tr>\n",
       "    <tr>\n",
       "      <th>Ala di Stura</th>\n",
       "      <td>piemonte</td>\n",
       "      <td>0</td>\n",
       "    </tr>\n",
       "    <tr>\n",
       "      <th>Albiano d'Ivrea</th>\n",
       "      <td>piemonte</td>\n",
       "      <td>0</td>\n",
       "    </tr>\n",
       "    <tr>\n",
       "      <th>Alice Superiore</th>\n",
       "      <td>piemonte</td>\n",
       "      <td>0</td>\n",
       "    </tr>\n",
       "  </tbody>\n",
       "</table>\n",
       "</div>"
      ],
      "text/plain": [
       "                  regione  count\n",
       "comune                          \n",
       "Agliè            piemonte  0    \n",
       "Airasca          piemonte  0    \n",
       "Ala di Stura     piemonte  0    \n",
       "Albiano d'Ivrea  piemonte  0    \n",
       "Alice Superiore  piemonte  0    "
      ]
     },
     "execution_count": 48,
     "metadata": {},
     "output_type": "execute_result"
    }
   ],
   "source": [
    "#We find an excel form called \"comuni.xls\", and read it:\n",
    "munic = pd.read_excel('comuni.xls')\n",
    "munic=munic.rename(columns={'Denominazione in italiano':'comune','Denominazione regione':'regione'})[['comune','regione']]\n",
    "munic.regione=munic.regione.apply(lambda x: x.lower())\n",
    "munic['count']=0\n",
    "\n",
    "#We set commune as the index here. And one region contains several communes:  \n",
    "munic=munic.set_index('comune')\n",
    "munic.head()"
   ]
  },
  {
   "cell_type": "markdown",
   "metadata": {},
   "source": [
    "We group all communes according to their regions, and calculate the total number of regions in each comune:"
   ]
  },
  {
   "cell_type": "code",
   "execution_count": 49,
   "metadata": {},
   "outputs": [],
   "source": [
    "def wordInString(word, string_value):\n",
    "    return True if re.search(r'\\b' + word + r'\\b', string_value) else False"
   ]
  },
  {
   "cell_type": "code",
   "execution_count": 50,
   "metadata": {},
   "outputs": [],
   "source": [
    "def count_c(name):\n",
    "    tweet_comune=tweets[tweets['content'].apply(lambda x: wordInString(name, x))]\n",
    "    total=tweet_comune.content.count()\n",
    "    munic.at[name, 'count']=total"
   ]
  },
  {
   "cell_type": "code",
   "execution_count": 51,
   "metadata": {},
   "outputs": [],
   "source": [
    "def count_r(name):\n",
    "    tweet_reg=tweets[tweets['content'].apply(lambda x: wordInString(name.lower(), x.lower()))]\n",
    "    total=tweet_reg.content.count()\n",
    "    reg.at[name, 'tot']=reg.loc[name,'tot']+total"
   ]
  },
  {
   "cell_type": "code",
   "execution_count": 52,
   "metadata": {},
   "outputs": [],
   "source": [
    "list_comuni=munic.index.tolist()\n",
    "for m in list_comuni:\n",
    "    count_c(m)"
   ]
  },
  {
   "cell_type": "code",
   "execution_count": 53,
   "metadata": {},
   "outputs": [],
   "source": [
    "reg=munic.groupby(by='regione')['count'].agg('sum').reset_index().rename(columns={'count':'tot'}).set_index('regione')"
   ]
  },
  {
   "cell_type": "code",
   "execution_count": 54,
   "metadata": {},
   "outputs": [],
   "source": [
    "list_regioni=reg.index.tolist()\n",
    "for m in list_regioni:\n",
    "    count_r(m)"
   ]
  },
  {
   "cell_type": "markdown",
   "metadata": {},
   "source": [
    "The result is like the following:"
   ]
  },
  {
   "cell_type": "code",
   "execution_count": 55,
   "metadata": {},
   "outputs": [
    {
     "data": {
      "text/html": [
       "<div>\n",
       "<style scoped>\n",
       "    .dataframe tbody tr th:only-of-type {\n",
       "        vertical-align: middle;\n",
       "    }\n",
       "\n",
       "    .dataframe tbody tr th {\n",
       "        vertical-align: top;\n",
       "    }\n",
       "\n",
       "    .dataframe thead th {\n",
       "        text-align: right;\n",
       "    }\n",
       "</style>\n",
       "<table border=\"1\" class=\"dataframe\">\n",
       "  <thead>\n",
       "    <tr style=\"text-align: right;\">\n",
       "      <th></th>\n",
       "      <th>tot</th>\n",
       "    </tr>\n",
       "    <tr>\n",
       "      <th>regione</th>\n",
       "      <th></th>\n",
       "    </tr>\n",
       "  </thead>\n",
       "  <tbody>\n",
       "    <tr>\n",
       "      <th>abruzzo</th>\n",
       "      <td>91</td>\n",
       "    </tr>\n",
       "    <tr>\n",
       "      <th>basilicata</th>\n",
       "      <td>87</td>\n",
       "    </tr>\n",
       "    <tr>\n",
       "      <th>calabria</th>\n",
       "      <td>244</td>\n",
       "    </tr>\n",
       "    <tr>\n",
       "      <th>campania</th>\n",
       "      <td>745</td>\n",
       "    </tr>\n",
       "    <tr>\n",
       "      <th>emilia-romagna</th>\n",
       "      <td>356</td>\n",
       "    </tr>\n",
       "    <tr>\n",
       "      <th>friuli-venezia giulia</th>\n",
       "      <td>55</td>\n",
       "    </tr>\n",
       "    <tr>\n",
       "      <th>lazio</th>\n",
       "      <td>1046</td>\n",
       "    </tr>\n",
       "    <tr>\n",
       "      <th>liguria</th>\n",
       "      <td>176</td>\n",
       "    </tr>\n",
       "    <tr>\n",
       "      <th>lombardia</th>\n",
       "      <td>786</td>\n",
       "    </tr>\n",
       "    <tr>\n",
       "      <th>marche</th>\n",
       "      <td>67</td>\n",
       "    </tr>\n",
       "    <tr>\n",
       "      <th>molise</th>\n",
       "      <td>52</td>\n",
       "    </tr>\n",
       "    <tr>\n",
       "      <th>piemonte</th>\n",
       "      <td>425</td>\n",
       "    </tr>\n",
       "    <tr>\n",
       "      <th>puglia</th>\n",
       "      <td>305</td>\n",
       "    </tr>\n",
       "    <tr>\n",
       "      <th>sardegna</th>\n",
       "      <td>84</td>\n",
       "    </tr>\n",
       "    <tr>\n",
       "      <th>sicilia</th>\n",
       "      <td>368</td>\n",
       "    </tr>\n",
       "    <tr>\n",
       "      <th>toscana</th>\n",
       "      <td>329</td>\n",
       "    </tr>\n",
       "    <tr>\n",
       "      <th>trentino-alto adige/südtirol</th>\n",
       "      <td>276</td>\n",
       "    </tr>\n",
       "    <tr>\n",
       "      <th>umbria</th>\n",
       "      <td>65</td>\n",
       "    </tr>\n",
       "    <tr>\n",
       "      <th>valle d'aosta/vallée d'aoste</th>\n",
       "      <td>8</td>\n",
       "    </tr>\n",
       "    <tr>\n",
       "      <th>veneto</th>\n",
       "      <td>459</td>\n",
       "    </tr>\n",
       "  </tbody>\n",
       "</table>\n",
       "</div>"
      ],
      "text/plain": [
       "                               tot\n",
       "regione                           \n",
       "abruzzo                       91  \n",
       "basilicata                    87  \n",
       "calabria                      244 \n",
       "campania                      745 \n",
       "emilia-romagna                356 \n",
       "friuli-venezia giulia         55  \n",
       "lazio                         1046\n",
       "liguria                       176 \n",
       "lombardia                     786 \n",
       "marche                        67  \n",
       "molise                        52  \n",
       "piemonte                      425 \n",
       "puglia                        305 \n",
       "sardegna                      84  \n",
       "sicilia                       368 \n",
       "toscana                       329 \n",
       "trentino-alto adige/südtirol  276 \n",
       "umbria                        65  \n",
       "valle d'aosta/vallée d'aoste  8   \n",
       "veneto                        459 "
      ]
     },
     "execution_count": 55,
     "metadata": {},
     "output_type": "execute_result"
    }
   ],
   "source": [
    "reg"
   ]
  },
  {
   "cell_type": "markdown",
   "metadata": {},
   "source": [
    "### Time analysis"
   ]
  },
  {
   "cell_type": "code",
   "execution_count": 56,
   "metadata": {},
   "outputs": [],
   "source": [
    "#We concantenate italian tweets of 2 datasets together, and drop the duplicate:\n",
    "times=pd.concat([italian_tweets[['content','author','time']],italian_tweets_old[['content','author','time']]])\n",
    "times=times.drop_duplicates(subset='content')"
   ]
  },
  {
   "cell_type": "code",
   "execution_count": 57,
   "metadata": {},
   "outputs": [
    {
     "name": "stdout",
     "output_type": "stream",
     "text": [
      "2012-07-09 12:16:00 2018-03-31 01:07:00\n"
     ]
    }
   ],
   "source": [
    "start_date_tweet = times['time'].min()\n",
    "end_date_tweet = times['time'].max()\n",
    "print(start_date_tweet, end_date_tweet)"
   ]
  },
  {
   "cell_type": "markdown",
   "metadata": {},
   "source": [
    "Here we have all tweets from 2012-07-09 to 2018-03-31.  We select 3 columns: content, author, time."
   ]
  },
  {
   "cell_type": "code",
   "execution_count": 58,
   "metadata": {},
   "outputs": [
    {
     "data": {
      "text/plain": [
       "content    object        \n",
       "author     object        \n",
       "time       datetime64[ns]\n",
       "dtype: object"
      ]
     },
     "execution_count": 58,
     "metadata": {},
     "output_type": "execute_result"
    }
   ],
   "source": [
    "times.dtypes"
   ]
  },
  {
   "cell_type": "code",
   "execution_count": 59,
   "metadata": {},
   "outputs": [],
   "source": [
    "#We only keep the date, because we want to calculate amount of tweets per day\n",
    "times['time']=times['time'].apply(lambda x: x.date())\n",
    "times['time'] = pd.to_datetime(times['time'])"
   ]
  },
  {
   "cell_type": "code",
   "execution_count": 60,
   "metadata": {},
   "outputs": [],
   "source": [
    "#Then we group by all tweets according to their sending date:\n",
    "times=times.groupby(by='time',as_index=True).agg({'content':'count'}).reset_index().rename(columns={'content':'tot'})\n",
    "times.sort_values(by='time', ascending = True, inplace = True)\n",
    "times=times.set_index('time')"
   ]
  },
  {
   "cell_type": "code",
   "execution_count": 62,
   "metadata": {},
   "outputs": [
    {
     "data": {
      "text/html": [
       "<div>\n",
       "<style scoped>\n",
       "    .dataframe tbody tr th:only-of-type {\n",
       "        vertical-align: middle;\n",
       "    }\n",
       "\n",
       "    .dataframe tbody tr th {\n",
       "        vertical-align: top;\n",
       "    }\n",
       "\n",
       "    .dataframe thead th {\n",
       "        text-align: right;\n",
       "    }\n",
       "</style>\n",
       "<table border=\"1\" class=\"dataframe\">\n",
       "  <thead>\n",
       "    <tr style=\"text-align: right;\">\n",
       "      <th></th>\n",
       "      <th>tot</th>\n",
       "    </tr>\n",
       "    <tr>\n",
       "      <th>time</th>\n",
       "      <th></th>\n",
       "    </tr>\n",
       "  </thead>\n",
       "  <tbody>\n",
       "    <tr>\n",
       "      <th>2012-07-09</th>\n",
       "      <td>11</td>\n",
       "    </tr>\n",
       "    <tr>\n",
       "      <th>2012-07-10</th>\n",
       "      <td>20</td>\n",
       "    </tr>\n",
       "    <tr>\n",
       "      <th>2012-07-11</th>\n",
       "      <td>1</td>\n",
       "    </tr>\n",
       "    <tr>\n",
       "      <th>2012-07-12</th>\n",
       "      <td>11</td>\n",
       "    </tr>\n",
       "    <tr>\n",
       "      <th>2012-07-27</th>\n",
       "      <td>1</td>\n",
       "    </tr>\n",
       "  </tbody>\n",
       "</table>\n",
       "</div>"
      ],
      "text/plain": [
       "            tot\n",
       "time           \n",
       "2012-07-09  11 \n",
       "2012-07-10  20 \n",
       "2012-07-11  1  \n",
       "2012-07-12  11 \n",
       "2012-07-27  1  "
      ]
     },
     "execution_count": 62,
     "metadata": {},
     "output_type": "execute_result"
    }
   ],
   "source": [
    "times.head()"
   ]
  },
  {
   "cell_type": "code",
   "execution_count": 63,
   "metadata": {},
   "outputs": [
    {
     "data": {
      "image/png": "[encoded data removed]",
      "text/plain": [
       "<Figure size 864x576 with 1 Axes>"
      ]
     },
     "metadata": {},
     "output_type": "display_data"
    }
   ],
   "source": [
    "plt.style.use('seaborn-darkgrid')\n",
    "times['tot'].plot(linestyle = \"-\", figsize = (12,8), rot = 45, color = 'k',\n",
    "                               linewidth = 1)\n",
    "plt.title('Tweet counts by date', fontsize = 15)\n",
    "plt.xlabel('Date', fontsize = 13)\n",
    "plt.ylabel('Tweet Count', fontsize = 13)\n",
    "\n",
    "plt.show()"
   ]
  },
  {
   "cell_type": "markdown",
   "metadata": {},
   "source": [
    "From the graph above, it is obvious that there is an extraordinary peak from 2017-February to 2017-March. We are going to expand more analysis based on it."
   ]
  },
  {
   "cell_type": "code",
   "execution_count": 64,
   "metadata": {},
   "outputs": [
    {
     "data": {
      "image/png": "[encoded data removed]",
      "text/plain": [
       "<Figure size 1584x576 with 1 Axes>"
      ]
     },
     "metadata": {},
     "output_type": "display_data"
    }
   ],
   "source": [
    "peak=pd.concat([italian_tweets[['content','author','time']],italian_tweets_old[['content','author','time']]])\n",
    "peak=peak.drop_duplicates(subset='content')\n",
    "peak=peak[peak['time'].apply(lambda x:\n",
    "                         ((x<datetime.strptime('01-02-2017', '%d-%m-%Y') or \n",
    "                          (x>datetime.strptime('31-05-2017', '%d-%m-%Y'))) & \n",
    "                          (x>datetime.strptime('01-03-2014', '%d-%m-%Y')) & \n",
    "                          (x<datetime.strptime('15-11-2017', '%d-%m-%Y')))\n",
    "                        )]\n",
    "peak['time']=peak['time'].apply(lambda x: x.date())#authors.head()\n",
    "peak['time'] = pd.to_datetime(peak['time'])\n",
    "peak=peak.groupby(by='time',as_index=True).agg({'content':'count'}).reset_index().rename(columns={'content':'tot'})\n",
    "peak.sort_values(by='time', ascending = True, inplace = True)\n",
    "peak=peak.set_index('time')\n",
    "\n",
    "dates_list = ['2016-12-01','2017-10-05']\n",
    "# 08-2017\n",
    "# March-May 2017 terror attacks in Europe: London, Stockholm, Paris, St Petersburg, Manchester\n",
    "# 12-2016 Italian referendum\n",
    "# 08-2015 Migratory crisis in Europe\n",
    "# 05-2014 European elections\n",
    "important_dates = pd.Series(pd.to_datetime(dates_list))\n",
    "\n",
    "summer = ['2017-07-15','2016-08-15','2015-08-10','2014-08-10']\n",
    "# 08-2017\n",
    "# March-May 2017 terror attacks in Europe: London, Stockholm, Paris, St Petersburg, Manchester\n",
    "# 12-2016 Italian referendum\n",
    "# 08-2015 Migratory crisis in Europe\n",
    "# 05-2014 European elections\n",
    "summer_dates = pd.Series(pd.to_datetime(summer))\n",
    "\n",
    "# add columns to identify important events, and mark a 0 or 1.\n",
    "peak['Summer Events'] = False\n",
    "peak.loc[summer_dates, 'Summer Events'] = True\n",
    "peak['vals'] = 0\n",
    "peak.loc[summer_dates, 'vals'] = 1\n",
    "\n",
    "peak['Important Events'] = False\n",
    "peak.loc[important_dates, 'Important Events'] = True\n",
    "peak['values'] = 0\n",
    "peak.loc[important_dates, 'values'] = 1\n",
    "\n",
    "plt.style.use('seaborn-darkgrid')\n",
    "peak['tot'].plot(linestyle = \"-\", figsize = (22,8), rot = 45, color = 'k',\n",
    "                               linewidth = 1)\n",
    "plt.title('Tweet counts by date', fontsize = 15)\n",
    "plt.xlabel('Date', fontsize = 13)\n",
    "plt.ylabel('Tweet Count', fontsize = 13)\n",
    "\n",
    "plt.plot(peak[peak['Important Events'] == True].index.values,\n",
    "         peak.loc[peak['Important Events'] == True, 'values'],\n",
    "         marker = 'o', \n",
    "         color = 'r',\n",
    "         linestyle = 'none',\n",
    "        label = 'Important Dates in politics')\n",
    "\n",
    "plt.plot(peak[peak['Summer Events'] == True].index.values,\n",
    "         peak.loc[peak['Summer Events'] == True, 'vals'],\n",
    "         marker = 'o', \n",
    "         color = 'b',\n",
    "         linestyle = 'none',\n",
    "        label = 'Summer migratory crisis')\n",
    "\n",
    "for m in peak[peak['Summer Events'] == True].index.values:\n",
    "    plt.axvline(x=m)\n",
    "    \n",
    "for m in peak[peak['Important Events'] == True].index.values:\n",
    "    plt.axvline(x=m, color='r')\n",
    "\n",
    "plt.legend(loc = 'best')\n",
    "\n",
    "plt.show()"
   ]
  },
  {
   "cell_type": "markdown",
   "metadata": {
    "collapsed": true
   },
   "source": [
    "# 2. Data Mining"
   ]
  },
  {
   "cell_type": "code",
   "execution_count": 65,
   "metadata": {},
   "outputs": [],
   "source": [
    "italian_tweets = pd.read_csv('italian_tweets.csv')\n",
    "italian_tweets_old = pd.read_csv('italian_tweets_old_notusa.csv')"
   ]
  },
  {
   "cell_type": "code",
   "execution_count": 66,
   "metadata": {},
   "outputs": [
    {
     "name": "stdout",
     "output_type": "stream",
     "text": [
      "0    rt museoomero marzo paesaggioitaliano mole vanvitelliana ancona un pentagono adagiato sullacqua dal  un exlazzaretto oggi sed\n",
      "1    rt radiotweet la ministra valeriafedeli incontra gli studenti di amatrice negli studi di via asiago qui  raipo               \n",
      "2    rt radiorai news attacco londra may riunisce comitato demergenza cobra                                                       \n",
      "Name: content, dtype: object\n"
     ]
    }
   ],
   "source": [
    "italian_tweets['tweet_time'] =  pd.to_datetime(italian_tweets['tweet_time'], format='%Y/%m/%d %H:%M')\n",
    "italian_tweets_old['publish_date'] =  pd.to_datetime(italian_tweets_old['publish_date'], format='%m/%d/%Y %H:%M')\n",
    "italian_tweets=italian_tweets.rename(index=str, columns={\"user_display_name\":\"author\",\n",
    "                                                         \"follower_count_x\": \"followers\",\n",
    "                                                         \"following_count_x\": \"following\",\n",
    "                                                         \"tweet_time\":\"time\"})\n",
    "italian_tweets_old=italian_tweets_old.rename(index=str, columns={\"publish_date\":\"time\"})\n",
    "italian_tweets=italian_tweets.rename(index=str, columns={\"tweet_text\":\"content\"})\n",
    "ita=pd.concat([italian_tweets[['content','author','time']],italian_tweets_old[['content','author','time']]])\n",
    "ita=ita.drop_duplicates(subset='content')\n",
    "regex = re.compile('[^a-zA-Z ]')\n",
    "def returntest(text):\n",
    "    text=text.lower()\n",
    "    text=regex.sub('',text) \n",
    "    text=re.sub(r'(\\s)http\\w+', r' ', text)\n",
    "    return text\n",
    "new_text = ita.content.apply(returntest)\n",
    "print(new_text.head(3))\n",
    "new_text.to_csv(\"tweets_ita.csv\")"
   ]
  },
  {
   "cell_type": "markdown",
   "metadata": {},
   "source": [
    "### Association Rules"
   ]
  },
  {
   "cell_type": "code",
   "execution_count": 67,
   "metadata": {},
   "outputs": [],
   "source": [
    "def draw_graph(rules, rules_to_show,strs):\n",
    "    G1 = nx.DiGraph()\n",
    "    color_map=[]\n",
    "    N = 50\n",
    "    colors = np.random.rand(N)       \n",
    "   \n",
    "    for i in range (rules_to_show):      \n",
    "        G1.add_nodes_from([\"R\"+str(i)])\n",
    "    \n",
    "        for a in rules.iloc[i]['antecedents']:\n",
    "            G1.add_nodes_from([a])\n",
    "            G1.add_edge(a, \"R\"+str(i), color=colors[i] , weight = 2)\n",
    "       \n",
    "        for c in rules.iloc[i]['consequents']:\n",
    "            G1.add_nodes_from([c])\n",
    "            G1.add_edge(\"R\"+str(i), c, color=colors[i],  weight=2)\n",
    "    \n",
    "    for node in G1:\n",
    "        found_a_string = False\n",
    "        \n",
    "        for item in strs: \n",
    "            if node==item:\n",
    "                found_a_string = True\n",
    "        if found_a_string:\n",
    "            color_map.append('yellow')\n",
    "        else:\n",
    "            color_map.append('red')       \n",
    " \n",
    " \n",
    "    edges = G1.edges()\n",
    "    colors = [G1[u][v]['color'] for u,v in edges]\n",
    "    weights = [G1[u][v]['weight'] for u,v in edges]\n",
    " \n",
    "    pos = nx.spring_layout(G1, k=16, scale=1)\n",
    "    nx.draw(G1, pos, edges=edges, node_color = color_map, edge_color=colors, width=weights, font_size=16, with_labels=False)            \n",
    "   \n",
    "    for p in pos:  # raise text positions\n",
    "        pos[p][1] += 0.07\n",
    "    \n",
    "    nx.draw_networkx_labels(G1, pos)\n",
    "    plt.show()"
   ]
  },
  {
   "cell_type": "code",
   "execution_count": 68,
   "metadata": {},
   "outputs": [
    {
     "name": "stdout",
     "output_type": "stream",
     "text": [
      "(31851, 2)\n"
     ]
    }
   ],
   "source": [
    "italian_tweets_text = pd.read_csv('tweets_ita.csv',header=None)\n",
    "print(italian_tweets_text.shape)\n",
    "stopwords = pd.read_json('stopwords-it.json')"
   ]
  },
  {
   "cell_type": "code",
   "execution_count": 69,
   "metadata": {},
   "outputs": [],
   "source": [
    "stopwords = stopwords[0].tolist()"
   ]
  },
  {
   "cell_type": "code",
   "execution_count": 96,
   "metadata": {},
   "outputs": [],
   "source": [
    "list_final = []\n",
    "for text in italian_tweets_text[1]:\n",
    "    list_final.append([word.lower() for word in text.split() \n",
    "                       if (word.lower() not in stopwords and\n",
    "                           (len(word)>3 or word in ['pd','ms']))])\n",
    "    \n",
    "#list_final"
   ]
  },
  {
   "cell_type": "code",
   "execution_count": 71,
   "metadata": {},
   "outputs": [],
   "source": [
    "te = TransactionEncoder()\n",
    "te_ary = te.fit(list_final).transform(list_final)\n",
    "df = pd.DataFrame(te_ary,columns=te.columns_)"
   ]
  },
  {
   "cell_type": "code",
   "execution_count": 72,
   "metadata": {},
   "outputs": [],
   "source": [
    "frequent_items = apriori(df, min_support=0.001, use_colnames=True, max_len = 2)"
   ]
  },
  {
   "cell_type": "code",
   "execution_count": 73,
   "metadata": {},
   "outputs": [
    {
     "data": {
      "text/html": [
       "<div>\n",
       "<style scoped>\n",
       "    .dataframe tbody tr th:only-of-type {\n",
       "        vertical-align: middle;\n",
       "    }\n",
       "\n",
       "    .dataframe tbody tr th {\n",
       "        vertical-align: top;\n",
       "    }\n",
       "\n",
       "    .dataframe thead th {\n",
       "        text-align: right;\n",
       "    }\n",
       "</style>\n",
       "<table border=\"1\" class=\"dataframe\">\n",
       "  <thead>\n",
       "    <tr style=\"text-align: right;\">\n",
       "      <th></th>\n",
       "      <th>support</th>\n",
       "      <th>itemsets</th>\n",
       "    </tr>\n",
       "  </thead>\n",
       "  <tbody>\n",
       "    <tr>\n",
       "      <th>1165</th>\n",
       "      <td>0.005369</td>\n",
       "      <td>(renzi, pd)</td>\n",
       "    </tr>\n",
       "    <tr>\n",
       "      <th>1103</th>\n",
       "      <td>0.004929</td>\n",
       "      <td>(nord, corea)</td>\n",
       "    </tr>\n",
       "    <tr>\n",
       "      <th>1164</th>\n",
       "      <td>0.004270</td>\n",
       "      <td>(primarie, pd)</td>\n",
       "    </tr>\n",
       "    <tr>\n",
       "      <th>1138</th>\n",
       "      <td>0.004144</td>\n",
       "      <td>(video, lastampa)</td>\n",
       "    </tr>\n",
       "    <tr>\n",
       "      <th>1098</th>\n",
       "      <td>0.002763</td>\n",
       "      <td>(canale, ultimora)</td>\n",
       "    </tr>\n",
       "  </tbody>\n",
       "</table>\n",
       "</div>"
      ],
      "text/plain": [
       "       support            itemsets\n",
       "1165  0.005369  (renzi, pd)       \n",
       "1103  0.004929  (nord, corea)     \n",
       "1164  0.004270  (primarie, pd)    \n",
       "1138  0.004144  (video, lastampa) \n",
       "1098  0.002763  (canale, ultimora)"
      ]
     },
     "execution_count": 73,
     "metadata": {},
     "output_type": "execute_result"
    }
   ],
   "source": [
    "couple = frequent_items [frequent_items['itemsets'].apply(lambda x: len(x)==2)]\n",
    "couple = couple.sort_values(by=['support'],ascending= False)\n",
    "couple.head()"
   ]
  },
  {
   "cell_type": "code",
   "execution_count": 74,
   "metadata": {},
   "outputs": [],
   "source": [
    "table = association_rules(frequent_items, metric=\"confidence\", min_threshold=0.2)\n",
    "table = table.sort_values(by=['confidence'],ascending= False)"
   ]
  },
  {
   "cell_type": "code",
   "execution_count": 88,
   "metadata": {},
   "outputs": [
    {
     "data": {
      "image/png": "[encoded data removed]",
      "text/plain": [
       "<Figure size 432x288 with 1 Axes>"
      ]
     },
     "metadata": {},
     "output_type": "display_data"
    }
   ],
   "source": [
    "pd = table[(table['antecedents'].apply(lambda x: 'pd' in str(x))) | (table['consequents'].apply(lambda x: 'pd' in str(x)))]\n",
    "strs=['R0', 'R1', 'R2', 'R3', 'R4', 'R5', 'R6']\n",
    "draw_graph(pd, 7, strs)  "
   ]
  },
  {
   "cell_type": "code",
   "execution_count": 94,
   "metadata": {},
   "outputs": [
    {
     "data": {
      "image/png": "[encoded data removed]",
      "text/plain": [
       "<Figure size 432x288 with 1 Axes>"
      ]
     },
     "metadata": {},
     "output_type": "display_data"
    }
   ],
   "source": [
    "text = \" \".join([word for tweet in list_final for word in tweet])\n",
    "wordcloud = WordCloud(background_color=\"white\").generate(text)\n",
    "plt.imshow(wordcloud, interpolation='bilinear')\n",
    "plt.axis(\"off\")\n",
    "plt.show()"
   ]
  },
  {
   "cell_type": "code",
   "execution_count": 95,
   "metadata": {},
   "outputs": [
    {
     "data": {
      "image/png": "[encoded data removed]",
      "text/plain": [
       "<Figure size 432x288 with 1 Axes>"
      ]
     },
     "metadata": {},
     "output_type": "display_data"
    }
   ],
   "source": [
    "papers=['Corriere della Sera','repubblica','repubblicait','SoleORE','QuotidianoNazionale',\n",
    "        'Gazzettait','laStampa','ilMessaggeroit','quotidianonazionale','ilpost',\n",
    "        'corriere','ilgiornale','Avvenire','Tuttosport','libero',\n",
    "        'FattoQuotidiano','Mattinodinapoli','huffpost','linkiesta',\n",
    "        'adnkronos','agenziaansa','video','giornalettismo','ilpost',\n",
    "        'lettera','huffpostitalia','agenziaitalia','skytg','skysport','internazionale',\n",
    "        'perch','foto','repubblicatv','wireditalia','news','diretta','leggo','radiorai']\n",
    "papers=[m.lower() for m in papers]\n",
    "text = \" \".join([word for tweet in list_final for word in tweet if word not in papers])\n",
    "wordcloud = WordCloud(background_color=\"white\").generate(text)\n",
    "plt.imshow(wordcloud, interpolation='bilinear')\n",
    "plt.axis(\"off\")\n",
    "plt.show()"
   ]
  }
 ],
 "metadata": {
  "kernelspec": {
   "display_name": "Python [default]",
   "language": "python",
   "name": "python3"
  },
  "language_info": {
   "codemirror_mode": {
    "name": "ipython",
    "version": 3
   },
   "file_extension": ".py",
   "mimetype": "text/x-python",
   "name": "python",
   "nbconvert_exporter": "python",
   "pygments_lexer": "ipython3",
   "version": "3.6.5"
  }
 },
 "nbformat": 4,
 "nbformat_minor": 2
}
